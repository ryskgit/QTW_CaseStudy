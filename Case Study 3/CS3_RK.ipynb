{
 "cells": [
  {
   "cell_type": "markdown",
   "metadata": {},
   "source": [
    "<h1><center>Case Study 3:</center></h1>\n",
    "<h2><center>Spam Classifier, Bayes and Clustering</center></h2>\n",
    "<h3>Authors:</h3>\n",
    "Joaquin Dominguez <br>\n",
    "Richard Kim <br>"
   ]
  },
  {
   "cell_type": "markdown",
   "metadata": {},
   "source": [
    "### Importing/Merging from local folder"
   ]
  },
  {
   "cell_type": "markdown",
   "metadata": {},
   "source": [
    "- The path must contain all folders with emails\n",
    "- Folders must have 'ham' or 'spam' in its name, and the rest of the directory must not include 'ham'\n",
    "- If 'ham' is included in a spam folder's directory, spam emails may labeled 'ham' later on"
   ]
  },
  {
   "cell_type": "code",
   "execution_count": 133,
   "metadata": {},
   "outputs": [
    {
     "name": "stdout",
     "output_type": "stream",
     "text": [
      "easy_ham\n",
      "easy_ham_2\n",
      "hard_ham\n",
      "spam\n",
      "spam_2\n"
     ]
    }
   ],
   "source": [
    "import os\n",
    "\n",
    "folders_path = 'D:\\Shared Lenovo\\Data Science\\Semester 4\\Quantifying the World\\Case Study 3\\SpamAssassinMessages'\n",
    "\n",
    "file_list = []\n",
    "for root, dirs, files in os.walk(folders_path, topdown=False):\n",
    "    for name in files:\n",
    "        tmp = os.path.join(root,name)\n",
    "        file_list.append(tmp)\n",
    "    for item in dirs:\n",
    "        print(item)"
   ]
  },
  {
   "cell_type": "code",
   "execution_count": 134,
   "metadata": {},
   "outputs": [
    {
     "data": {
      "text/plain": [
       "9353"
      ]
     },
     "execution_count": 134,
     "metadata": {},
     "output_type": "execute_result"
    }
   ],
   "source": [
    "# Total number of files\n",
    "len(file_list)"
   ]
  },
  {
   "cell_type": "markdown",
   "metadata": {},
   "source": [
    "### Parsing Emails: Text vs Multipart"
   ]
  },
  {
   "cell_type": "markdown",
   "metadata": {},
   "source": [
    "- Email messages are parsed into 1 of 2 arrays, text emails and multipart emails\n",
    "- Content types (e.g. text) and labels (e.g. spam) are saved in separate arrays for each category (text vs multipart)\n",
    "- Directories are saved as unique IDs\n",
    "- Messages with multipart content types that **DID NOT contain content types for each of its parts** were treated like single texts"
   ]
  },
  {
   "cell_type": "code",
   "execution_count": 141,
   "metadata": {},
   "outputs": [],
   "source": [
    "# All-in-One\n",
    "import email\n",
    "\n",
    "text_list = []\n",
    "\n",
    "messages_list = []\n",
    "type_list = []\n",
    "labels = []\n",
    "\n",
    "uniq_mult_list = []\n",
    "mult_list = []\n",
    "\n",
    "mult_messages_list = []\n",
    "mult_type_list = []\n",
    "mult_labels = []\n",
    "\n",
    "for i in range(len(file_list)):\n",
    "    with open(file_list[i],'r',encoding='latin1') as f:        \n",
    "        message = email.message_from_file(f)\n",
    "        body = message.get_payload()\n",
    "        content_type = message.get_content_type()\n",
    "        \n",
    "        if 'text' in content_type: \n",
    "            text_list.append(file_list[i])\n",
    "            messages_list.append(body)\n",
    "            if 'ham' in file_list[i]:\n",
    "                labels.append(0)\n",
    "            else: \n",
    "                labels.append(1)\n",
    "            type_list.append(content_type)\n",
    "        elif 'mult' in content_type: \n",
    "            uniq_mult_list.append(file_list[i])\n",
    "            if 'text' in body:\n",
    "                mult_list.append(file_list[i])\n",
    "                mult_messages_list.append(body)\n",
    "                mult_type_list.append(content_type)\n",
    "                if 'ham' in file_list[i]:\n",
    "                    mult_labels.append(0)\n",
    "                else: \n",
    "                    mult_labels.append(1)\n",
    "            else: \n",
    "                for j in body: \n",
    "                    if 'text' in j.get_content_type(): \n",
    "                        mult_list.append(file_list[i])\n",
    "                        mult_messages_list.append(j.get_payload())\n",
    "                        mult_type_list.append(j.get_content_type())\n",
    "                        if 'ham' in file_list[i]:\n",
    "                            mult_labels.append(0)\n",
    "                        else: \n",
    "                            mult_labels.append(1)"
   ]
  },
  {
   "cell_type": "code",
   "execution_count": 142,
   "metadata": {},
   "outputs": [
    {
     "name": "stdout",
     "output_type": "stream",
     "text": [
      "**Total Number of Files**\n",
      "9353 \n",
      "\n",
      "**Text Emails**\n",
      "Text Email Count: 8607\n",
      "Messages: 8607\n",
      "Spam/Ham Labels: 8607\n",
      "Content Type Labels: 8607 \n",
      "\n",
      "**Multipart Emails**\n",
      "Multipart Email Count: 746\n",
      "Separated Messages: 1034\n",
      "Spam/Ham Labels: 1034\n",
      "Content Type Labels: 1034 \n",
      "\n"
     ]
    }
   ],
   "source": [
    "# All-in-one count of files\n",
    "print('**Total Number of Files**')\n",
    "print(len(file_list), '\\n')\n",
    "\n",
    "print('**Text Emails**')\n",
    "print('Text Email Count:',len(text_list))\n",
    "print('Messages:',len(messages_list))\n",
    "print('Spam/Ham Labels:',len(labels))\n",
    "print('Content Type Labels:',len(type_list), '\\n')\n",
    "\n",
    "print('**Multipart Emails**')\n",
    "print('Multipart Email Count:',len(uniq_mult_list))\n",
    "print('Separated Messages:',len(mult_messages_list))\n",
    "print('Spam/Ham Labels:',len(mult_labels))\n",
    "print('Content Type Labels:',len(mult_type_list), '\\n')"
   ]
  },
  {
   "cell_type": "code",
   "execution_count": 143,
   "metadata": {},
   "outputs": [],
   "source": [
    "import pandas as pd\n",
    "\n",
    "text_df = pd.DataFrame({'directory':text_list,'message':messages_list,'spam1':labels,'content type':type_list})\n",
    "mult_df = pd.DataFrame({'directory':mult_list,'message':mult_messages_list,'spam1':mult_labels,'content type':mult_type_list})"
   ]
  },
  {
   "cell_type": "code",
   "execution_count": 179,
   "metadata": {},
   "outputs": [
    {
     "name": "stderr",
     "output_type": "stream",
     "text": [
      "C:\\Users\\Rysk\\AppData\\Local\\Temp\\ipykernel_9168\\1166868884.py:5: FutureWarning: Passing a negative integer is deprecated in version 1.0 and will not be supported in future version. Instead, use None to not limit the column width.\n",
      "  pd.set_option(\"display.max_colwidth\", -1)\n"
     ]
    },
    {
     "data": {
      "text/plain": [
       "677"
      ]
     },
     "execution_count": 179,
     "metadata": {},
     "output_type": "execute_result"
    }
   ],
   "source": [
    "# Checking how many directories come up more than once (indicating 2+ messages from a multipart email)\n",
    "dups = mult_df.groupby(mult_df['directory'],as_index=False).size()\n",
    "multipart_df = pd.merge(mult_df, dups, on='directory', how='left')\n",
    "test = multipart_df[multipart_df['size'] > 1]\n",
    "\n",
    "pd.set_option(\"display.max_colwidth\", -1)\n",
    "pd.set_option('display.max_rows', None)\n",
    "\n",
    "#print(test['message'])\n",
    "sum(multipart_df['size'] > 1)"
   ]
  },
  {
   "cell_type": "markdown",
   "metadata": {},
   "source": [
    "### Appendix (additional codes)"
   ]
  },
  {
   "cell_type": "code",
   "execution_count": 138,
   "metadata": {},
   "outputs": [],
   "source": [
    "# Text Emails (multipart directories saved elsewhere)\n",
    "import email\n",
    "text_list = []\n",
    "messages_list = []\n",
    "type_list = []\n",
    "labels = []\n",
    "\n",
    "mult_list = []\n",
    "\n",
    "for i in range(len(file_list)):\n",
    "    with open(file_list[i],'r',encoding='latin1') as f:     \n",
    "        text_list.append(file_list[i])   \n",
    "        message = email.message_from_file(f)\n",
    "        body = message.get_payload()\n",
    "        content_type = message.get_content_type()\n",
    "        \n",
    "        if 'text' in content_type: \n",
    "            messages_list.append(body)\n",
    "            if 'ham' in file_list[i]:\n",
    "                labels.append(0)\n",
    "            else: \n",
    "                labels.append(1)\n",
    "            type_list.append(content_type)\n",
    "        elif 'mult' in content_type: \n",
    "            mult_list.append(file_list[i])"
   ]
  },
  {
   "cell_type": "code",
   "execution_count": 139,
   "metadata": {},
   "outputs": [],
   "source": [
    "# Multipart (keep parts where content types are text)\n",
    "mult_messages_list = []\n",
    "mult_type_list = []\n",
    "mult_labels = []\n",
    "\n",
    "for i in range(len(mult_list)):\n",
    "    with open(mult_list[i],'r',encoding='latin1') as f:\n",
    "        messages = email.message_from_file(f)\n",
    "        body = messages.get_payload()\n",
    "        content_type = messages.get_content_type()\n",
    "\n",
    "        if 'text' in body:\n",
    "            mult_messages_list.append(body)\n",
    "            mult_type_list.append(content_type)\n",
    "            if 'ham' in mult_list[i]:\n",
    "                mult_labels.append(0)\n",
    "            else: \n",
    "                mult_labels.append(1)\n",
    "        else: \n",
    "            for j in body: \n",
    "                if 'text' in j.get_content_type(): \n",
    "                    mult_messages_list.append(j.get_payload())\n",
    "                    mult_type_list.append(j.get_content_type())\n",
    "                    if 'ham' in mult_list[i]:\n",
    "                        mult_labels.append(0)\n",
    "                    else: \n",
    "                        mult_labels.append(1)"
   ]
  },
  {
   "cell_type": "markdown",
   "metadata": {},
   "source": [
    "### Checking Individual Emails"
   ]
  },
  {
   "cell_type": "code",
   "execution_count": 140,
   "metadata": {},
   "outputs": [
    {
     "name": "stdout",
     "output_type": "stream",
     "text": [
      "HABERDAR.COM - HABER VE MEDYA PORTALI\n",
      "Artýk tüm haberleri sadece tek siteden takip edebileceksiniz. Haberdar.com açýldý!\n",
      "Haber baþlýklarý, spor haberleri, teknoloji haberleri, kültür ve sanat haberleri, internet haberleri, bilim ve uzay, \n",
      "sinema, saðlýk...\n",
      "Aradýðýnýz içerik http://www.haberdar.com adresinde\n",
      "Sadece týklayýn ve haberdar olun\n",
      "\n",
      "ÿÿÿÿÿÿÿÿÿÿÿÿÿÿÿÿÿÿÿÿÿÿÿÿÿÿÿÿÿÿÿÿÿÿÿÿÿÿÿÿÿÓ+,ùÞµéX¬²'²Þu¼ÿ9 Íý8«yÚ\u001f¶\u0016­±©¢W\\zYiÞüg­jw°êÞ~ÅDAÿÛi³ÿÿÃ\fÿza¢xýÊ&þ¿Ú²ë­Ç¢¸\u001e×úÞ}Ê\u001d{³}ýÓÿÿÿÿÿÿÿÿÿÿÿÿÿÿÿÿÿÿÿÿÿÿÿÿÿÿÿÿÿÿÿÿÿÿÿJ+^±Ê(¥êÿµ©d¨¥x%ËR×¬r)z¿íjYÿ+-³û(º·\u001e~à{ùÞ¶\u001bm¦ÏÿþX¬¶Ïì¢êÜyú+ïçzßåËlþX¬¶)ß£û\"µë\u001c¢^¯ûZ\n",
      "\n",
      "\n"
     ]
    }
   ],
   "source": [
    "# Codeblock for looking at individual emails\n",
    "filename = 'spam/00116.29e39a0064e2714681726ac28ff3fdef'\n",
    "\n",
    "import os\n",
    "with open(os.path.join('D:/Shared Lenovo/Data Science/Semester 4/Quantifying the World/Case Study 3/SpamAssassinMessages/',filename),'r',encoding='latin1') as f: \n",
    "    message = email.message_from_file(f)\n",
    "    body = message.get_payload()\n",
    "    print(body)"
   ]
  }
 ],
 "metadata": {
  "kernelspec": {
   "display_name": "Python 3.8.13 ('MSDS')",
   "language": "python",
   "name": "python3"
  },
  "language_info": {
   "codemirror_mode": {
    "name": "ipython",
    "version": 3
   },
   "file_extension": ".py",
   "mimetype": "text/x-python",
   "name": "python",
   "nbconvert_exporter": "python",
   "pygments_lexer": "ipython3",
   "version": "3.8.13"
  },
  "orig_nbformat": 4,
  "vscode": {
   "interpreter": {
    "hash": "a5931864dc9479c4ce68b571298320f6b633e205978f96bc347d367667b12ef2"
   }
  }
 },
 "nbformat": 4,
 "nbformat_minor": 2
}
