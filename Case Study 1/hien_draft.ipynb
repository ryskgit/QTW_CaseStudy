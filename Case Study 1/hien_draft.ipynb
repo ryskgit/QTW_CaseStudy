{
 "cells": [
  {
   "cell_type": "code",
   "execution_count": 2,
   "id": "416d652c-c0d2-42d6-951a-9338ad436733",
   "metadata": {},
   "outputs": [],
   "source": [
    "import pandas as pd, numpy as np\n",
    "\n",
    "from sklearn.preprocessing import StandardScaler, MinMaxScaler\n",
    "from sklearn.compose import ColumnTransformer\n",
    "from sklearn.pipeline import Pipeline\n",
    "from sklearn.model_selection import train_test_split, cross_val_score, GridSearchCV\n",
    "\n",
    "from sklearn.metrics import mean_squared_error\n",
    "from sklearn.linear_model import LinearRegression, Lasso, Ridge"
   ]
  },
  {
   "cell_type": "markdown",
   "id": "0f348969-fd8b-444c-a75e-cf099707ead7",
   "metadata": {},
   "source": [
    "# Clean"
   ]
  },
  {
   "cell_type": "code",
   "execution_count": 4,
   "id": "601718a4-2b4c-4046-a857-fd728cd3b701",
   "metadata": {},
   "outputs": [],
   "source": [
    "train = pd.read_csv('https://raw.githubusercontent.com/ryskgit/QTW_CaseStudy/main/Case%20Study%201/Raw%20Data%201/train.csv')\n",
    "material = pd.read_csv('https://raw.githubusercontent.com/ryskgit/QTW_CaseStudy/main/Case%20Study%201/Raw%20Data%201/unique_m.csv')\n",
    "df = train.merge(material, on='critical_temp', how='left')"
   ]
  },
  {
   "cell_type": "code",
   "execution_count": 5,
   "id": "497e10c8-39c8-47d0-827d-2b896162a8b4",
   "metadata": {},
   "outputs": [],
   "source": [
    "df.drop(columns='material', inplace=True)"
   ]
  },
  {
   "cell_type": "code",
   "execution_count": 6,
   "id": "9de71ac3-d7de-4532-a48f-17e5fc322b64",
   "metadata": {},
   "outputs": [
    {
     "name": "stdout",
     "output_type": "stream",
     "text": [
      "['He', 'Ne', 'Ar', 'Kr', 'Xe', 'Pm', 'Po', 'At', 'Rn']\n"
     ]
    }
   ],
   "source": [
    "single_vals = df.columns[df.eq(df.iloc[0]).all()].tolist()\n",
    "print (single_vals)"
   ]
  },
  {
   "cell_type": "code",
   "execution_count": 7,
   "id": "b7123709-83ca-478e-a29b-6f56dbd9dfe8",
   "metadata": {},
   "outputs": [],
   "source": [
    "df.drop(columns=single_vals, inplace=True)"
   ]
  },
  {
   "cell_type": "code",
   "execution_count": 8,
   "id": "4fd407c7-8c6f-4cd9-9ccb-0c2c29761d05",
   "metadata": {},
   "outputs": [
    {
     "data": {
      "text/plain": [
       "(715607, 159)"
      ]
     },
     "execution_count": 8,
     "metadata": {},
     "output_type": "execute_result"
    }
   ],
   "source": [
    "df.shape"
   ]
  },
  {
   "cell_type": "code",
   "execution_count": 9,
   "id": "cef6811f-f6a8-402f-8d20-47706d4c6e30",
   "metadata": {},
   "outputs": [
    {
     "data": {
      "text/plain": [
       "0"
      ]
     },
     "execution_count": 9,
     "metadata": {},
     "output_type": "execute_result"
    }
   ],
   "source": [
    "df.isna().sum().sum()"
   ]
  },
  {
   "cell_type": "code",
   "execution_count": 10,
   "id": "12f2179e-aeff-492c-8408-95e05dccf2f0",
   "metadata": {},
   "outputs": [
    {
     "data": {
      "text/plain": [
       "1622"
      ]
     },
     "execution_count": 10,
     "metadata": {},
     "output_type": "execute_result"
    }
   ],
   "source": [
    "df.duplicated().sum()"
   ]
  },
  {
   "cell_type": "code",
   "execution_count": 12,
   "id": "24067cb5-d0f1-4b8a-bc3f-c6cc42b7fad1",
   "metadata": {},
   "outputs": [],
   "source": [
    "df.drop_duplicates(inplace=True) # dropped but we can discuss what to do them with later"
   ]
  },
  {
   "cell_type": "code",
   "execution_count": 13,
   "id": "93e8d636-6161-4523-9dff-46e69cc63f17",
   "metadata": {},
   "outputs": [
    {
     "data": {
      "text/plain": [
       "(713985, 159)"
      ]
     },
     "execution_count": 13,
     "metadata": {},
     "output_type": "execute_result"
    }
   ],
   "source": [
    "df.shape"
   ]
  },
  {
   "cell_type": "code",
   "execution_count": 14,
   "id": "9f875aa1-e652-4f72-a23b-bffb02f64860",
   "metadata": {},
   "outputs": [
    {
     "data": {
      "text/html": [
       "<div>\n",
       "<style scoped>\n",
       "    .dataframe tbody tr th:only-of-type {\n",
       "        vertical-align: middle;\n",
       "    }\n",
       "\n",
       "    .dataframe tbody tr th {\n",
       "        vertical-align: top;\n",
       "    }\n",
       "\n",
       "    .dataframe thead th {\n",
       "        text-align: right;\n",
       "    }\n",
       "</style>\n",
       "<table border=\"1\" class=\"dataframe\">\n",
       "  <thead>\n",
       "    <tr style=\"text-align: right;\">\n",
       "      <th></th>\n",
       "      <th>number_of_elements</th>\n",
       "      <th>mean_atomic_mass</th>\n",
       "      <th>wtd_mean_atomic_mass</th>\n",
       "      <th>gmean_atomic_mass</th>\n",
       "      <th>wtd_gmean_atomic_mass</th>\n",
       "      <th>entropy_atomic_mass</th>\n",
       "      <th>wtd_entropy_atomic_mass</th>\n",
       "      <th>range_atomic_mass</th>\n",
       "      <th>wtd_range_atomic_mass</th>\n",
       "      <th>std_atomic_mass</th>\n",
       "      <th>...</th>\n",
       "      <th>W</th>\n",
       "      <th>Re</th>\n",
       "      <th>Os</th>\n",
       "      <th>Ir</th>\n",
       "      <th>Pt</th>\n",
       "      <th>Au</th>\n",
       "      <th>Hg</th>\n",
       "      <th>Tl</th>\n",
       "      <th>Pb</th>\n",
       "      <th>Bi</th>\n",
       "    </tr>\n",
       "  </thead>\n",
       "  <tbody>\n",
       "    <tr>\n",
       "      <th>0</th>\n",
       "      <td>4</td>\n",
       "      <td>88.944468</td>\n",
       "      <td>57.862692</td>\n",
       "      <td>66.361592</td>\n",
       "      <td>36.116612</td>\n",
       "      <td>1.181795</td>\n",
       "      <td>1.062396</td>\n",
       "      <td>122.90607</td>\n",
       "      <td>31.794921</td>\n",
       "      <td>51.968828</td>\n",
       "      <td>...</td>\n",
       "      <td>0.0</td>\n",
       "      <td>0.0</td>\n",
       "      <td>0.0</td>\n",
       "      <td>0.0</td>\n",
       "      <td>0.0</td>\n",
       "      <td>0.0</td>\n",
       "      <td>0.0</td>\n",
       "      <td>0.0</td>\n",
       "      <td>0.0</td>\n",
       "      <td>0.0</td>\n",
       "    </tr>\n",
       "    <tr>\n",
       "      <th>1</th>\n",
       "      <td>4</td>\n",
       "      <td>88.944468</td>\n",
       "      <td>57.862692</td>\n",
       "      <td>66.361592</td>\n",
       "      <td>36.116612</td>\n",
       "      <td>1.181795</td>\n",
       "      <td>1.062396</td>\n",
       "      <td>122.90607</td>\n",
       "      <td>31.794921</td>\n",
       "      <td>51.968828</td>\n",
       "      <td>...</td>\n",
       "      <td>0.0</td>\n",
       "      <td>0.0</td>\n",
       "      <td>0.0</td>\n",
       "      <td>0.0</td>\n",
       "      <td>0.0</td>\n",
       "      <td>0.0</td>\n",
       "      <td>0.0</td>\n",
       "      <td>0.0</td>\n",
       "      <td>0.0</td>\n",
       "      <td>0.0</td>\n",
       "    </tr>\n",
       "    <tr>\n",
       "      <th>2</th>\n",
       "      <td>4</td>\n",
       "      <td>88.944468</td>\n",
       "      <td>57.862692</td>\n",
       "      <td>66.361592</td>\n",
       "      <td>36.116612</td>\n",
       "      <td>1.181795</td>\n",
       "      <td>1.062396</td>\n",
       "      <td>122.90607</td>\n",
       "      <td>31.794921</td>\n",
       "      <td>51.968828</td>\n",
       "      <td>...</td>\n",
       "      <td>0.0</td>\n",
       "      <td>0.0</td>\n",
       "      <td>0.0</td>\n",
       "      <td>0.0</td>\n",
       "      <td>0.0</td>\n",
       "      <td>0.0</td>\n",
       "      <td>0.0</td>\n",
       "      <td>0.0</td>\n",
       "      <td>0.0</td>\n",
       "      <td>2.0</td>\n",
       "    </tr>\n",
       "    <tr>\n",
       "      <th>3</th>\n",
       "      <td>4</td>\n",
       "      <td>88.944468</td>\n",
       "      <td>57.862692</td>\n",
       "      <td>66.361592</td>\n",
       "      <td>36.116612</td>\n",
       "      <td>1.181795</td>\n",
       "      <td>1.062396</td>\n",
       "      <td>122.90607</td>\n",
       "      <td>31.794921</td>\n",
       "      <td>51.968828</td>\n",
       "      <td>...</td>\n",
       "      <td>0.0</td>\n",
       "      <td>0.0</td>\n",
       "      <td>0.0</td>\n",
       "      <td>0.0</td>\n",
       "      <td>0.0</td>\n",
       "      <td>0.0</td>\n",
       "      <td>0.0</td>\n",
       "      <td>0.0</td>\n",
       "      <td>0.0</td>\n",
       "      <td>1.0</td>\n",
       "    </tr>\n",
       "    <tr>\n",
       "      <th>4</th>\n",
       "      <td>4</td>\n",
       "      <td>88.944468</td>\n",
       "      <td>57.862692</td>\n",
       "      <td>66.361592</td>\n",
       "      <td>36.116612</td>\n",
       "      <td>1.181795</td>\n",
       "      <td>1.062396</td>\n",
       "      <td>122.90607</td>\n",
       "      <td>31.794921</td>\n",
       "      <td>51.968828</td>\n",
       "      <td>...</td>\n",
       "      <td>0.0</td>\n",
       "      <td>0.0</td>\n",
       "      <td>0.0</td>\n",
       "      <td>0.0</td>\n",
       "      <td>0.0</td>\n",
       "      <td>0.0</td>\n",
       "      <td>0.0</td>\n",
       "      <td>0.0</td>\n",
       "      <td>0.0</td>\n",
       "      <td>1.0</td>\n",
       "    </tr>\n",
       "  </tbody>\n",
       "</table>\n",
       "<p>5 rows × 159 columns</p>\n",
       "</div>"
      ],
      "text/plain": [
       "   number_of_elements  mean_atomic_mass  wtd_mean_atomic_mass  \\\n",
       "0                   4         88.944468             57.862692   \n",
       "1                   4         88.944468             57.862692   \n",
       "2                   4         88.944468             57.862692   \n",
       "3                   4         88.944468             57.862692   \n",
       "4                   4         88.944468             57.862692   \n",
       "\n",
       "   gmean_atomic_mass  wtd_gmean_atomic_mass  entropy_atomic_mass  \\\n",
       "0          66.361592              36.116612             1.181795   \n",
       "1          66.361592              36.116612             1.181795   \n",
       "2          66.361592              36.116612             1.181795   \n",
       "3          66.361592              36.116612             1.181795   \n",
       "4          66.361592              36.116612             1.181795   \n",
       "\n",
       "   wtd_entropy_atomic_mass  range_atomic_mass  wtd_range_atomic_mass  \\\n",
       "0                 1.062396          122.90607              31.794921   \n",
       "1                 1.062396          122.90607              31.794921   \n",
       "2                 1.062396          122.90607              31.794921   \n",
       "3                 1.062396          122.90607              31.794921   \n",
       "4                 1.062396          122.90607              31.794921   \n",
       "\n",
       "   std_atomic_mass  ...    W   Re   Os   Ir   Pt   Au   Hg   Tl   Pb   Bi  \n",
       "0        51.968828  ...  0.0  0.0  0.0  0.0  0.0  0.0  0.0  0.0  0.0  0.0  \n",
       "1        51.968828  ...  0.0  0.0  0.0  0.0  0.0  0.0  0.0  0.0  0.0  0.0  \n",
       "2        51.968828  ...  0.0  0.0  0.0  0.0  0.0  0.0  0.0  0.0  0.0  2.0  \n",
       "3        51.968828  ...  0.0  0.0  0.0  0.0  0.0  0.0  0.0  0.0  0.0  1.0  \n",
       "4        51.968828  ...  0.0  0.0  0.0  0.0  0.0  0.0  0.0  0.0  0.0  1.0  \n",
       "\n",
       "[5 rows x 159 columns]"
      ]
     },
     "execution_count": 14,
     "metadata": {},
     "output_type": "execute_result"
    }
   ],
   "source": [
    "df.head()"
   ]
  },
  {
   "cell_type": "code",
   "execution_count": 15,
   "id": "d84ee6d9-ffe3-4f0f-a324-aedd1852419d",
   "metadata": {},
   "outputs": [
    {
     "name": "stdout",
     "output_type": "stream",
     "text": [
      "<class 'pandas.core.frame.DataFrame'>\n",
      "Int64Index: 713985 entries, 0 to 715606\n",
      "Columns: 159 entries, number_of_elements to Bi\n",
      "dtypes: float64(156), int64(3)\n",
      "memory usage: 871.6 MB\n"
     ]
    }
   ],
   "source": [
    "df.info()"
   ]
  },
  {
   "cell_type": "markdown",
   "id": "2bb353db-16e2-4a46-9df6-9d63c1ac6e6d",
   "metadata": {},
   "source": [
    "# Preprocess"
   ]
  },
  {
   "cell_type": "code",
   "execution_count": 16,
   "id": "e00cf78a-4b0e-4f03-8ecf-82fe92d7dbb0",
   "metadata": {},
   "outputs": [],
   "source": [
    "X = df.drop(columns=\"critical_temp\")\n",
    "y = df[\"critical_temp\"]\n",
    "X_train, X_test, y_train, y_test = train_test_split(X, y, test_size=0.2, random_state=77)"
   ]
  },
  {
   "cell_type": "markdown",
   "id": "e33d3747-2cf6-4586-bbe4-5057c01821d8",
   "metadata": {},
   "source": [
    "## No scaling"
   ]
  },
  {
   "cell_type": "code",
   "execution_count": 17,
   "id": "31b4b4cd-f98b-4b34-bef3-e861d009b72a",
   "metadata": {},
   "outputs": [],
   "source": [
    "lr = LinearRegression()"
   ]
  },
  {
   "cell_type": "code",
   "execution_count": 18,
   "id": "46054a60-5b9e-41ca-8887-c4867986f92a",
   "metadata": {},
   "outputs": [
    {
     "data": {
      "text/plain": [
       "LinearRegression()"
      ]
     },
     "execution_count": 18,
     "metadata": {},
     "output_type": "execute_result"
    }
   ],
   "source": [
    "lr.fit(X_train, y_train)"
   ]
  },
  {
   "cell_type": "code",
   "execution_count": 20,
   "id": "db13fa97-c848-40b0-b57f-ebf155e2669b",
   "metadata": {},
   "outputs": [
    {
     "data": {
      "text/plain": [
       "0.7385141069735254"
      ]
     },
     "execution_count": 20,
     "metadata": {},
     "output_type": "execute_result"
    }
   ],
   "source": [
    "cross_val_score(lr, X_train, y_train, cv=10, scoring='r2').mean() # r2 of internal 10 fold cv"
   ]
  },
  {
   "cell_type": "code",
   "execution_count": 21,
   "id": "36d21ab0-58de-4a1d-be47-1f9598fc8c5b",
   "metadata": {},
   "outputs": [
    {
     "data": {
      "text/plain": [
       "16.465695052030608"
      ]
     },
     "execution_count": 21,
     "metadata": {},
     "output_type": "execute_result"
    }
   ],
   "source": [
    "np.abs(cross_val_score(lr, X_train, y_train, cv=10, scoring='neg_root_mean_squared_error').mean()) # rmse of internal 10 fold cv"
   ]
  },
  {
   "cell_type": "markdown",
   "id": "2144bf87-6d90-416d-a829-7d13278f0e2b",
   "metadata": {},
   "source": [
    "## Standard Scaler"
   ]
  },
  {
   "cell_type": "code",
   "execution_count": 22,
   "id": "9d8c79fd-16c2-4b36-b75c-34b29cf8b134",
   "metadata": {},
   "outputs": [],
   "source": [
    "pipe = Pipeline([(\"scaler\", StandardScaler()), (\"lr\", LinearRegression())])"
   ]
  },
  {
   "cell_type": "code",
   "execution_count": 23,
   "id": "b2acaa8a-a1d3-40ae-a109-f0ed44f995bf",
   "metadata": {},
   "outputs": [
    {
     "data": {
      "text/plain": [
       "Pipeline(steps=[('scaler', StandardScaler()), ('lr', LinearRegression())])"
      ]
     },
     "execution_count": 23,
     "metadata": {},
     "output_type": "execute_result"
    }
   ],
   "source": [
    "pipe.fit(X_train, y_train)"
   ]
  },
  {
   "cell_type": "code",
   "execution_count": 24,
   "id": "7854fc16-b0fa-405c-b8c8-eddeb8547ecc",
   "metadata": {},
   "outputs": [
    {
     "data": {
      "text/plain": [
       "0.7385141069735293"
      ]
     },
     "execution_count": 24,
     "metadata": {},
     "output_type": "execute_result"
    }
   ],
   "source": [
    "cross_val_score(pipe, X_train, y_train, cv=10, scoring='r2').mean() # r2 of internal 10 fold cv"
   ]
  },
  {
   "cell_type": "code",
   "execution_count": 25,
   "id": "2f8efac4-d7b3-423e-9782-bd990b587450",
   "metadata": {},
   "outputs": [
    {
     "data": {
      "text/plain": [
       "16.465695052030487"
      ]
     },
     "execution_count": 25,
     "metadata": {},
     "output_type": "execute_result"
    }
   ],
   "source": [
    "np.abs(cross_val_score(pipe, X_train, y_train, cv=10, scoring='neg_root_mean_squared_error').mean()) # rmse of internal 10 fold cv"
   ]
  },
  {
   "cell_type": "markdown",
   "id": "5873e6af-52cf-4f44-aba9-3bbff2e73446",
   "metadata": {},
   "source": [
    "## Min max scaler"
   ]
  },
  {
   "cell_type": "code",
   "execution_count": 30,
   "id": "7467e4dc-ce92-4a34-b370-a6e42c1d914c",
   "metadata": {},
   "outputs": [],
   "source": [
    "pipe2 = Pipeline([(\"min_max_scaler\", MinMaxScaler()), (\"lr\", lr)])"
   ]
  },
  {
   "cell_type": "code",
   "execution_count": 31,
   "id": "f2bb5c5d-5205-4917-9e73-b21cf4f0550c",
   "metadata": {},
   "outputs": [
    {
     "data": {
      "text/plain": [
       "Pipeline(steps=[('min_max_scaler', MinMaxScaler()), ('lr', LinearRegression())])"
      ]
     },
     "execution_count": 31,
     "metadata": {},
     "output_type": "execute_result"
    }
   ],
   "source": [
    "pipe2.fit(X_train, y_train)"
   ]
  },
  {
   "cell_type": "code",
   "execution_count": 32,
   "id": "8d8d0114-afa2-4c88-b5ad-41fcdee1d5d9",
   "metadata": {},
   "outputs": [
    {
     "data": {
      "text/plain": [
       "0.7385141069735293"
      ]
     },
     "execution_count": 32,
     "metadata": {},
     "output_type": "execute_result"
    }
   ],
   "source": [
    "cross_val_score(pipe2, X_train, y_train, cv=10, scoring='r2').mean() # r2 of internal 10 fold cv"
   ]
  },
  {
   "cell_type": "code",
   "execution_count": 29,
   "id": "517db0a8-0a63-4786-b5f1-65d1b0a12429",
   "metadata": {},
   "outputs": [
    {
     "data": {
      "text/plain": [
       "16.46569505203049"
      ]
     },
     "execution_count": 29,
     "metadata": {},
     "output_type": "execute_result"
    }
   ],
   "source": [
    "np.abs(cross_val_score(pipe2, X_train, y_train, cv=10, scoring='neg_root_mean_squared_error').mean()) # rmse of internal 10 fold cv"
   ]
  },
  {
   "cell_type": "markdown",
   "id": "9417d17e-e0ea-48c1-923a-ee6584c1cfcf",
   "metadata": {},
   "source": [
    "# Modeling"
   ]
  },
  {
   "cell_type": "markdown",
   "id": "33618e8c-f455-4da2-8953-f4de374a55c3",
   "metadata": {},
   "source": [
    "## L1 / Lasso (will redo with gridsearch later today)"
   ]
  },
  {
   "cell_type": "code",
   "execution_count": 39,
   "id": "2f7953cb-3864-4ca8-9362-d98676e30299",
   "metadata": {},
   "outputs": [],
   "source": [
    "lasso = Lasso(alpha=0.1)\n",
    "\n",
    "lasso_pipeline = Pipeline(steps=[\n",
    "    (\"scaler\", StandardScaler()),\n",
    "    ('model', lasso)\n",
    "])"
   ]
  },
  {
   "cell_type": "code",
   "execution_count": 40,
   "id": "48da808e-d797-4fb3-a838-62d2b0df64f8",
   "metadata": {},
   "outputs": [],
   "source": [
    "_ = lasso_pipeline.fit(X_train, y_train)"
   ]
  },
  {
   "cell_type": "code",
   "execution_count": 41,
   "id": "ef25122d-f1af-4e7b-a063-d30e4cf46160",
   "metadata": {},
   "outputs": [
    {
     "data": {
      "text/plain": [
       "0.7210531214770268"
      ]
     },
     "execution_count": 41,
     "metadata": {},
     "output_type": "execute_result"
    }
   ],
   "source": [
    "lasso_pipeline.score(X_test, y_test)"
   ]
  },
  {
   "cell_type": "code",
   "execution_count": 44,
   "id": "ab4eab0c-4a10-45e6-9e6d-276b529766d7",
   "metadata": {},
   "outputs": [
    {
     "data": {
      "text/plain": [
       "16.996925199689926"
      ]
     },
     "execution_count": 44,
     "metadata": {},
     "output_type": "execute_result"
    }
   ],
   "source": [
    "preds = lasso_pipeline.predict(X_test)\n",
    "np.sqrt(mean_squared_error(y_test, preds)) # "
   ]
  },
  {
   "cell_type": "markdown",
   "id": "85ef8668-5fea-4ca9-8701-297bc4d3161a",
   "metadata": {},
   "source": [
    "## L2 / Ridge"
   ]
  },
  {
   "cell_type": "code",
   "execution_count": null,
   "id": "55114368-8e41-4211-952f-9ba452a94874",
   "metadata": {},
   "outputs": [],
   "source": []
  },
  {
   "cell_type": "code",
   "execution_count": null,
   "id": "978d61d7-c0d2-4b5f-87c7-f3b111df4b39",
   "metadata": {},
   "outputs": [],
   "source": []
  },
  {
   "cell_type": "code",
   "execution_count": null,
   "id": "29083c3c-b252-40d9-bd3b-fa91b3609078",
   "metadata": {},
   "outputs": [],
   "source": []
  },
  {
   "cell_type": "code",
   "execution_count": null,
   "id": "593bc35f-397d-4fd4-acd3-7e6218f176e6",
   "metadata": {},
   "outputs": [],
   "source": []
  },
  {
   "cell_type": "code",
   "execution_count": null,
   "id": "e8daa66c-b238-4e63-8df2-1c67c59a5901",
   "metadata": {},
   "outputs": [],
   "source": []
  },
  {
   "cell_type": "code",
   "execution_count": null,
   "id": "83a134a6-8f43-4a5a-b3eb-05c5b4e56689",
   "metadata": {},
   "outputs": [],
   "source": []
  },
  {
   "cell_type": "code",
   "execution_count": null,
   "id": "5cf8858c-fc12-4343-981b-7889ce6a1ee5",
   "metadata": {},
   "outputs": [],
   "source": []
  }
 ],
 "metadata": {
  "kernelspec": {
   "display_name": "Python 3 (ipykernel)",
   "language": "python",
   "name": "python3"
  },
  "language_info": {
   "codemirror_mode": {
    "name": "ipython",
    "version": 3
   },
   "file_extension": ".py",
   "mimetype": "text/x-python",
   "name": "python",
   "nbconvert_exporter": "python",
   "pygments_lexer": "ipython3",
   "version": "3.9.12"
  }
 },
 "nbformat": 4,
 "nbformat_minor": 5
}
