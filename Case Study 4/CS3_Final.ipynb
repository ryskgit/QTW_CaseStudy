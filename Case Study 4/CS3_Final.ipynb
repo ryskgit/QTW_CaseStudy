{
 "cells": [
  {
   "cell_type": "markdown",
   "metadata": {},
   "source": [
    "<h1><center>Case Study 3:</center></h1>\n",
    "<h2><center>Spam Classifier, Bayes and Clustering</center></h2>\n",
    "<h3>Authors:</h3>\n",
    "Joaquin Dominguez <br>\n",
    "Richard Kim <br>"
   ]
  },
  {
   "cell_type": "code",
   "execution_count": null,
   "metadata": {},
   "outputs": [],
   "source": [
    "import re\n",
    "from bs4 import BeautifulSoup\n",
    "from nltk.corpus import stopwords\n",
    "from nltk.stem import WordNetLemmatizer\n",
    "import string\n",
    "from nltk.stem import PorterStemmer\n",
    "from nltk.stem import WordNetLemmatizer\n",
    "import matplotlib.pyplot as plt\n",
    "import seaborn as sns\n",
    "from sklearn.model_selection import train_test_split\n",
    "from sklearn.feature_extraction.text import CountVectorizer\n",
    "import numpy as np\n",
    "from sklearn.feature_extraction.text import TfidfVectorizer\n",
    "from sklearn.neighbors import KNeighborsClassifier\n",
    "from sklearn.naive_bayes import MultinomialNB\n",
    "from sklearn.metrics import precision_score, accuracy_score, recall_score, confusion_matrix"
   ]
  },
  {
   "cell_type": "markdown",
   "metadata": {},
   "source": [
    "### Importing/Merging from local folder"
   ]
  },
  {
   "cell_type": "markdown",
   "metadata": {},
   "source": [
    "- The path must contain all folders with emails\n",
    "- Folders must have 'ham' or 'spam' in its name, and the rest of the directory must not include 'ham'\n",
    "- If 'ham' is included in a spam folder's directory, spam emails may labeled 'ham' later on"
   ]
  },
  {
   "cell_type": "code",
   "execution_count": 2,
   "metadata": {},
   "outputs": [
    {
     "name": "stdout",
     "output_type": "stream",
     "text": [
      "spam\n",
      "hard_ham\n",
      "spam_2\n",
      "easy_ham\n",
      "easy_ham_2\n"
     ]
    }
   ],
   "source": [
    "import os\n",
    "\n",
    "folders_path = '/Users/joaquindominguez/Library/CloudStorage/Box-Box/SMU/QuantTheWorld/case_studies/QTW_CaseStudy/Case Study 3/Data'\n",
    "\n",
    "file_list = []\n",
    "for root, dirs, files in os.walk(folders_path, topdown=False):\n",
    "    for name in files:\n",
    "        tmp = os.path.join(root,name)\n",
    "        file_list.append(tmp)\n",
    "    for item in dirs:\n",
    "        print(item)"
   ]
  },
  {
   "cell_type": "code",
   "execution_count": 3,
   "metadata": {},
   "outputs": [
    {
     "data": {
      "text/plain": [
       "9353"
      ]
     },
     "execution_count": 3,
     "metadata": {},
     "output_type": "execute_result"
    }
   ],
   "source": [
    "# Total number of files\n",
    "len(file_list)"
   ]
  },
  {
   "cell_type": "markdown",
   "metadata": {},
   "source": [
    "### Parsing Emails: Text vs Multipart"
   ]
  },
  {
   "cell_type": "markdown",
   "metadata": {},
   "source": [
    "- Email messages are parsed into 1 of 2 arrays, text emails and multipart emails\n",
    "- Content types (e.g. text) and labels (e.g. spam) are saved in separate arrays for each category (text vs multipart)\n",
    "- Directories are saved as unique IDs\n",
    "- Messages with multipart content types that **DID NOT contain content types for each of its parts** were treated like single texts"
   ]
  },
  {
   "cell_type": "code",
   "execution_count": 4,
   "metadata": {},
   "outputs": [],
   "source": [
    "# All-in-One\n",
    "import email\n",
    "\n",
    "text_list = []\n",
    "\n",
    "messages_list = []\n",
    "type_list = []\n",
    "labels = []\n",
    "\n",
    "uniq_mult_list = []\n",
    "mult_list = []\n",
    "\n",
    "mult_messages_list = []\n",
    "mult_type_list = []\n",
    "mult_labels = []\n",
    "\n",
    "for i in range(len(file_list)):\n",
    "    with open(file_list[i],'r',encoding='latin1') as f:        \n",
    "        message = email.message_from_file(f)\n",
    "        body = message.get_payload()\n",
    "        content_type = message.get_content_type()\n",
    "        \n",
    "        if 'text' in content_type: \n",
    "            text_list.append(file_list[i])\n",
    "            messages_list.append(body)\n",
    "            if 'ham' in file_list[i]:\n",
    "                labels.append(0)\n",
    "            else: \n",
    "                labels.append(1)\n",
    "            type_list.append(content_type)\n",
    "        elif 'mult' in content_type: \n",
    "            uniq_mult_list.append(file_list[i])\n",
    "            if 'text' in body:\n",
    "                mult_list.append(file_list[i])\n",
    "                mult_messages_list.append(body)\n",
    "                mult_type_list.append(content_type)\n",
    "                if 'ham' in file_list[i]:\n",
    "                    mult_labels.append(0)\n",
    "                else: \n",
    "                    mult_labels.append(1)\n",
    "            else: \n",
    "                for j in body: \n",
    "                    if 'text' in j.get_content_type(): \n",
    "                        mult_list.append(file_list[i])\n",
    "                        mult_messages_list.append(j.get_payload())\n",
    "                        mult_type_list.append(j.get_content_type())\n",
    "                        if 'ham' in file_list[i]:\n",
    "                            mult_labels.append(0)\n",
    "                        else: \n",
    "                            mult_labels.append(1)"
   ]
  },
  {
   "cell_type": "code",
   "execution_count": 5,
   "metadata": {},
   "outputs": [
    {
     "name": "stdout",
     "output_type": "stream",
     "text": [
      "**Total Number of Files**\n",
      "9353 \n",
      "\n",
      "**Text Emails**\n",
      "Text Email Count: 8607\n",
      "Messages: 8607\n",
      "Spam/Ham Labels: 8607\n",
      "Content Type Labels: 8607 \n",
      "\n",
      "**Multipart Emails**\n",
      "Multipart Email Count: 746\n",
      "Separated Messages: 1034\n",
      "Spam/Ham Labels: 1034\n",
      "Content Type Labels: 1034 \n",
      "\n"
     ]
    }
   ],
   "source": [
    "# All-in-one count of files\n",
    "print('**Total Number of Files**')\n",
    "print(len(file_list), '\\n')\n",
    "\n",
    "print('**Text Emails**')\n",
    "print('Text Email Count:',len(text_list))\n",
    "print('Messages:',len(messages_list))\n",
    "print('Spam/Ham Labels:',len(labels))\n",
    "print('Content Type Labels:',len(type_list), '\\n')\n",
    "\n",
    "print('**Multipart Emails**')\n",
    "print('Multipart Email Count:',len(uniq_mult_list))\n",
    "print('Separated Messages:',len(mult_messages_list))\n",
    "print('Spam/Ham Labels:',len(mult_labels))\n",
    "print('Content Type Labels:',len(mult_type_list), '\\n')"
   ]
  },
  {
   "cell_type": "code",
   "execution_count": 6,
   "metadata": {},
   "outputs": [],
   "source": [
    "import pandas as pd\n",
    "\n",
    "text_df = pd.DataFrame({'directory':text_list,'message':messages_list,'spam1':labels,'content type':type_list})\n",
    "mult_df = pd.DataFrame({'directory':mult_list,'message':mult_messages_list,'spam1':mult_labels,'content type':mult_type_list})"
   ]
  },
  {
   "cell_type": "code",
   "execution_count": 7,
   "metadata": {},
   "outputs": [
    {
     "data": {
      "text/plain": [
       "677"
      ]
     },
     "execution_count": 7,
     "metadata": {},
     "output_type": "execute_result"
    }
   ],
   "source": [
    "# Checking how many directories come up more than once (indicating 2+ messages from a multipart email)\n",
    "dups = mult_df.groupby(mult_df['directory'],as_index=False).size()\n",
    "multipart_df = pd.merge(mult_df, dups, on='directory', how='left')\n",
    "test = multipart_df[multipart_df['size'] > 1]\n",
    "\n",
    "pd.set_option(\"display.max_colwidth\", None)\n",
    "pd.set_option('display.max_rows', None)\n",
    "\n",
    "#print(test['message'])\n",
    "sum(multipart_df['size'] > 1)"
   ]
  },
  {
   "cell_type": "code",
   "execution_count": 8,
   "metadata": {},
   "outputs": [
    {
     "name": "stdout",
     "output_type": "stream",
     "text": [
      "directory       /Users/joaquindominguez/Library/CloudStorage/B...\n",
      "message         <HTML><HEAD><TITLE>Backup your DVD's</TITLE>\\n...\n",
      "spam1                                                           1\n",
      "content type                                            text/html\n",
      "size                                                            2\n",
      "Name: 1, dtype: object\n"
     ]
    }
   ],
   "source": [
    "pd.reset_option('display.max_colwidth')\n",
    "pd.reset_option('display.max_rows')\n",
    "print(multipart_df.iloc[1].head(5))"
   ]
  },
  {
   "cell_type": "code",
   "execution_count": 9,
   "metadata": {},
   "outputs": [
    {
     "name": "stderr",
     "output_type": "stream",
     "text": [
      "/usr/local/lib/python3.10/site-packages/bs4/__init__.py:435: MarkupResemblesLocatorWarning: The input looks more like a filename than markup. You may want to open this file and pass the filehandle into Beautiful Soup.\n",
      "  warnings.warn(\n",
      "/usr/local/lib/python3.10/site-packages/bs4/__init__.py:404: MarkupResemblesLocatorWarning: The input looks more like a URL than markup. You may want to use an HTTP client like requests to get the document behind the URL, and feed that document to Beautiful Soup.\n",
      "  warnings.warn(\n"
     ]
    }
   ],
   "source": [
    "stemmer = PorterStemmer()\n",
    "lemmatizer = WordNetLemmatizer()\n",
    "text = ''\n",
    "text_list = []\n",
    "for i in range(len(multipart_df)):\n",
    "    val = multipart_df.iloc[i,1]\n",
    "    soup = BeautifulSoup(val,'lxml')\n",
    "    text = soup.get_text().lower()\n",
    "    text = re.sub(r'(https|http)?:\\/\\/(\\w|\\.|\\/|\\?|\\=|\\&|\\%)*\\b', '', text, flags=re.MULTILINE)\n",
    "    text = re.sub(r'\\b[A-Za-z0-9._%+-]+@[A-Za-z0-9.-]+\\.[A-Z|a-z]{2,}\\b', '', text, flags=re.MULTILINE)\n",
    "    text = text.translate(str.maketrans('', '', string.punctuation))\n",
    "    text = ''.join([i for i in text if not i.isdigit()])\n",
    "    stop_words = stopwords.words('english')\n",
    "    words_list = [w for w in text.split() if w not in stop_words]\n",
    "    words_list = [lemmatizer.lemmatize(w) for w in words_list]\n",
    "    words_list = [stemmer.stem(w) for w in words_list]\n",
    "    text_list.append(' '.join(words_list))"
   ]
  },
  {
   "cell_type": "code",
   "execution_count": 10,
   "metadata": {},
   "outputs": [],
   "source": [
    "multipart_df['proc_text'] = text_list"
   ]
  },
  {
   "cell_type": "code",
   "execution_count": 11,
   "metadata": {},
   "outputs": [
    {
     "name": "stderr",
     "output_type": "stream",
     "text": [
      "/usr/local/lib/python3.10/site-packages/bs4/__init__.py:435: MarkupResemblesLocatorWarning: The input looks more like a filename than markup. You may want to open this file and pass the filehandle into Beautiful Soup.\n",
      "  warnings.warn(\n",
      "/usr/local/lib/python3.10/site-packages/bs4/__init__.py:404: MarkupResemblesLocatorWarning: The input looks more like a URL than markup. You may want to use an HTTP client like requests to get the document behind the URL, and feed that document to Beautiful Soup.\n",
      "  warnings.warn(\n"
     ]
    }
   ],
   "source": [
    "text = ''\n",
    "text_list = []\n",
    "for i in range(len(text_df)):\n",
    "    val = text_df.iloc[i,1]\n",
    "    soup = BeautifulSoup(val,'lxml')\n",
    "    text = soup.get_text().lower()\n",
    "    text = re.sub(r'(https|http)?:\\/\\/(\\w|\\.|\\/|\\?|\\=|\\&|\\%)*\\b', '', text, flags=re.MULTILINE)\n",
    "    text = re.sub(r'\\b[A-Za-z0-9._%+-]+@[A-Za-z0-9.-]+\\.[A-Z|a-z]{2,}\\b', '', text, flags=re.MULTILINE)\n",
    "    text = text.translate(str.maketrans('', '', string.punctuation))\n",
    "    text = ''.join([i for i in text if not i.isdigit()])\n",
    "    stop_words = stopwords.words('english')\n",
    "    words_list = [w for w in text.split() if w not in stop_words]\n",
    "    words_list = [lemmatizer.lemmatize(w) for w in words_list]\n",
    "    words_list = [stemmer.stem(w) for w in words_list]\n",
    "    text_list.append(' '.join(words_list))"
   ]
  },
  {
   "cell_type": "code",
   "execution_count": 12,
   "metadata": {},
   "outputs": [],
   "source": [
    "text_df['proc_text'] = text_list"
   ]
  },
  {
   "cell_type": "code",
   "execution_count": 13,
   "metadata": {},
   "outputs": [],
   "source": [
    "coll_df = pd.concat([multipart_df, text_df], axis=0)\n"
   ]
  },
  {
   "cell_type": "code",
   "execution_count": 14,
   "metadata": {},
   "outputs": [],
   "source": [
    "coll_df = coll_df.drop(columns = ['directory', 'message', 'size', 'content type'])"
   ]
  },
  {
   "cell_type": "code",
   "execution_count": 15,
   "metadata": {},
   "outputs": [
    {
     "data": {
      "text/html": [
       "<div>\n",
       "<style scoped>\n",
       "    .dataframe tbody tr th:only-of-type {\n",
       "        vertical-align: middle;\n",
       "    }\n",
       "\n",
       "    .dataframe tbody tr th {\n",
       "        vertical-align: top;\n",
       "    }\n",
       "\n",
       "    .dataframe thead th {\n",
       "        text-align: right;\n",
       "    }\n",
       "</style>\n",
       "<table border=\"1\" class=\"dataframe\">\n",
       "  <thead>\n",
       "    <tr style=\"text-align: right;\">\n",
       "      <th></th>\n",
       "      <th>spam1</th>\n",
       "      <th>proc_text</th>\n",
       "    </tr>\n",
       "  </thead>\n",
       "  <tbody>\n",
       "    <tr>\n",
       "      <th>8605</th>\n",
       "      <td>0</td>\n",
       "      <td>upon time manfr wrote would like instal rpm tr...</td>\n",
       "    </tr>\n",
       "    <tr>\n",
       "      <th>8606</th>\n",
       "      <td>0</td>\n",
       "      <td>run pick use new ftoc button show messag selec...</td>\n",
       "    </tr>\n",
       "  </tbody>\n",
       "</table>\n",
       "</div>"
      ],
      "text/plain": [
       "      spam1                                          proc_text\n",
       "8605      0  upon time manfr wrote would like instal rpm tr...\n",
       "8606      0  run pick use new ftoc button show messag selec..."
      ]
     },
     "execution_count": 15,
     "metadata": {},
     "output_type": "execute_result"
    }
   ],
   "source": [
    "coll_df.tail(2)"
   ]
  },
  {
   "cell_type": "code",
   "execution_count": 16,
   "metadata": {},
   "outputs": [
    {
     "data": {
      "text/html": [
       "<div>\n",
       "<style scoped>\n",
       "    .dataframe tbody tr th:only-of-type {\n",
       "        vertical-align: middle;\n",
       "    }\n",
       "\n",
       "    .dataframe tbody tr th {\n",
       "        vertical-align: top;\n",
       "    }\n",
       "\n",
       "    .dataframe thead th {\n",
       "        text-align: right;\n",
       "    }\n",
       "</style>\n",
       "<table border=\"1\" class=\"dataframe\">\n",
       "  <thead>\n",
       "    <tr style=\"text-align: right;\">\n",
       "      <th></th>\n",
       "      <th>spam1</th>\n",
       "    </tr>\n",
       "  </thead>\n",
       "  <tbody>\n",
       "    <tr>\n",
       "      <th>0</th>\n",
       "      <td>7075</td>\n",
       "    </tr>\n",
       "    <tr>\n",
       "      <th>1</th>\n",
       "      <td>2566</td>\n",
       "    </tr>\n",
       "  </tbody>\n",
       "</table>\n",
       "</div>"
      ],
      "text/plain": [
       "   spam1\n",
       "0   7075\n",
       "1   2566"
      ]
     },
     "execution_count": 16,
     "metadata": {},
     "output_type": "execute_result"
    }
   ],
   "source": [
    "coll_df[['spam1']].apply(pd.Series.value_counts)"
   ]
  },
  {
   "cell_type": "code",
   "execution_count": 17,
   "metadata": {},
   "outputs": [
    {
     "data": {
      "image/png": "[encoded data removed]",
      "text/plain": [
       "<Figure size 864x360 with 1 Axes>"
      ]
     },
     "metadata": {},
     "output_type": "display_data"
    }
   ],
   "source": [
    "data = [7075/(7075+2566), 2566/(7075+2566)]\n",
    "labels = ['Not-Spam', 'Spam']\n",
    "plt.figure(figsize = (12,5))\n",
    "plt.pie(data, labels = labels, autopct = '%.0f%%')\n",
    "plt.show()"
   ]
  },
  {
   "cell_type": "markdown",
   "metadata": {},
   "source": [
    "### Count Vectorizer"
   ]
  },
  {
   "cell_type": "code",
   "execution_count": 28,
   "metadata": {},
   "outputs": [],
   "source": [
    "#Split\n",
    "\n",
    "X = coll_df['proc_text']\n",
    "y = coll_df['spam1']\n",
    "X_train, X_test, y_train, y_test = train_test_split(X, y,\n",
    "                                                    test_size=0.2)"
   ]
  },
  {
   "cell_type": "code",
   "execution_count": 29,
   "metadata": {},
   "outputs": [],
   "source": [
    "cv = CountVectorizer(stop_words='english')\n",
    "cv_data = cv.fit_transform(X_train)"
   ]
  },
  {
   "cell_type": "code",
   "execution_count": 30,
   "metadata": {},
   "outputs": [],
   "source": [
    "knn = KNeighborsClassifier(n_neighbors = 2)\n",
    "cv_test_data = cv.transform(X_test)\n",
    "knn.fit(cv_data, y_train)\n",
    "preds = knn.predict(cv_test_data)\n",
    "knn_cv_acc = accuracy_score(preds, y_test)\n",
    "knn_cv_rec = recall_score(preds, y_test)\n",
    "knn_cv_prec = precision_score(preds, y_test)"
   ]
  },
  {
   "cell_type": "code",
   "execution_count": 32,
   "metadata": {},
   "outputs": [
    {
     "name": "stdout",
     "output_type": "stream",
     "text": [
      "0.8911070780399274\n"
     ]
    }
   ],
   "source": [
    "print(knn_cv_rec)"
   ]
  },
  {
   "cell_type": "markdown",
   "metadata": {},
   "source": [
    "### TfidVectorizer"
   ]
  },
  {
   "cell_type": "code",
   "execution_count": 33,
   "metadata": {},
   "outputs": [],
   "source": [
    "tf_vect = TfidfVectorizer(stop_words = 'english')\n",
    "tf_data = tf_vect.fit_transform(X_train)\n",
    "knn = KNeighborsClassifier(n_neighbors = 1)\n",
    "knn.fit(tf_data, y_train)\n",
    "tf_test_data = tf_vect.transform(X_test)\n",
    "preds = knn.predict(tf_test_data)\n",
    "knn_tfid_acc = accuracy_score(preds, y_test)\n",
    "knn_tfid_rec = recall_score(preds, y_test)\n",
    "knn_tfid_prec = precision_score(preds, y_test)"
   ]
  },
  {
   "cell_type": "code",
   "execution_count": 27,
   "metadata": {},
   "outputs": [],
   "source": [
    "from sklearn.neighbors import NearestNeighbors\n",
    "neighb = NearestNeighbors(n_neighbors=2)\n",
    "nbrs = neighb.fit(X_train)\n",
    "distances, indices = nbrs.kneighbors(X_train)"
   ]
  },
  {
   "cell_type": "code",
   "execution_count": 28,
   "metadata": {},
   "outputs": [
    {
     "data": {
      "text/plain": [
       "<function matplotlib.pyplot.show(close=None, block=None)>"
      ]
     },
     "execution_count": 28,
     "metadata": {},
     "output_type": "execute_result"
    },
    {
     "data": {
      "image/png": "[encoded data removed]",
      "text/plain": [
       "<Figure size 500x300 with 1 Axes>"
      ]
     },
     "metadata": {},
     "output_type": "display_data"
    }
   ],
   "source": [
    "distances = np.sort(distances, axis = 0)\n",
    "distances = distances[:, 1]\n",
    "plt.rcParams['figure.figsize'] = (5,3)\n",
    "plt.plot(distances)\n",
    "plt.show"
   ]
  },
  {
   "cell_type": "markdown",
   "metadata": {},
   "source": [
    "### DBSCAN"
   ]
  },
  {
   "cell_type": "code",
   "execution_count": 29,
   "metadata": {},
   "outputs": [
    {
     "name": "stdout",
     "output_type": "stream",
     "text": [
      "Estimated number of clusters: 33\n",
      "Estimated number of noise points: 7478\n"
     ]
    }
   ],
   "source": [
    "from sklearn.cluster import DBSCAN\n",
    "db = DBSCAN(eps = .03, min_samples = 5).fit(X_train)\n",
    "\n",
    "core_samples_mask = np.zeros_like(db.labels_, dtype=bool)\n",
    "core_samples_mask[db.core_sample_indices_] = True\n",
    "labels = db.labels_\n",
    "\n",
    "# Number of clusters in labels, ignoring noise if present.\n",
    "n_clusters_ = len(set(labels)) - (1 if -1 in labels else 0)\n",
    "n_noise_ = list(labels).count(-1)\n",
    "\n",
    "print(\"Estimated number of clusters: %d\" % n_clusters_)\n",
    "print(\"Estimated number of noise points: %d\" % n_noise_)\n",
    "# print(\"Homogeneity: %0.3f\" % metrics.homogeneity_score(labels_true, labels))\n",
    "# print(\"Completeness: %0.3f\" % metrics.completeness_score(labels_true, labels))\n",
    "# print(\"V-measure: %0.3f\" % metrics.v_measure_score(labels_true, labels))\n",
    "# print(\"Adjusted Rand Index: %0.3f\" % metrics.adjusted_rand_score(labels_true, labels))\n",
    "# print(\n",
    "#     \"Adjusted Mutual Information: %0.3f\"\n",
    "#     % metrics.adjusted_mutual_info_score(labels_true, labels)\n",
    "# )\n",
    "# print(\"Silhouette Coefficient: %0.3f\" % metrics.silhouette_score(X, labels))"
   ]
  },
  {
   "cell_type": "markdown",
   "metadata": {},
   "source": [
    "### Naive Bayes"
   ]
  },
  {
   "cell_type": "code",
   "execution_count": 34,
   "metadata": {},
   "outputs": [],
   "source": [
    "model = MultinomialNB(alpha=0.1)\n",
    "cv_vect = CountVectorizer(stop_words='english')\n",
    "tf_vect = TfidfVectorizer(stop_words = 'english')\n",
    "cv_data = cv_vect.fit_transform(X_train)\n",
    "tf_data = tf_vect.fit_transform(X_train)"
   ]
  },
  {
   "cell_type": "markdown",
   "metadata": {},
   "source": [
    "CountVectorizer"
   ]
  },
  {
   "cell_type": "code",
   "execution_count": 35,
   "metadata": {},
   "outputs": [],
   "source": [
    "cv_test_data = cv_vect.transform(X_test)\n",
    "model.fit(cv_data, y_train)\n",
    "test_preds = model.predict(cv_test_data)\n",
    "nb_cv_acc = accuracy_score(test_preds, y_test)\n",
    "nb_cv_rec = recall_score(test_preds, y_test)\n",
    "nb_cv_prec = precision_score(test_preds, y_test)"
   ]
  },
  {
   "cell_type": "markdown",
   "metadata": {},
   "source": [
    "TfidfVectorizer"
   ]
  },
  {
   "cell_type": "code",
   "execution_count": 36,
   "metadata": {},
   "outputs": [],
   "source": [
    "model.fit(tf_data, y_train)\n",
    "tf_test_data = tf_vect.transform(X_test)\n",
    "preds = model.predict(tf_test_data)\n",
    "nb_tf_acc = accuracy_score(preds, y_test)\n",
    "nb_tf_rec = recall_score(preds, y_test)\n",
    "nb_tf_prec = precision_score(preds, y_test)"
   ]
  },
  {
   "cell_type": "markdown",
   "metadata": {},
   "source": [
    "### Comparing Results"
   ]
  },
  {
   "cell_type": "code",
   "execution_count": 27,
   "metadata": {},
   "outputs": [
    {
     "name": "stdout",
     "output_type": "stream",
     "text": [
      "KNN Classifier (accuracy):\n",
      "CountVectorizer: 95.18%\n",
      "TfidfVectorizer: 87.61%\n",
      "-------------------\n",
      "NaiveBayes (accuracy):\n",
      "CountVectorizer: 98.76%\n",
      "TfidfVectorizer: 98.70%\n"
     ]
    }
   ],
   "source": [
    "print(f'KNN Classifier (accuracy):')\n",
    "print(f'CountVectorizer: {knn_cv_acc*100:.2f}%')\n",
    "print(f'TfidfVectorizer: {knn_tfid_acc*100:.2f}%')\n",
    "print('-------------------')\n",
    "print(f'NaiveBayes (accuracy):')\n",
    "print(f'CountVectorizer: {nb_cv_acc*100:.2f}%')\n",
    "print(f'TfidfVectorizer: {nb_tf_acc*100:.2f}%')\n"
   ]
  },
  {
   "cell_type": "code",
   "execution_count": 37,
   "metadata": {},
   "outputs": [
    {
     "name": "stdout",
     "output_type": "stream",
     "text": [
      "KNN Classifier (Recall):\n",
      "CountVectorizer: 89.11%\n",
      "TfidfVectorizer: 68.59%\n",
      "-------------------\n",
      "NaiveBayes (Recall):\n",
      "CountVectorizer: 98.60%\n",
      "TfidfVectorizer: 99.19%\n"
     ]
    }
   ],
   "source": [
    "print(f'KNN Classifier (Recall):')\n",
    "print(f'CountVectorizer: {knn_cv_rec*100:.2f}%')\n",
    "print(f'TfidfVectorizer: {knn_tfid_rec*100:.2f}%')\n",
    "print('-------------------')\n",
    "print(f'NaiveBayes (Recall):')\n",
    "print(f'CountVectorizer: {nb_cv_rec*100:.2f}%')\n",
    "print(f'TfidfVectorizer: {nb_tf_rec*100:.2f}%')"
   ]
  },
  {
   "cell_type": "code",
   "execution_count": 38,
   "metadata": {},
   "outputs": [
    {
     "name": "stdout",
     "output_type": "stream",
     "text": [
      "KNN Classifier (Precision):\n",
      "CountVectorizer: 93.88%\n",
      "TfidfVectorizer: 99.81%\n",
      "-------------------\n",
      "NaiveBayes (Precision):\n",
      "CountVectorizer: 94.07%\n",
      "TfidfVectorizer: 93.31%\n"
     ]
    }
   ],
   "source": [
    "print(f'KNN Classifier (Precision):')\n",
    "print(f'CountVectorizer: {knn_cv_prec*100:.2f}%')\n",
    "print(f'TfidfVectorizer: {knn_tfid_prec*100:.2f}%')\n",
    "print('-------------------')\n",
    "print(f'NaiveBayes (Precision):')\n",
    "print(f'CountVectorizer: {nb_cv_prec*100:.2f}%')\n",
    "print(f'TfidfVectorizer: {nb_tf_prec*100:.2f}%')"
   ]
  },
  {
   "cell_type": "markdown",
   "metadata": {},
   "source": [
    "### Appendix (additional codes)"
   ]
  },
  {
   "cell_type": "code",
   "execution_count": 18,
   "metadata": {},
   "outputs": [],
   "source": [
    "# Text Emails (multipart directories saved elsewhere)\n",
    "import email\n",
    "text_list = []\n",
    "messages_list = []\n",
    "type_list = []\n",
    "labels = []\n",
    "\n",
    "mult_list = []\n",
    "\n",
    "for i in range(len(file_list)):\n",
    "    with open(file_list[i],'r',encoding='latin1') as f:     \n",
    "        text_list.append(file_list[i])   \n",
    "        message = email.message_from_file(f)\n",
    "        body = message.get_payload()\n",
    "        content_type = message.get_content_type()\n",
    "        \n",
    "        if 'text' in content_type: \n",
    "            messages_list.append(body)\n",
    "            if 'ham' in file_list[i]:\n",
    "                labels.append(0)\n",
    "            else: \n",
    "                labels.append(1)\n",
    "            type_list.append(content_type)\n",
    "        elif 'mult' in content_type: \n",
    "            mult_list.append(file_list[i])"
   ]
  },
  {
   "cell_type": "code",
   "execution_count": 19,
   "metadata": {},
   "outputs": [],
   "source": [
    "# Multipart (keep parts where content types are text)\n",
    "mult_messages_list = []\n",
    "mult_type_list = []\n",
    "mult_labels = []\n",
    "\n",
    "for i in range(len(mult_list)):\n",
    "    with open(mult_list[i],'r',encoding='latin1') as f:\n",
    "        messages = email.message_from_file(f)\n",
    "        body = messages.get_payload()\n",
    "        content_type = messages.get_content_type()\n",
    "\n",
    "        if 'text' in body:\n",
    "            mult_messages_list.append(body)\n",
    "            mult_type_list.append(content_type)\n",
    "            if 'ham' in mult_list[i]:\n",
    "                mult_labels.append(0)\n",
    "            else: \n",
    "                mult_labels.append(1)\n",
    "        else: \n",
    "            for j in body: \n",
    "                if 'text' in j.get_content_type(): \n",
    "                    mult_messages_list.append(j.get_payload())\n",
    "                    mult_type_list.append(j.get_content_type())\n",
    "                    if 'ham' in mult_list[i]:\n",
    "                        mult_labels.append(0)\n",
    "                    else: \n",
    "                        mult_labels.append(1)"
   ]
  },
  {
   "cell_type": "markdown",
   "metadata": {},
   "source": [
    "### Checking Individual Emails"
   ]
  },
  {
   "cell_type": "code",
   "execution_count": 21,
   "metadata": {},
   "outputs": [
    {
     "name": "stdout",
     "output_type": "stream",
     "text": [
      "HABERDAR.COM - HABER VE MEDYA PORTALI\n",
      "Artýk tüm haberleri sadece tek siteden takip edebileceksiniz. Haberdar.com açýldý!\n",
      "Haber baþlýklarý, spor haberleri, teknoloji haberleri, kültür ve sanat haberleri, internet haberleri, bilim ve uzay, \n",
      "sinema, saðlýk...\n",
      "Aradýðýnýz içerik http://www.haberdar.com adresinde\n",
      "Sadece týklayýn ve haberdar olun\n",
      "\n",
      "ÿÿÿÿÿÿÿÿÿÿÿÿÿÿÿÿÿÿÿÿÿÿÿÿÿÿÿÿÿÿÿÿÿÿÿÿÿÿÿÿÿÓ+,ùÞµéX¬²'²Þu¼ÿ9 Íý8«yÚ\u001f¶\u0016­±©¢W\\zYiÞüg­jw°êÞ~ÅDAÿÛi³ÿÿÃ\fÿza¢xýÊ&þ¿Ú²ë­Ç¢¸\u001e×úÞ}Ê\u001d{³}ýÓÿÿÿÿÿÿÿÿÿÿÿÿÿÿÿÿÿÿÿÿÿÿÿÿÿÿÿÿÿÿÿÿÿÿÿJ+^±Ê(¥êÿµ©d¨¥x%ËR×¬r)z¿íjYÿ+-³û(º·\u001e~à{ùÞ¶\u001bm¦ÏÿþX¬¶Ïì¢êÜyú+ïçzßåËlþX¬¶)ß£û\"µë\u001c¢^¯ûZ\n",
      "\n",
      "\n"
     ]
    }
   ],
   "source": [
    "# Codeblock for looking at individual emails\n",
    "filename = 'spam/00116.29e39a0064e2714681726ac28ff3fdef'\n",
    "\n",
    "import os\n",
    "with open(os.path.join('/home/joaquindominguez/Documents/QTW/case_studies/QTW_CaseStudy/Case Study 3/Data/',filename),'r',encoding='latin1') as f: \n",
    "    message = email.message_from_file(f)\n",
    "    body = message.get_payload()\n",
    "    print(body)"
   ]
  }
 ],
 "metadata": {
  "kernelspec": {
   "display_name": "Python 3.8.13 ('MSDS')",
   "language": "python",
   "name": "python3"
  },
  "language_info": {
   "codemirror_mode": {
    "name": "ipython",
    "version": 3
   },
   "file_extension": ".py",
   "mimetype": "text/x-python",
   "name": "python",
   "nbconvert_exporter": "python",
   "pygments_lexer": "ipython3",
   "version": "3.8.13"
  },
  "orig_nbformat": 4,
  "vscode": {
   "interpreter": {
    "hash": "a5931864dc9479c4ce68b571298320f6b633e205978f96bc347d367667b12ef2"
   }
  }
 },
 "nbformat": 4,
 "nbformat_minor": 2
}
