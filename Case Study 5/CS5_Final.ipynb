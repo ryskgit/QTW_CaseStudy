{
 "cells": [
  {
   "cell_type": "code",
   "execution_count": 1,
   "metadata": {},
   "outputs": [],
   "source": [
    "import numpy as np\n",
    "import pandas as pd"
   ]
  },
  {
   "cell_type": "code",
   "execution_count": 2,
   "metadata": {},
   "outputs": [
    {
     "data": {
      "text/html": [
       "<div>\n",
       "<style scoped>\n",
       "    .dataframe tbody tr th:only-of-type {\n",
       "        vertical-align: middle;\n",
       "    }\n",
       "\n",
       "    .dataframe tbody tr th {\n",
       "        vertical-align: top;\n",
       "    }\n",
       "\n",
       "    .dataframe thead th {\n",
       "        text-align: right;\n",
       "    }\n",
       "</style>\n",
       "<table border=\"1\" class=\"dataframe\">\n",
       "  <thead>\n",
       "    <tr style=\"text-align: right;\">\n",
       "      <th></th>\n",
       "      <th>Source Port</th>\n",
       "      <th>Destination Port</th>\n",
       "      <th>NAT Source Port</th>\n",
       "      <th>NAT Destination Port</th>\n",
       "      <th>Action</th>\n",
       "      <th>Bytes</th>\n",
       "      <th>Bytes Sent</th>\n",
       "      <th>Bytes Received</th>\n",
       "      <th>Packets</th>\n",
       "      <th>Elapsed Time (sec)</th>\n",
       "      <th>pkts_sent</th>\n",
       "      <th>pkts_received</th>\n",
       "    </tr>\n",
       "  </thead>\n",
       "  <tbody>\n",
       "    <tr>\n",
       "      <th>0</th>\n",
       "      <td>57222</td>\n",
       "      <td>53</td>\n",
       "      <td>54587</td>\n",
       "      <td>53</td>\n",
       "      <td>allow</td>\n",
       "      <td>177</td>\n",
       "      <td>94</td>\n",
       "      <td>83</td>\n",
       "      <td>2</td>\n",
       "      <td>30</td>\n",
       "      <td>1</td>\n",
       "      <td>1</td>\n",
       "    </tr>\n",
       "    <tr>\n",
       "      <th>1</th>\n",
       "      <td>56258</td>\n",
       "      <td>3389</td>\n",
       "      <td>56258</td>\n",
       "      <td>3389</td>\n",
       "      <td>allow</td>\n",
       "      <td>4768</td>\n",
       "      <td>1600</td>\n",
       "      <td>3168</td>\n",
       "      <td>19</td>\n",
       "      <td>17</td>\n",
       "      <td>10</td>\n",
       "      <td>9</td>\n",
       "    </tr>\n",
       "    <tr>\n",
       "      <th>2</th>\n",
       "      <td>6881</td>\n",
       "      <td>50321</td>\n",
       "      <td>43265</td>\n",
       "      <td>50321</td>\n",
       "      <td>allow</td>\n",
       "      <td>238</td>\n",
       "      <td>118</td>\n",
       "      <td>120</td>\n",
       "      <td>2</td>\n",
       "      <td>1199</td>\n",
       "      <td>1</td>\n",
       "      <td>1</td>\n",
       "    </tr>\n",
       "    <tr>\n",
       "      <th>3</th>\n",
       "      <td>50553</td>\n",
       "      <td>3389</td>\n",
       "      <td>50553</td>\n",
       "      <td>3389</td>\n",
       "      <td>allow</td>\n",
       "      <td>3327</td>\n",
       "      <td>1438</td>\n",
       "      <td>1889</td>\n",
       "      <td>15</td>\n",
       "      <td>17</td>\n",
       "      <td>8</td>\n",
       "      <td>7</td>\n",
       "    </tr>\n",
       "    <tr>\n",
       "      <th>4</th>\n",
       "      <td>50002</td>\n",
       "      <td>443</td>\n",
       "      <td>45848</td>\n",
       "      <td>443</td>\n",
       "      <td>allow</td>\n",
       "      <td>25358</td>\n",
       "      <td>6778</td>\n",
       "      <td>18580</td>\n",
       "      <td>31</td>\n",
       "      <td>16</td>\n",
       "      <td>13</td>\n",
       "      <td>18</td>\n",
       "    </tr>\n",
       "  </tbody>\n",
       "</table>\n",
       "</div>"
      ],
      "text/plain": [
       "   Source Port  Destination Port  NAT Source Port  NAT Destination Port  \\\n",
       "0        57222                53            54587                    53   \n",
       "1        56258              3389            56258                  3389   \n",
       "2         6881             50321            43265                 50321   \n",
       "3        50553              3389            50553                  3389   \n",
       "4        50002               443            45848                   443   \n",
       "\n",
       "  Action  Bytes  Bytes Sent  Bytes Received  Packets  Elapsed Time (sec)  \\\n",
       "0  allow    177          94              83        2                  30   \n",
       "1  allow   4768        1600            3168       19                  17   \n",
       "2  allow    238         118             120        2                1199   \n",
       "3  allow   3327        1438            1889       15                  17   \n",
       "4  allow  25358        6778           18580       31                  16   \n",
       "\n",
       "   pkts_sent  pkts_received  \n",
       "0          1              1  \n",
       "1         10              9  \n",
       "2          1              1  \n",
       "3          8              7  \n",
       "4         13             18  "
      ]
     },
     "execution_count": 2,
     "metadata": {},
     "output_type": "execute_result"
    }
   ],
   "source": [
    "raw = pd.read_csv(\"data/log2.csv\")\n",
    "data = pd.DataFrame(data = raw)\n",
    "data.head()"
   ]
  },
  {
   "cell_type": "code",
   "execution_count": 3,
   "metadata": {},
   "outputs": [],
   "source": [
    "df = data.copy()"
   ]
  },
  {
   "cell_type": "markdown",
   "metadata": {},
   "source": [
    "Missing Values"
   ]
  },
  {
   "cell_type": "code",
   "execution_count": 4,
   "metadata": {},
   "outputs": [
    {
     "data": {
      "text/plain": [
       "0"
      ]
     },
     "execution_count": 4,
     "metadata": {},
     "output_type": "execute_result"
    }
   ],
   "source": [
    "df.isna().sum().sum()"
   ]
  },
  {
   "cell_type": "markdown",
   "metadata": {},
   "source": [
    "Single Values"
   ]
  },
  {
   "cell_type": "code",
   "execution_count": 5,
   "metadata": {},
   "outputs": [
    {
     "name": "stdout",
     "output_type": "stream",
     "text": [
      "There are 0 columns with single values: []\n",
      "Original data dimension: (65532, 12)\n"
     ]
    }
   ],
   "source": [
    "single_vals = df.columns[df.eq(df.iloc[0]).all()].tolist()\n",
    "print(f\"There are {len(single_vals)} columns with single values: {single_vals}\")\n",
    "print(f\"Original data dimension: {df.shape}\")"
   ]
  },
  {
   "cell_type": "markdown",
   "metadata": {},
   "source": [
    "Duplicates"
   ]
  },
  {
   "cell_type": "code",
   "execution_count": 6,
   "metadata": {},
   "outputs": [],
   "source": [
    "df.duplicated().sum()\n",
    "df.drop_duplicates(inplace=True)"
   ]
  },
  {
   "cell_type": "code",
   "execution_count": 7,
   "metadata": {},
   "outputs": [
    {
     "data": {
      "text/plain": [
       "allow         37439\n",
       "drop          11635\n",
       "deny           8042\n",
       "reset-both       54\n",
       "Name: Action, dtype: int64"
      ]
     },
     "execution_count": 7,
     "metadata": {},
     "output_type": "execute_result"
    }
   ],
   "source": [
    "df['Action'].value_counts()"
   ]
  },
  {
   "cell_type": "markdown",
   "metadata": {},
   "source": [
    "Data Types"
   ]
  },
  {
   "cell_type": "code",
   "execution_count": 8,
   "metadata": {},
   "outputs": [
    {
     "data": {
      "text/plain": [
       "Source Port              int64\n",
       "Destination Port         int64\n",
       "NAT Source Port          int64\n",
       "NAT Destination Port     int64\n",
       "Action                  object\n",
       "Bytes                    int64\n",
       "Bytes Sent               int64\n",
       "Bytes Received           int64\n",
       "Packets                  int64\n",
       "Elapsed Time (sec)       int64\n",
       "pkts_sent                int64\n",
       "pkts_received            int64\n",
       "dtype: object"
      ]
     },
     "execution_count": 8,
     "metadata": {},
     "output_type": "execute_result"
    }
   ],
   "source": [
    "df.dtypes"
   ]
  },
  {
   "cell_type": "markdown",
   "metadata": {},
   "source": [
    "OHE Target Variable / Split"
   ]
  },
  {
   "cell_type": "code",
   "execution_count": 9,
   "metadata": {},
   "outputs": [],
   "source": [
    "from sklearn.preprocessing import LabelEncoder\n",
    "from sklearn.model_selection import train_test_split\n",
    "df1 = df.copy()\n",
    "le = LabelEncoder()\n",
    "y = df1['Action']\n",
    "y = le.fit_transform(y)\n",
    "X = df1.drop(columns=['Action'])\n",
    "X_train, X_test, y_train, y_test = train_test_split(X, y, test_size = 0.2, random_state = 9)"
   ]
  },
  {
   "cell_type": "code",
   "execution_count": 10,
   "metadata": {},
   "outputs": [
    {
     "data": {
      "text/plain": [
       "array(['allow', 'deny', 'drop', 'reset-both'], dtype=object)"
      ]
     },
     "execution_count": 10,
     "metadata": {},
     "output_type": "execute_result"
    }
   ],
   "source": [
    "# allow = 0, deny = 1, drop = 2, reset-both =3\n",
    "le.classes_"
   ]
  },
  {
   "cell_type": "markdown",
   "metadata": {},
   "source": [
    "Random Forest Benchmark"
   ]
  },
  {
   "cell_type": "code",
   "execution_count": 11,
   "metadata": {},
   "outputs": [
    {
     "name": "stdout",
     "output_type": "stream",
     "text": [
      "0.9977260801119469\n"
     ]
    }
   ],
   "source": [
    "from sklearn.ensemble import RandomForestClassifier\n",
    "from sklearn.metrics import accuracy_score\n",
    "clf = RandomForestClassifier(random_state=9)\n",
    "clf.fit(X_train,y_train)\n",
    "preds = clf.predict(X_test)\n",
    "print(accuracy_score(y_test, preds))"
   ]
  },
  {
   "cell_type": "markdown",
   "metadata": {},
   "source": [
    "SVM"
   ]
  },
  {
   "cell_type": "code",
   "execution_count": 12,
   "metadata": {},
   "outputs": [],
   "source": [
    "from sklearn import multiclass\n",
    "from sklearn.svm import SVC\n",
    "from sklearn.model_selection import cross_val_score\n",
    "svc = SVC(C=1, kernel='poly', degree=4, decision_function_shape='ovo', random_state=10)"
   ]
  },
  {
   "cell_type": "code",
   "execution_count": 13,
   "metadata": {},
   "outputs": [
    {
     "data": {
      "text/plain": [
       "0.6606611859366801"
      ]
     },
     "execution_count": 13,
     "metadata": {},
     "output_type": "execute_result"
    }
   ],
   "source": [
    "svc.fit(X_train, y_train)\n",
    "preds = svc.predict(X_test)\n",
    "accuracy_score(y_test, preds)"
   ]
  },
  {
   "cell_type": "code",
   "execution_count": 35,
   "metadata": {},
   "outputs": [],
   "source": [
    "# param_grid = {\n",
    "#     'kernel' : ['linear', 'poly', 'rbf', 'sigmoid'],\n",
    "#     'C' : [.01, .1, 1, 10, 100]\n",
    "# }"
   ]
  },
  {
   "cell_type": "code",
   "execution_count": null,
   "metadata": {},
   "outputs": [],
   "source": [
    "# #don't run\n",
    "# svc = SVC(degree=4, decision_function_shape='ovo', random_state=9)\n",
    "\n",
    "# from sklearn.model_selection import GridSearchCV\n",
    "# model_gs = GridSearchCV(\n",
    "#     estimator = svc,\n",
    "#     param_grid = param_grid,\n",
    "#     scoring = 'accuracy',\n",
    "#     n_jobs =-1,\n",
    "#     cv=5,\n",
    "#     refit=True\n",
    "# )\n",
    "\n",
    "# model_gs.fit(X, y)"
   ]
  },
  {
   "cell_type": "code",
   "execution_count": 37,
   "metadata": {},
   "outputs": [],
   "source": [
    "# # also don't run\n",
    "# best = 0\n",
    "\n",
    "# for kernel in ['linear','poly','rbf','sigmoid']:\n",
    "#     for C in [0.001,0.01, 0.1,1,10,100]:\n",
    "#         if kernel=='poly':\n",
    "#             svm=SVC(C=C, kernel=kernel, degree=4, decision_function_shape='ovo', random_state=9)\n",
    "#         else:\n",
    "#             svm = SVC(C=C, kernel=kernel, decision_function_shape='ovo', random_state=9)\n",
    "#         svm.fit(X_train,y_train)\n",
    "#         score=svm.score(X_test,y_test)\n",
    "#         if score > best:\n",
    "#             best = score\n",
    "#             best_parameters = {'C':C, 'kernel': kernel}\n",
    "\n",
    "# print(f'Best score: {best}')\n",
    "# print(f'Best parameters: {best_parameters}')"
   ]
  },
  {
   "cell_type": "code",
   "execution_count": 15,
   "metadata": {},
   "outputs": [
    {
     "data": {
      "text/plain": [
       "0.9929158649641421"
      ]
     },
     "execution_count": 15,
     "metadata": {},
     "output_type": "execute_result"
    }
   ],
   "source": [
    "svm = SVC(C=.1, kernel='linear', decision_function_shape='ovo', random_state=9)\n",
    "svm.fit(X_train, y_train)\n",
    "preds = svm.predict(X_test)\n",
    "accuracy_score(y_test, preds)"
   ]
  },
  {
   "cell_type": "markdown",
   "metadata": {},
   "source": [
    "SGD (VW)"
   ]
  },
  {
   "cell_type": "code",
   "execution_count": null,
   "metadata": {},
   "outputs": [],
   "source": [
    "def to_vw_format(row):\n",
    "    res = f\"{int(row.y)} |\"\n",
    "    for idx, value in row.drop([\"y\"]).iteritems():\n",
    "        feature_name = idx.replace(\" \", \"_\").replace(\"(\", \"\").replace(\")\", \"\")\n",
    "        res += f\" {feature_name}:{value}\"\n",
    "    return res"
   ]
  },
  {
   "cell_type": "code",
   "execution_count": null,
   "metadata": {},
   "outputs": [
    {
     "name": "stdout",
     "output_type": "stream",
     "text": [
      "28268    1 | Source_Port:45350 Destination_Port:443 NAT...\n",
      "1630     1 | Source_Port:47152 Destination_Port:443 NAT...\n",
      "13943    3 | Source_Port:64034 Destination_Port:445 NAT...\n",
      "39290    1 | Source_Port:56498 Destination_Port:80 NAT_...\n",
      "13694    3 | Source_Port:64235 Destination_Port:445 NAT...\n",
      "                               ...                        \n",
      "48603    1 | Source_Port:54676 Destination_Port:443 NAT...\n",
      "25970    3 | Source_Port:49383 Destination_Port:445 NAT...\n",
      "503      1 | Source_Port:51946 Destination_Port:80 NAT_...\n",
      "63979    2 | Source_Port:5223 Destination_Port:1210 NAT...\n",
      "24014    3 | Source_Port:61630 Destination_Port:445 NAT...\n",
      "Length: 45736, dtype: object\n"
     ]
    }
   ],
   "source": [
    "import vowpalwabbit\n",
    "\n",
    "train_vw = X_train.copy()\n",
    "test_vw = X_test.copy()\n",
    "\n",
    "train_vw['y'] = y_train + 1\n",
    "test_vw['y'] = y_test + 1\n",
    "\n",
    "print(train_vw.apply(to_vw_format, axis=1))"
   ]
  },
  {
   "cell_type": "code",
   "execution_count": null,
   "metadata": {},
   "outputs": [
    {
     "name": "stdout",
     "output_type": "stream",
     "text": [
      "Model accuracy 0.9920412803918139\n"
     ]
    }
   ],
   "source": [
    "vw = vowpalwabbit.Workspace(\"--oaa 5 --quiet --learning_rate 100 -q :: --cubic ::: --loss_function hinge --random_seed 10\")\n",
    "\n",
    "# learn from training set with multiple passes\n",
    "for sample in train_vw.apply(to_vw_format, axis=1):\n",
    "    vw.learn(sample)\n",
    "\n",
    "# predict from the testing set\n",
    "predictions = []\n",
    "for sample in test_vw.apply(to_vw_format, axis=1):\n",
    "    predicted_class = vw.predict(sample)\n",
    "    predictions.append(predicted_class)\n",
    "\n",
    "accuracy = len(test_vw[test_vw.y == predictions]) / len(test_vw)\n",
    "print(f\"Model accuracy {accuracy}\")"
   ]
  },
  {
   "cell_type": "code",
   "execution_count": null,
   "metadata": {},
   "outputs": [
    {
     "name": "stdout",
     "output_type": "stream",
     "text": [
      "11434 45736\n"
     ]
    }
   ],
   "source": [
    "print(len(predictions), len(train_vw))"
   ]
  },
  {
   "cell_type": "code",
   "execution_count": null,
   "metadata": {},
   "outputs": [
    {
     "name": "stdout",
     "output_type": "stream",
     "text": [
      "1 Accuracy: 0.6606611859366801 Loss Function: hinge L2: 0.0 Learning Rate: .001\n",
      "2 Accuracy: 0.9699142907119118 Loss Function: hinge L2: 0.0 Learning Rate: .01\n",
      "3 Accuracy: 0.9846073115270246 Loss Function: hinge L2: 0.0 Learning Rate: .1\n",
      "4 Accuracy: 0.9909043204477873 Loss Function: hinge L2: 0.0 Learning Rate: 1.0\n",
      "5 Accuracy: 0.9916914465628827 Loss Function: hinge L2: 0.0 Learning Rate: 5.0\n",
      "6 Accuracy: 0.9913416127339514 Loss Function: hinge L2: 0.0 Learning Rate: 10\n",
      "7 Accuracy: 0.9917789050201155 Loss Function: hinge L2: 0.0 Learning Rate: 100\n",
      "8 Accuracy: 0.6606611859366801 Loss Function: hinge L2: 0.001 Learning Rate: .001\n",
      "9 Accuracy: 0.9668532447087633 Loss Function: hinge L2: 0.001 Learning Rate: .01\n",
      "10 Accuracy: 0.9804967640370824 Loss Function: hinge L2: 0.001 Learning Rate: .1\n",
      "11 Accuracy: 0.9835578100402309 Loss Function: hinge L2: 0.001 Learning Rate: 1.0\n",
      "12 Accuracy: 0.9790099702641245 Loss Function: hinge L2: 0.001 Learning Rate: 5.0\n",
      "13 Accuracy: 0.9781353856917964 Loss Function: hinge L2: 0.001 Learning Rate: 10\n",
      "14 Accuracy: 0.7677977960468777 Loss Function: hinge L2: 0.001 Learning Rate: 100\n",
      "15 Accuracy: 0.6606611859366801 Loss Function: hinge L2: 0.01 Learning Rate: .001\n",
      "16 Accuracy: 0.7500437292286164 Loss Function: hinge L2: 0.01 Learning Rate: .01\n",
      "17 Accuracy: 0.6851495539618682 Loss Function: hinge L2: 0.01 Learning Rate: .1\n",
      "18 Accuracy: 0.6606611859366801 Loss Function: hinge L2: 0.01 Learning Rate: 1.0\n",
      "19 Accuracy: 0.8012943851670457 Loss Function: hinge L2: 0.01 Learning Rate: 5.0\n",
      "20 Accuracy: 0.29700892076263774 Loss Function: hinge L2: 0.01 Learning Rate: 10\n",
      "21 Accuracy: 0.20106699317824034 Loss Function: hinge L2: 0.01 Learning Rate: 100\n",
      "22 Accuracy: 0.6606611859366801 Loss Function: hinge L2: 0.10 Learning Rate: .001\n",
      "23 Accuracy: 0.6606611859366801 Loss Function: hinge L2: 0.10 Learning Rate: .01\n",
      "24 Accuracy: 0.6606611859366801 Loss Function: hinge L2: 0.10 Learning Rate: .1\n",
      "25 Accuracy: 0.28257827531922336 Loss Function: hinge L2: 0.10 Learning Rate: 1.0\n",
      "26 Accuracy: 0.20106699317824034 Loss Function: hinge L2: 0.10 Learning Rate: 5.0\n"
     ]
    }
   ],
   "source": [
    "import warnings\n",
    "warnings.simplefilter(action='ignore', category=FutureWarning)\n",
    "\n",
    "counter = 0\n",
    "results = pd.DataFrame(columns=['Model Accuracy', 'Loss Function', 'L2 Regularization', 'Learning Rate'])\n",
    "\n",
    "for loss in ['hinge', 'logistic']:\n",
    "    for reg in ['0.0', '0.001', '0.01', '0.10', '1.0', '10', '100', '1000']:\n",
    "        for l in ['.001','.01','.1','1.0','5.0','10','100']:\n",
    "            vw1 = eval(\"vowpalwabbit.Workspace('--passes 1000 --cache --oaa 5 --quiet -l \"+l+\" --l2 \"+reg+\" -q :: --cubic ::: --loss_function \"+loss+\" --random_seed 10')\")\n",
    "\n",
    "            # learn\n",
    "            for sample in train_vw.apply(to_vw_format, axis=1):\n",
    "                vw1.learn(sample)\n",
    "\n",
    "            # predict\n",
    "            predictions = []\n",
    "            for sample in test_vw.apply(to_vw_format, axis=1):\n",
    "                predicted_class = vw1.predict(sample)\n",
    "                predictions.append(predicted_class)\n",
    "\n",
    "            accuracy = len(test_vw[test_vw.y == predictions]) / len(test_vw)\n",
    "            counter += 1\n",
    "\n",
    "            print(counter, f\"Accuracy: {accuracy}\", f\"Loss Function: {loss}\", f\"L2: {reg}\", f\"Learning Rate: {l}\")\n",
    "            results = results.append({'Model Accuracy': accuracy, 'Loss Function': loss, 'L2 Regularization': reg, 'Learning Rate': l}, ignore_index=True)"
   ]
  },
  {
   "cell_type": "code",
   "execution_count": null,
   "metadata": {},
   "outputs": [
    {
     "data": {
      "text/html": [
       "<div>\n",
       "<style scoped>\n",
       "    .dataframe tbody tr th:only-of-type {\n",
       "        vertical-align: middle;\n",
       "    }\n",
       "\n",
       "    .dataframe tbody tr th {\n",
       "        vertical-align: top;\n",
       "    }\n",
       "\n",
       "    .dataframe thead th {\n",
       "        text-align: right;\n",
       "    }\n",
       "</style>\n",
       "<table border=\"1\" class=\"dataframe\">\n",
       "  <thead>\n",
       "    <tr style=\"text-align: right;\">\n",
       "      <th></th>\n",
       "      <th>Model Accuracy</th>\n",
       "      <th>Loss Function</th>\n",
       "      <th>L2 Regularization</th>\n",
       "      <th>Learning Rate</th>\n",
       "    </tr>\n",
       "  </thead>\n",
       "  <tbody>\n",
       "    <tr>\n",
       "      <th>6</th>\n",
       "      <td>0.991866</td>\n",
       "      <td>squared</td>\n",
       "      <td>0.0</td>\n",
       "      <td>100</td>\n",
       "    </tr>\n",
       "    <tr>\n",
       "      <th>7</th>\n",
       "      <td>0.991866</td>\n",
       "      <td>squared</td>\n",
       "      <td>0.0</td>\n",
       "      <td>1000</td>\n",
       "    </tr>\n",
       "    <tr>\n",
       "      <th>70</th>\n",
       "      <td>0.991779</td>\n",
       "      <td>hinge</td>\n",
       "      <td>0.0</td>\n",
       "      <td>100</td>\n",
       "    </tr>\n",
       "    <tr>\n",
       "      <th>68</th>\n",
       "      <td>0.991691</td>\n",
       "      <td>hinge</td>\n",
       "      <td>0.0</td>\n",
       "      <td>5.0</td>\n",
       "    </tr>\n",
       "    <tr>\n",
       "      <th>71</th>\n",
       "      <td>0.991691</td>\n",
       "      <td>hinge</td>\n",
       "      <td>0.0</td>\n",
       "      <td>1000</td>\n",
       "    </tr>\n",
       "    <tr>\n",
       "      <th>...</th>\n",
       "      <td>...</td>\n",
       "      <td>...</td>\n",
       "      <td>...</td>\n",
       "      <td>...</td>\n",
       "    </tr>\n",
       "    <tr>\n",
       "      <th>94</th>\n",
       "      <td>0.0007</td>\n",
       "      <td>hinge</td>\n",
       "      <td>0.10</td>\n",
       "      <td>100</td>\n",
       "    </tr>\n",
       "    <tr>\n",
       "      <th>106</th>\n",
       "      <td>0.0007</td>\n",
       "      <td>hinge</td>\n",
       "      <td>10</td>\n",
       "      <td>.1</td>\n",
       "    </tr>\n",
       "    <tr>\n",
       "      <th>49</th>\n",
       "      <td>0.0007</td>\n",
       "      <td>squared</td>\n",
       "      <td>100</td>\n",
       "      <td>.01</td>\n",
       "    </tr>\n",
       "    <tr>\n",
       "      <th>120</th>\n",
       "      <td>0.0007</td>\n",
       "      <td>hinge</td>\n",
       "      <td>1000</td>\n",
       "      <td>.001</td>\n",
       "    </tr>\n",
       "    <tr>\n",
       "      <th>23</th>\n",
       "      <td>0.000612</td>\n",
       "      <td>squared</td>\n",
       "      <td>0.01</td>\n",
       "      <td>1000</td>\n",
       "    </tr>\n",
       "  </tbody>\n",
       "</table>\n",
       "<p>192 rows × 4 columns</p>\n",
       "</div>"
      ],
      "text/plain": [
       "    Model Accuracy Loss Function L2 Regularization Learning Rate\n",
       "6         0.991866       squared               0.0           100\n",
       "7         0.991866       squared               0.0          1000\n",
       "70        0.991779         hinge               0.0           100\n",
       "68        0.991691         hinge               0.0           5.0\n",
       "71        0.991691         hinge               0.0          1000\n",
       "..             ...           ...               ...           ...\n",
       "94          0.0007         hinge              0.10           100\n",
       "106         0.0007         hinge                10            .1\n",
       "49          0.0007       squared               100           .01\n",
       "120         0.0007         hinge              1000          .001\n",
       "23        0.000612       squared              0.01          1000\n",
       "\n",
       "[192 rows x 4 columns]"
      ]
     },
     "metadata": {},
     "output_type": "display_data"
    }
   ],
   "source": [
    "results.sort_values(by='Model Accuracy', ascending=False)"
   ]
  }
 ],
 "metadata": {
  "kernelspec": {
   "display_name": "Python 3.8.13 ('MSDS')",
   "language": "python",
   "name": "python3"
  },
  "language_info": {
   "codemirror_mode": {
    "name": "ipython",
    "version": 3
   },
   "file_extension": ".py",
   "mimetype": "text/x-python",
   "name": "python",
   "nbconvert_exporter": "python",
   "pygments_lexer": "ipython3",
   "version": "3.8.13"
  },
  "orig_nbformat": 4,
  "vscode": {
   "interpreter": {
    "hash": "a5931864dc9479c4ce68b571298320f6b633e205978f96bc347d367667b12ef2"
   }
  }
 },
 "nbformat": 4,
 "nbformat_minor": 2
}
