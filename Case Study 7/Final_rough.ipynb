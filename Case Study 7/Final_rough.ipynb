{
  "cells": [
    {
      "cell_type": "code",
      "execution_count": 1,
      "metadata": {
        "id": "UjSLYdhK5RZr"
      },
      "outputs": [],
      "source": [
        "import pandas as pd\n",
        "import numpy as np\n",
        "import matplotlib.pyplot as plt\n",
        "import seaborn as sns\n",
        "from sklearn.preprocessing import OneHotEncoder, StandardScaler\n",
        "from sklearn.compose import ColumnTransformer\n",
        "from sklearn.model_selection import train_test_split, cross_val_predict, cross_val_score, RandomizedSearchCV, GridSearchCV\n",
        "from sklearn.ensemble import RandomForestClassifier\n",
        "from sklearn.metrics import accuracy_score, recall_score, precision_score\n",
        "from sklearn.linear_model import LogisticRegression, LogisticRegressionCV\n",
        "# import tensorflow as tf\n",
        "# from tensorflow.keras.callbacks import EarlyStopping"
      ]
    },
    {
      "cell_type": "code",
      "execution_count": 1,
      "metadata": {
        "colab": {
          "base_uri": "https://localhost:8080/"
        },
        "id": "fkISQTIL5vgF",
        "outputId": "db238927-0e7c-460e-ba35-c08efce60027"
      },
      "outputs": [
        {
          "name": "stdout",
          "output_type": "stream",
          "text": [
            "Mounted at /content/drive\n"
          ]
        }
      ],
      "source": [
        "from google.colab import drive\n",
        "drive.mount('/content/drive')"
      ]
    },
    {
      "cell_type": "code",
      "execution_count": 2,
      "metadata": {
        "id": "ncxPQ9N55RZt"
      },
      "outputs": [],
      "source": [
        "raw = pd.read_csv('../Case Study 7/data/final_project(5).csv')\n",
        "#raw = pd.read_csv('/content/drive/MyDrive/final_project(5).csv')"
      ]
    },
    {
      "cell_type": "code",
      "execution_count": 3,
      "metadata": {
        "colab": {
          "base_uri": "https://localhost:8080/",
          "height": 300
        },
        "id": "DJIC_lUg5RZu",
        "outputId": "9b7a79c0-2945-49d1-95ca-76d555d048f5"
      },
      "outputs": [
        {
          "data": {
            "text/html": [
              "<div>\n",
              "<style scoped>\n",
              "    .dataframe tbody tr th:only-of-type {\n",
              "        vertical-align: middle;\n",
              "    }\n",
              "\n",
              "    .dataframe tbody tr th {\n",
              "        vertical-align: top;\n",
              "    }\n",
              "\n",
              "    .dataframe thead th {\n",
              "        text-align: right;\n",
              "    }\n",
              "</style>\n",
              "<table border=\"1\" class=\"dataframe\">\n",
              "  <thead>\n",
              "    <tr style=\"text-align: right;\">\n",
              "      <th></th>\n",
              "      <th>x0</th>\n",
              "      <th>x1</th>\n",
              "      <th>x2</th>\n",
              "      <th>x3</th>\n",
              "      <th>x4</th>\n",
              "      <th>x5</th>\n",
              "      <th>x6</th>\n",
              "      <th>x7</th>\n",
              "      <th>x8</th>\n",
              "      <th>x9</th>\n",
              "      <th>...</th>\n",
              "      <th>x41</th>\n",
              "      <th>x42</th>\n",
              "      <th>x43</th>\n",
              "      <th>x44</th>\n",
              "      <th>x45</th>\n",
              "      <th>x46</th>\n",
              "      <th>x47</th>\n",
              "      <th>x48</th>\n",
              "      <th>x49</th>\n",
              "      <th>y</th>\n",
              "    </tr>\n",
              "  </thead>\n",
              "  <tbody>\n",
              "    <tr>\n",
              "      <th>0</th>\n",
              "      <td>-0.166563</td>\n",
              "      <td>-3.961588</td>\n",
              "      <td>4.621113</td>\n",
              "      <td>2.481908</td>\n",
              "      <td>-1.800135</td>\n",
              "      <td>0.804684</td>\n",
              "      <td>6.718751</td>\n",
              "      <td>-14.789997</td>\n",
              "      <td>-1.040673</td>\n",
              "      <td>-4.204950</td>\n",
              "      <td>...</td>\n",
              "      <td>-1.497117</td>\n",
              "      <td>5.414063</td>\n",
              "      <td>-2.325655</td>\n",
              "      <td>1.674827</td>\n",
              "      <td>-0.264332</td>\n",
              "      <td>60.781427</td>\n",
              "      <td>-7.689696</td>\n",
              "      <td>0.151589</td>\n",
              "      <td>-8.040166</td>\n",
              "      <td>0</td>\n",
              "    </tr>\n",
              "    <tr>\n",
              "      <th>1</th>\n",
              "      <td>-0.149894</td>\n",
              "      <td>-0.585676</td>\n",
              "      <td>27.839856</td>\n",
              "      <td>4.152333</td>\n",
              "      <td>6.426802</td>\n",
              "      <td>-2.426943</td>\n",
              "      <td>40.477058</td>\n",
              "      <td>-6.725709</td>\n",
              "      <td>0.896421</td>\n",
              "      <td>0.330165</td>\n",
              "      <td>...</td>\n",
              "      <td>36.292790</td>\n",
              "      <td>4.490915</td>\n",
              "      <td>0.762561</td>\n",
              "      <td>6.526662</td>\n",
              "      <td>1.007927</td>\n",
              "      <td>15.805696</td>\n",
              "      <td>-4.896678</td>\n",
              "      <td>-0.320283</td>\n",
              "      <td>16.719974</td>\n",
              "      <td>0</td>\n",
              "    </tr>\n",
              "    <tr>\n",
              "      <th>2</th>\n",
              "      <td>-0.321707</td>\n",
              "      <td>-1.429819</td>\n",
              "      <td>12.251561</td>\n",
              "      <td>6.586874</td>\n",
              "      <td>-5.304647</td>\n",
              "      <td>-11.311090</td>\n",
              "      <td>17.812850</td>\n",
              "      <td>11.060572</td>\n",
              "      <td>5.325880</td>\n",
              "      <td>-2.632984</td>\n",
              "      <td>...</td>\n",
              "      <td>-0.368491</td>\n",
              "      <td>9.088864</td>\n",
              "      <td>-0.689886</td>\n",
              "      <td>-2.731118</td>\n",
              "      <td>0.754200</td>\n",
              "      <td>30.856417</td>\n",
              "      <td>-7.428573</td>\n",
              "      <td>-2.090804</td>\n",
              "      <td>-7.869421</td>\n",
              "      <td>0</td>\n",
              "    </tr>\n",
              "    <tr>\n",
              "      <th>3</th>\n",
              "      <td>-0.245594</td>\n",
              "      <td>5.076677</td>\n",
              "      <td>-24.149632</td>\n",
              "      <td>3.637307</td>\n",
              "      <td>6.505811</td>\n",
              "      <td>2.290224</td>\n",
              "      <td>-35.111751</td>\n",
              "      <td>-18.913592</td>\n",
              "      <td>-0.337041</td>\n",
              "      <td>-5.568076</td>\n",
              "      <td>...</td>\n",
              "      <td>15.691546</td>\n",
              "      <td>-7.467775</td>\n",
              "      <td>2.940789</td>\n",
              "      <td>-6.424112</td>\n",
              "      <td>0.419776</td>\n",
              "      <td>-72.424569</td>\n",
              "      <td>5.361375</td>\n",
              "      <td>1.806070</td>\n",
              "      <td>-7.670847</td>\n",
              "      <td>0</td>\n",
              "    </tr>\n",
              "    <tr>\n",
              "      <th>4</th>\n",
              "      <td>-0.273366</td>\n",
              "      <td>0.306326</td>\n",
              "      <td>-11.352593</td>\n",
              "      <td>1.676758</td>\n",
              "      <td>2.928441</td>\n",
              "      <td>-0.616824</td>\n",
              "      <td>-16.505817</td>\n",
              "      <td>27.532281</td>\n",
              "      <td>1.199715</td>\n",
              "      <td>-4.309105</td>\n",
              "      <td>...</td>\n",
              "      <td>-13.911297</td>\n",
              "      <td>-5.229937</td>\n",
              "      <td>1.783928</td>\n",
              "      <td>3.957801</td>\n",
              "      <td>-0.096988</td>\n",
              "      <td>-14.085435</td>\n",
              "      <td>-0.208351</td>\n",
              "      <td>-0.894942</td>\n",
              "      <td>15.724742</td>\n",
              "      <td>1</td>\n",
              "    </tr>\n",
              "  </tbody>\n",
              "</table>\n",
              "<p>5 rows × 51 columns</p>\n",
              "</div>"
            ],
            "text/plain": [
              "         x0        x1         x2        x3        x4         x5         x6  \\\n",
              "0 -0.166563 -3.961588   4.621113  2.481908 -1.800135   0.804684   6.718751   \n",
              "1 -0.149894 -0.585676  27.839856  4.152333  6.426802  -2.426943  40.477058   \n",
              "2 -0.321707 -1.429819  12.251561  6.586874 -5.304647 -11.311090  17.812850   \n",
              "3 -0.245594  5.076677 -24.149632  3.637307  6.505811   2.290224 -35.111751   \n",
              "4 -0.273366  0.306326 -11.352593  1.676758  2.928441  -0.616824 -16.505817   \n",
              "\n",
              "          x7        x8        x9  ...        x41       x42       x43  \\\n",
              "0 -14.789997 -1.040673 -4.204950  ...  -1.497117  5.414063 -2.325655   \n",
              "1  -6.725709  0.896421  0.330165  ...  36.292790  4.490915  0.762561   \n",
              "2  11.060572  5.325880 -2.632984  ...  -0.368491  9.088864 -0.689886   \n",
              "3 -18.913592 -0.337041 -5.568076  ...  15.691546 -7.467775  2.940789   \n",
              "4  27.532281  1.199715 -4.309105  ... -13.911297 -5.229937  1.783928   \n",
              "\n",
              "        x44       x45        x46       x47       x48        x49  y  \n",
              "0  1.674827 -0.264332  60.781427 -7.689696  0.151589  -8.040166  0  \n",
              "1  6.526662  1.007927  15.805696 -4.896678 -0.320283  16.719974  0  \n",
              "2 -2.731118  0.754200  30.856417 -7.428573 -2.090804  -7.869421  0  \n",
              "3 -6.424112  0.419776 -72.424569  5.361375  1.806070  -7.670847  0  \n",
              "4  3.957801 -0.096988 -14.085435 -0.208351 -0.894942  15.724742  1  \n",
              "\n",
              "[5 rows x 51 columns]"
            ]
          },
          "execution_count": 3,
          "metadata": {},
          "output_type": "execute_result"
        }
      ],
      "source": [
        "raw.head()"
      ]
    },
    {
      "cell_type": "code",
      "execution_count": 4,
      "metadata": {
        "id": "5XHZOwGv5RZw"
      },
      "outputs": [],
      "source": [
        "data = raw.copy()"
      ]
    },
    {
      "cell_type": "code",
      "execution_count": 6,
      "metadata": {
        "colab": {
          "base_uri": "https://localhost:8080/"
        },
        "id": "Sl1ie61o5RZx",
        "outputId": "75b189ed-6536-44c7-ee9c-518ea734a8dc"
      },
      "outputs": [
        {
          "data": {
            "text/plain": [
              "160000"
            ]
          },
          "execution_count": 6,
          "metadata": {},
          "output_type": "execute_result"
        }
      ],
      "source": [
        "len(data)"
      ]
    },
    {
      "cell_type": "markdown",
      "metadata": {
        "id": "gQW7VF_95RZy"
      },
      "source": [
        "Missing Values"
      ]
    },
    {
      "cell_type": "code",
      "execution_count": 5,
      "metadata": {
        "id": "HFXb7jAD5RZz"
      },
      "outputs": [],
      "source": [
        "# Check na\n",
        "data.isna().sum().sum()\n",
        "\n",
        "# Drop na\n",
        "data.dropna(inplace=True)"
      ]
    },
    {
      "cell_type": "code",
      "execution_count": 8,
      "metadata": {
        "colab": {
          "base_uri": "https://localhost:8080/"
        },
        "id": "oPJAWSh25RZ0",
        "outputId": "6016da83-43d8-45cc-ac45-f9b7ca12ce4f"
      },
      "outputs": [
        {
          "data": {
            "text/plain": [
              "0"
            ]
          },
          "execution_count": 8,
          "metadata": {},
          "output_type": "execute_result"
        }
      ],
      "source": [
        "data.isna().sum().sum()"
      ]
    },
    {
      "cell_type": "markdown",
      "metadata": {
        "id": "eAlInsoB5RZ2"
      },
      "source": [
        "Duplicates"
      ]
    },
    {
      "cell_type": "code",
      "execution_count": null,
      "metadata": {
        "id": "5aX8NyBJ5RZ3",
        "outputId": "44afa201-066e-46e4-86cc-7b00e9459871"
      },
      "outputs": [
        {
          "data": {
            "text/plain": [
              "0"
            ]
          },
          "execution_count": 8,
          "metadata": {},
          "output_type": "execute_result"
        }
      ],
      "source": [
        "# No duplicates\n",
        "data.duplicated().sum()"
      ]
    },
    {
      "cell_type": "markdown",
      "metadata": {
        "id": "XuJUygh85RZ4"
      },
      "source": [
        "Unique Values"
      ]
    },
    {
      "cell_type": "code",
      "execution_count": null,
      "metadata": {
        "id": "-mZHiMqt5RZ5",
        "outputId": "6cf446d8-a19a-4302-d314-36546fb8af5a"
      },
      "outputs": [
        {
          "name": "stdout",
          "output_type": "stream",
          "text": [
            "There are 0 columns with single values: []\n"
          ]
        }
      ],
      "source": [
        "single_vals = data.columns[data.eq(data.iloc[0]).all()].tolist()\n",
        "print(f\"There are {len(single_vals)} columns with single values: {single_vals}\")\n",
        "# print(f\"Original data dimiension: {data.shape}\")\n",
        "# data.drop(columns=single_vals, inplace=True)\n",
        "# print(f\"Final data dim after dropping aforementioned columns: {data.shape}\")\n",
        "# print(f\"There are {df.isna().sum().sum()} NA values and {data.duplicated().sum()} duplicated records\")"
      ]
    },
    {
      "cell_type": "markdown",
      "metadata": {
        "id": "LgFJq-_b5RZ6"
      },
      "source": [
        "Data Types"
      ]
    },
    {
      "cell_type": "code",
      "execution_count": null,
      "metadata": {
        "id": "OSLVhsek5RZ6",
        "outputId": "41648daf-9a29-4a41-aeb7-ad2e53b6bf1a"
      },
      "outputs": [
        {
          "data": {
            "text/plain": [
              "x0     float64\n",
              "x1     float64\n",
              "x2     float64\n",
              "x3     float64\n",
              "x4     float64\n",
              "x5     float64\n",
              "x6     float64\n",
              "x7     float64\n",
              "x8     float64\n",
              "x9     float64\n",
              "x10    float64\n",
              "x11    float64\n",
              "x12    float64\n",
              "x13    float64\n",
              "x14    float64\n",
              "x15    float64\n",
              "x16    float64\n",
              "x17    float64\n",
              "x18    float64\n",
              "x19    float64\n",
              "x20    float64\n",
              "x21    float64\n",
              "x22    float64\n",
              "x23    float64\n",
              "x24     object\n",
              "x25    float64\n",
              "x26    float64\n",
              "x27    float64\n",
              "x28    float64\n",
              "x29     object\n",
              "x30     object\n",
              "x31    float64\n",
              "x32     object\n",
              "x33    float64\n",
              "x34    float64\n",
              "x35    float64\n",
              "x36    float64\n",
              "x37     object\n",
              "x38    float64\n",
              "x39    float64\n",
              "x40    float64\n",
              "x41    float64\n",
              "x42    float64\n",
              "x43    float64\n",
              "x44    float64\n",
              "x45    float64\n",
              "x46    float64\n",
              "x47    float64\n",
              "x48    float64\n",
              "x49    float64\n",
              "y        int64\n",
              "dtype: object"
            ]
          },
          "execution_count": 88,
          "metadata": {},
          "output_type": "execute_result"
        }
      ],
      "source": [
        "data.dtypes"
      ]
    },
    {
      "cell_type": "markdown",
      "metadata": {
        "id": "p_TjGKse5RZ7"
      },
      "source": [
        "Fix Data formatting"
      ]
    },
    {
      "cell_type": "code",
      "execution_count": 6,
      "metadata": {
        "colab": {
          "base_uri": "https://localhost:8080/"
        },
        "id": "BuSmLpTg5RZ8",
        "outputId": "b8794e2b-de26-4575-9aea-d05dfae5ba40"
      },
      "outputs": [
        {
          "name": "stderr",
          "output_type": "stream",
          "text": [
            "/tmp/ipykernel_142588/583479083.py:3: SettingWithCopyWarning: \n",
            "A value is trying to be set on a copy of a slice from a DataFrame\n",
            "\n",
            "See the caveats in the documentation: https://pandas.pydata.org/pandas-docs/stable/user_guide/indexing.html#returning-a-view-versus-a-copy\n",
            "  data['x24'].iloc[i] = 'europe'\n",
            "/tmp/ipykernel_142588/583479083.py:13: SettingWithCopyWarning: \n",
            "A value is trying to be set on a copy of a slice from a DataFrame\n",
            "\n",
            "See the caveats in the documentation: https://pandas.pydata.org/pandas-docs/stable/user_guide/indexing.html#returning-a-view-versus-a-copy\n",
            "  data['x29'].iloc[i] = 'Jul'\n",
            "/tmp/ipykernel_142588/583479083.py:7: SettingWithCopyWarning: \n",
            "A value is trying to be set on a copy of a slice from a DataFrame\n",
            "\n",
            "See the caveats in the documentation: https://pandas.pydata.org/pandas-docs/stable/user_guide/indexing.html#returning-a-view-versus-a-copy\n",
            "  data['x29'].iloc[i] = 'Sep'\n",
            "/tmp/ipykernel_142588/583479083.py:9: SettingWithCopyWarning: \n",
            "A value is trying to be set on a copy of a slice from a DataFrame\n",
            "\n",
            "See the caveats in the documentation: https://pandas.pydata.org/pandas-docs/stable/user_guide/indexing.html#returning-a-view-versus-a-copy\n",
            "  data['x29'].iloc[i] = 'Dec'\n",
            "/tmp/ipykernel_142588/583479083.py:11: SettingWithCopyWarning: \n",
            "A value is trying to be set on a copy of a slice from a DataFrame\n",
            "\n",
            "See the caveats in the documentation: https://pandas.pydata.org/pandas-docs/stable/user_guide/indexing.html#returning-a-view-versus-a-copy\n",
            "  data['x29'].iloc[i] = 'Jan'\n",
            "/tmp/ipykernel_142588/583479083.py:19: SettingWithCopyWarning: \n",
            "A value is trying to be set on a copy of a slice from a DataFrame\n",
            "\n",
            "See the caveats in the documentation: https://pandas.pydata.org/pandas-docs/stable/user_guide/indexing.html#returning-a-view-versus-a-copy\n",
            "  data['x30'].iloc[i] = 'thursday'\n"
          ]
        }
      ],
      "source": [
        "for i in range(len(data)):\n",
        "    if data['x24'].iloc[i] == 'euorpe':\n",
        "        data['x24'].iloc[i] = 'europe'\n",
        "\n",
        "for i in range(len(data)):\n",
        "    if data['x29'].iloc[i] == 'sept.':\n",
        "        data['x29'].iloc[i] = 'Sep'\n",
        "    elif data['x29'].iloc[i] == 'Dev':\n",
        "        data['x29'].iloc[i] = 'Dec'\n",
        "    elif data['x29'].iloc[i] == 'January':\n",
        "        data['x29'].iloc[i] = 'Jan'\n",
        "    elif data['x29'].iloc[i] == 'July':\n",
        "        data['x29'].iloc[i] = 'Jul'\n",
        "    else:\n",
        "        pass\n",
        "\n",
        "for i in range(len(data)):\n",
        "    if data['x30'].iloc[i] == 'thurday':\n",
        "        data['x30'].iloc[i] = 'thursday'\n",
        "\n",
        "data['x32'] = list(map(lambda x: x[:-1], data['x32'].values))\n",
        "data['x32'] = [float(x) for x in data['x32'].values]\n",
        "\n",
        "data['x37'] = list(map(lambda x: x[1:], data['x37'].values))\n",
        "data['x37'] = [float(x) for x in data['x37'].values]"
      ]
    },
    {
      "cell_type": "markdown",
      "metadata": {
        "id": "ybR4nmwH5RaB"
      },
      "source": [
        "Distributions"
      ]
    },
    {
      "cell_type": "code",
      "execution_count": null,
      "metadata": {
        "id": "i9IPXN2X5RaB"
      },
      "outputs": [],
      "source": [
        "df_rep = data.copy()\n",
        "\n",
        "cleanup= {'x24': {'asia': 1, 'europe': 2, 'america': 3},\n",
        "'x29': {'Jan': 1, 'Feb': 2, 'Mar': 3, 'Apr': 4, 'May': 5, 'Jun': 6, 'Jul': 7, 'Aug': 8, 'Sep': 9, 'Oct': 10, 'Nov': 11, 'Dec': 12},\n",
        "'x30': {'monday': 1, 'tuesday': 2, 'wednesday': 3, 'thursday': 4, 'friday': 5}}"
      ]
    },
    {
      "cell_type": "code",
      "execution_count": null,
      "metadata": {
        "id": "FhfjSLq55RaB"
      },
      "outputs": [],
      "source": [
        "df_rep = df_rep.replace(cleanup)"
      ]
    },
    {
      "cell_type": "code",
      "execution_count": null,
      "metadata": {
        "id": "zB0yaQ8I5RaC"
      },
      "outputs": [],
      "source": [
        "# All distributions look normally distributed without outliers\n",
        "import matplotlib.pyplot as plt\n",
        "\n",
        "import seaborn as sns\n",
        "for i in df_rep.columns:\n",
        "    sns.displot(df_rep[i])"
      ]
    },
    {
      "cell_type": "code",
      "execution_count": null,
      "metadata": {
        "id": "cuzyiYZ95RaC",
        "outputId": "3e91bf23-e721-404a-ebd7-14f2ea586a28"
      },
      "outputs": [
        {
          "data": {
            "text/plain": [
              "array([[<AxesSubplot: title={'center': 'x0'}>,\n",
              "        <AxesSubplot: title={'center': 'x1'}>,\n",
              "        <AxesSubplot: title={'center': 'x2'}>,\n",
              "        <AxesSubplot: title={'center': 'x3'}>,\n",
              "        <AxesSubplot: title={'center': 'x4'}>,\n",
              "        <AxesSubplot: title={'center': 'x5'}>,\n",
              "        <AxesSubplot: title={'center': 'x6'}>],\n",
              "       [<AxesSubplot: title={'center': 'x7'}>,\n",
              "        <AxesSubplot: title={'center': 'x8'}>,\n",
              "        <AxesSubplot: title={'center': 'x9'}>,\n",
              "        <AxesSubplot: title={'center': 'x10'}>,\n",
              "        <AxesSubplot: title={'center': 'x11'}>,\n",
              "        <AxesSubplot: title={'center': 'x12'}>,\n",
              "        <AxesSubplot: title={'center': 'x13'}>],\n",
              "       [<AxesSubplot: title={'center': 'x14'}>,\n",
              "        <AxesSubplot: title={'center': 'x15'}>,\n",
              "        <AxesSubplot: title={'center': 'x16'}>,\n",
              "        <AxesSubplot: title={'center': 'x17'}>,\n",
              "        <AxesSubplot: title={'center': 'x18'}>,\n",
              "        <AxesSubplot: title={'center': 'x19'}>,\n",
              "        <AxesSubplot: title={'center': 'x20'}>],\n",
              "       [<AxesSubplot: title={'center': 'x21'}>,\n",
              "        <AxesSubplot: title={'center': 'x22'}>,\n",
              "        <AxesSubplot: title={'center': 'x23'}>,\n",
              "        <AxesSubplot: title={'center': 'x24'}>,\n",
              "        <AxesSubplot: title={'center': 'x25'}>,\n",
              "        <AxesSubplot: title={'center': 'x26'}>,\n",
              "        <AxesSubplot: title={'center': 'x27'}>],\n",
              "       [<AxesSubplot: title={'center': 'x28'}>,\n",
              "        <AxesSubplot: title={'center': 'x29'}>,\n",
              "        <AxesSubplot: title={'center': 'x30'}>,\n",
              "        <AxesSubplot: title={'center': 'x31'}>,\n",
              "        <AxesSubplot: title={'center': 'x32'}>,\n",
              "        <AxesSubplot: title={'center': 'x33'}>,\n",
              "        <AxesSubplot: title={'center': 'x34'}>],\n",
              "       [<AxesSubplot: title={'center': 'x35'}>,\n",
              "        <AxesSubplot: title={'center': 'x36'}>,\n",
              "        <AxesSubplot: title={'center': 'x37'}>,\n",
              "        <AxesSubplot: title={'center': 'x38'}>,\n",
              "        <AxesSubplot: title={'center': 'x39'}>,\n",
              "        <AxesSubplot: title={'center': 'x40'}>,\n",
              "        <AxesSubplot: title={'center': 'x41'}>],\n",
              "       [<AxesSubplot: title={'center': 'x42'}>,\n",
              "        <AxesSubplot: title={'center': 'x43'}>,\n",
              "        <AxesSubplot: title={'center': 'x44'}>,\n",
              "        <AxesSubplot: title={'center': 'x45'}>,\n",
              "        <AxesSubplot: title={'center': 'x46'}>,\n",
              "        <AxesSubplot: title={'center': 'x47'}>,\n",
              "        <AxesSubplot: title={'center': 'x48'}>],\n",
              "       [<AxesSubplot: title={'center': 'x49'}>,\n",
              "        <AxesSubplot: title={'center': 'y'}>, <AxesSubplot: >,\n",
              "        <AxesSubplot: >, <AxesSubplot: >, <AxesSubplot: >,\n",
              "        <AxesSubplot: >]], dtype=object)"
            ]
          },
          "execution_count": 106,
          "metadata": {},
          "output_type": "execute_result"
        },
        {
          "data": {
            "image/png": "[encoded data removed]",
            "text/plain": [
              "<Figure size 2000x1500 with 56 Axes>"
            ]
          },
          "metadata": {},
          "output_type": "display_data"
        }
      ],
      "source": [
        "df_rep.hist(bins=51, figsize=(20, 15))"
      ]
    },
    {
      "cell_type": "markdown",
      "metadata": {
        "id": "eepr_Hij5RaC"
      },
      "source": [
        "Could look into outliers, but looks pretty good upon visual inspection from ^^"
      ]
    },
    {
      "cell_type": "markdown",
      "metadata": {},
      "source": [
        "### PreProcessing"
      ]
    },
    {
      "cell_type": "code",
      "execution_count": 7,
      "metadata": {
        "id": "93UKgeDr5RaD"
      },
      "outputs": [],
      "source": [
        "df_ohe = data.copy()\n",
        "\n",
        "ct = ColumnTransformer([('one-hot-encoder', OneHotEncoder(), ['x24', 'x29', 'x30'])], remainder = 'passthrough')\n",
        "\n",
        "df_ohe2 = pd.DataFrame(ct.fit_transform(df_ohe))"
      ]
    },
    {
      "cell_type": "markdown",
      "metadata": {
        "id": "onkt822X5RaE"
      },
      "source": [
        "Split Dataset"
      ]
    },
    {
      "cell_type": "code",
      "execution_count": 8,
      "metadata": {
        "id": "FSh6f1f15RaE"
      },
      "outputs": [],
      "source": [
        "from sklearn.model_selection import train_test_split\n",
        "\n",
        "y = df_ohe2[67]\n",
        "X = df_ohe2.drop(columns = [67])\n",
        "\n",
        "X_train, X_test, y_train, y_test = train_test_split(X, y, test_size=0.2, random_state=9)"
      ]
    },
    {
      "cell_type": "markdown",
      "metadata": {
        "id": "K3PAV1oA5RaF"
      },
      "source": [
        "### RandomForest"
      ]
    },
    {
      "cell_type": "markdown",
      "metadata": {},
      "source": [
        "Baseline"
      ]
    },
    {
      "cell_type": "code",
      "execution_count": null,
      "metadata": {
        "id": "mQcl5KkE5RaF",
        "outputId": "96f44669-be88-4c29-a741-6ffcc6ab4303"
      },
      "outputs": [
        {
          "name": "stdout",
          "output_type": "stream",
          "text": [
            "Accuracy: 0.9196313014931027\n",
            "Recall Score: 0.8695134534486864\n",
            "Precision Score: 0.9239267942987265\n"
          ]
        }
      ],
      "source": [
        "clf = RandomForestClassifier()\n",
        "clf.fit(X_train, y_train)\n",
        "preds = clf.predict(X_test)\n",
        "print(f'Accuracy: {accuracy_score(y_test, preds)}')\n",
        "rec = recall_score(y_test,preds)\n",
        "prec = precision_score(y_test, preds)\n",
        "print(f'Recall Score: {rec}')\n",
        "print(f'Precision Score: {prec}')"
      ]
    },
    {
      "cell_type": "markdown",
      "metadata": {},
      "source": [
        "Randomized Search"
      ]
    },
    {
      "cell_type": "code",
      "execution_count": null,
      "metadata": {
        "id": "rkrFK3pc5RaG"
      },
      "outputs": [],
      "source": [
        "n_estimators = [int(x) for x in np.linspace(start = 200, stop =2000, num=10)]\n",
        "max_features = ['sqrt', 'log2']\n",
        "min_samples_split = [2,5,10]\n",
        "min_samples_leaf = [1,2,4]\n",
        "bootsrap = [True, False]\n",
        "\n",
        "random_grid = {'n_estimators': n_estimators,\n",
        "                'max_features': max_features,\n",
        "                'min_samples_split': min_samples_split,\n",
        "                'min_samples_leaf': min_samples_leaf,\n",
        "                'bootstrap': bootsrap}"
      ]
    },
    {
      "cell_type": "code",
      "execution_count": null,
      "metadata": {
        "id": "_D-iPPMx5RaG",
        "outputId": "68995af6-d8e1-4adf-bc5a-b6e550e30fb2"
      },
      "outputs": [
        {
          "name": "stdout",
          "output_type": "stream",
          "text": [
            "Fitting 3 folds for each of 10 candidates, totalling 30 fits\n",
            "[CV] END bootstrap=True, max_features=sqrt, min_samples_leaf=1, min_samples_split=10, n_estimators=400; total time= 7.3min\n",
            "[CV] END bootstrap=True, max_features=sqrt, min_samples_leaf=1, min_samples_split=10, n_estimators=400; total time= 7.4min\n",
            "[CV] END bootstrap=True, max_features=sqrt, min_samples_leaf=1, min_samples_split=10, n_estimators=400; total time= 7.5min\n",
            "[CV] END bootstrap=False, max_features=sqrt, min_samples_leaf=4, min_samples_split=2, n_estimators=600; total time=16.2min\n",
            "[CV] END bootstrap=False, max_features=sqrt, min_samples_leaf=4, min_samples_split=2, n_estimators=600; total time=16.5min\n",
            "[CV] END bootstrap=True, max_features=log2, min_samples_leaf=2, min_samples_split=2, n_estimators=800; total time=11.1min\n"
          ]
        },
        {
          "name": "stderr",
          "output_type": "stream",
          "text": [
            "/home/joaquin/Documents/SMU/NLP/homework/.venv/lib/python3.11/site-packages/joblib/externals/loky/process_executor.py:700: UserWarning: A worker stopped while some jobs were given to the executor. This can be caused by a too short worker timeout or by a memory leak.\n",
            "  warnings.warn(\n"
          ]
        },
        {
          "name": "stdout",
          "output_type": "stream",
          "text": [
            "[CV] END bootstrap=True, max_features=log2, min_samples_leaf=2, min_samples_split=2, n_estimators=800; total time=11.3min\n",
            "[CV] END bootstrap=False, max_features=sqrt, min_samples_leaf=4, min_samples_split=2, n_estimators=600; total time=17.1min\n",
            "[CV] END bootstrap=True, max_features=log2, min_samples_leaf=2, min_samples_split=2, n_estimators=800; total time=11.2min\n",
            "[CV] END bootstrap=True, max_features=sqrt, min_samples_leaf=1, min_samples_split=5, n_estimators=800; total time=15.3min\n",
            "[CV] END bootstrap=True, max_features=sqrt, min_samples_leaf=1, min_samples_split=5, n_estimators=800; total time=15.3min\n",
            "[CV] END bootstrap=False, max_features=log2, min_samples_leaf=2, min_samples_split=2, n_estimators=400; total time= 9.8min\n",
            "[CV] END bootstrap=False, max_features=sqrt, min_samples_leaf=1, min_samples_split=2, n_estimators=1200; total time=36.8min\n",
            "[CV] END bootstrap=False, max_features=sqrt, min_samples_leaf=1, min_samples_split=2, n_estimators=1200; total time=36.2min\n",
            "[CV] END bootstrap=False, max_features=sqrt, min_samples_leaf=1, min_samples_split=2, n_estimators=1200; total time=36.7min\n",
            "[CV] END bootstrap=True, max_features=sqrt, min_samples_leaf=1, min_samples_split=5, n_estimators=800; total time=15.8min\n",
            "[CV] END bootstrap=False, max_features=log2, min_samples_leaf=2, min_samples_split=2, n_estimators=400; total time= 8.9min\n",
            "[CV] END bootstrap=False, max_features=log2, min_samples_leaf=2, min_samples_split=2, n_estimators=400; total time= 9.8min\n",
            "[CV] END bootstrap=True, max_features=log2, min_samples_leaf=4, min_samples_split=5, n_estimators=200; total time= 2.6min\n",
            "[CV] END bootstrap=True, max_features=log2, min_samples_leaf=4, min_samples_split=5, n_estimators=200; total time= 2.7min\n",
            "[CV] END bootstrap=True, max_features=log2, min_samples_leaf=4, min_samples_split=5, n_estimators=200; total time= 3.1min\n",
            "[CV] END bootstrap=False, max_features=log2, min_samples_leaf=1, min_samples_split=2, n_estimators=600; total time=14.1min\n",
            "[CV] END bootstrap=False, max_features=log2, min_samples_leaf=1, min_samples_split=2, n_estimators=600; total time=14.1min\n",
            "[CV] END bootstrap=False, max_features=log2, min_samples_leaf=1, min_samples_split=2, n_estimators=600; total time=14.9min\n",
            "[CV] END bootstrap=False, max_features=sqrt, min_samples_leaf=4, min_samples_split=10, n_estimators=800; total time=24.5min\n",
            "[CV] END bootstrap=False, max_features=sqrt, min_samples_leaf=4, min_samples_split=10, n_estimators=800; total time=24.0min\n",
            "[CV] END bootstrap=False, max_features=log2, min_samples_leaf=1, min_samples_split=10, n_estimators=2000; total time=46.1min\n",
            "[CV] END bootstrap=False, max_features=log2, min_samples_leaf=1, min_samples_split=10, n_estimators=2000; total time=45.7min\n",
            "[CV] END bootstrap=False, max_features=sqrt, min_samples_leaf=4, min_samples_split=10, n_estimators=800; total time=19.4min\n",
            "[CV] END bootstrap=False, max_features=log2, min_samples_leaf=1, min_samples_split=10, n_estimators=2000; total time=45.5min\n"
          ]
        },
        {
          "data": {
            "text/html": [
              "<style>#sk-container-id-1 {color: black;background-color: white;}#sk-container-id-1 pre{padding: 0;}#sk-container-id-1 div.sk-toggleable {background-color: white;}#sk-container-id-1 label.sk-toggleable__label {cursor: pointer;display: block;width: 100%;margin-bottom: 0;padding: 0.3em;box-sizing: border-box;text-align: center;}#sk-container-id-1 label.sk-toggleable__label-arrow:before {content: \"▸\";float: left;margin-right: 0.25em;color: #696969;}#sk-container-id-1 label.sk-toggleable__label-arrow:hover:before {color: black;}#sk-container-id-1 div.sk-estimator:hover label.sk-toggleable__label-arrow:before {color: black;}#sk-container-id-1 div.sk-toggleable__content {max-height: 0;max-width: 0;overflow: hidden;text-align: left;background-color: #f0f8ff;}#sk-container-id-1 div.sk-toggleable__content pre {margin: 0.2em;color: black;border-radius: 0.25em;background-color: #f0f8ff;}#sk-container-id-1 input.sk-toggleable__control:checked~div.sk-toggleable__content {max-height: 200px;max-width: 100%;overflow: auto;}#sk-container-id-1 input.sk-toggleable__control:checked~label.sk-toggleable__label-arrow:before {content: \"▾\";}#sk-container-id-1 div.sk-estimator input.sk-toggleable__control:checked~label.sk-toggleable__label {background-color: #d4ebff;}#sk-container-id-1 div.sk-label input.sk-toggleable__control:checked~label.sk-toggleable__label {background-color: #d4ebff;}#sk-container-id-1 input.sk-hidden--visually {border: 0;clip: rect(1px 1px 1px 1px);clip: rect(1px, 1px, 1px, 1px);height: 1px;margin: -1px;overflow: hidden;padding: 0;position: absolute;width: 1px;}#sk-container-id-1 div.sk-estimator {font-family: monospace;background-color: #f0f8ff;border: 1px dotted black;border-radius: 0.25em;box-sizing: border-box;margin-bottom: 0.5em;}#sk-container-id-1 div.sk-estimator:hover {background-color: #d4ebff;}#sk-container-id-1 div.sk-parallel-item::after {content: \"\";width: 100%;border-bottom: 1px solid gray;flex-grow: 1;}#sk-container-id-1 div.sk-label:hover label.sk-toggleable__label {background-color: #d4ebff;}#sk-container-id-1 div.sk-serial::before {content: \"\";position: absolute;border-left: 1px solid gray;box-sizing: border-box;top: 0;bottom: 0;left: 50%;z-index: 0;}#sk-container-id-1 div.sk-serial {display: flex;flex-direction: column;align-items: center;background-color: white;padding-right: 0.2em;padding-left: 0.2em;position: relative;}#sk-container-id-1 div.sk-item {position: relative;z-index: 1;}#sk-container-id-1 div.sk-parallel {display: flex;align-items: stretch;justify-content: center;background-color: white;position: relative;}#sk-container-id-1 div.sk-item::before, #sk-container-id-1 div.sk-parallel-item::before {content: \"\";position: absolute;border-left: 1px solid gray;box-sizing: border-box;top: 0;bottom: 0;left: 50%;z-index: -1;}#sk-container-id-1 div.sk-parallel-item {display: flex;flex-direction: column;z-index: 1;position: relative;background-color: white;}#sk-container-id-1 div.sk-parallel-item:first-child::after {align-self: flex-end;width: 50%;}#sk-container-id-1 div.sk-parallel-item:last-child::after {align-self: flex-start;width: 50%;}#sk-container-id-1 div.sk-parallel-item:only-child::after {width: 0;}#sk-container-id-1 div.sk-dashed-wrapped {border: 1px dashed gray;margin: 0 0.4em 0.5em 0.4em;box-sizing: border-box;padding-bottom: 0.4em;background-color: white;}#sk-container-id-1 div.sk-label label {font-family: monospace;font-weight: bold;display: inline-block;line-height: 1.2em;}#sk-container-id-1 div.sk-label-container {text-align: center;}#sk-container-id-1 div.sk-container {/* jupyter's `normalize.less` sets `[hidden] { display: none; }` but bootstrap.min.css set `[hidden] { display: none !important; }` so we also need the `!important` here to be able to override the default hidden behavior on the sphinx rendered scikit-learn.org. See: https://github.com/scikit-learn/scikit-learn/issues/21755 */display: inline-block !important;position: relative;}#sk-container-id-1 div.sk-text-repr-fallback {display: none;}</style><div id=\"sk-container-id-1\" class=\"sk-top-container\"><div class=\"sk-text-repr-fallback\"><pre>RandomizedSearchCV(cv=3, estimator=RandomForestClassifier(), n_jobs=5,\n",
              "                   param_distributions={&#x27;bootstrap&#x27;: [True, False],\n",
              "                                        &#x27;max_features&#x27;: [&#x27;sqrt&#x27;, &#x27;log2&#x27;],\n",
              "                                        &#x27;min_samples_leaf&#x27;: [1, 2, 4],\n",
              "                                        &#x27;min_samples_split&#x27;: [2, 5, 10],\n",
              "                                        &#x27;n_estimators&#x27;: [200, 400, 600, 800,\n",
              "                                                         1000, 1200, 1400, 1600,\n",
              "                                                         1800, 2000]},\n",
              "                   random_state=9, verbose=2)</pre><b>In a Jupyter environment, please rerun this cell to show the HTML representation or trust the notebook. <br />On GitHub, the HTML representation is unable to render, please try loading this page with nbviewer.org.</b></div><div class=\"sk-container\" hidden><div class=\"sk-item sk-dashed-wrapped\"><div class=\"sk-label-container\"><div class=\"sk-label sk-toggleable\"><input class=\"sk-toggleable__control sk-hidden--visually\" id=\"sk-estimator-id-1\" type=\"checkbox\" ><label for=\"sk-estimator-id-1\" class=\"sk-toggleable__label sk-toggleable__label-arrow\">RandomizedSearchCV</label><div class=\"sk-toggleable__content\"><pre>RandomizedSearchCV(cv=3, estimator=RandomForestClassifier(), n_jobs=5,\n",
              "                   param_distributions={&#x27;bootstrap&#x27;: [True, False],\n",
              "                                        &#x27;max_features&#x27;: [&#x27;sqrt&#x27;, &#x27;log2&#x27;],\n",
              "                                        &#x27;min_samples_leaf&#x27;: [1, 2, 4],\n",
              "                                        &#x27;min_samples_split&#x27;: [2, 5, 10],\n",
              "                                        &#x27;n_estimators&#x27;: [200, 400, 600, 800,\n",
              "                                                         1000, 1200, 1400, 1600,\n",
              "                                                         1800, 2000]},\n",
              "                   random_state=9, verbose=2)</pre></div></div></div><div class=\"sk-parallel\"><div class=\"sk-parallel-item\"><div class=\"sk-item\"><div class=\"sk-label-container\"><div class=\"sk-label sk-toggleable\"><input class=\"sk-toggleable__control sk-hidden--visually\" id=\"sk-estimator-id-2\" type=\"checkbox\" ><label for=\"sk-estimator-id-2\" class=\"sk-toggleable__label sk-toggleable__label-arrow\">estimator: RandomForestClassifier</label><div class=\"sk-toggleable__content\"><pre>RandomForestClassifier()</pre></div></div></div><div class=\"sk-serial\"><div class=\"sk-item\"><div class=\"sk-estimator sk-toggleable\"><input class=\"sk-toggleable__control sk-hidden--visually\" id=\"sk-estimator-id-3\" type=\"checkbox\" ><label for=\"sk-estimator-id-3\" class=\"sk-toggleable__label sk-toggleable__label-arrow\">RandomForestClassifier</label><div class=\"sk-toggleable__content\"><pre>RandomForestClassifier()</pre></div></div></div></div></div></div></div></div></div></div>"
            ],
            "text/plain": [
              "RandomizedSearchCV(cv=3, estimator=RandomForestClassifier(), n_jobs=5,\n",
              "                   param_distributions={'bootstrap': [True, False],\n",
              "                                        'max_features': ['sqrt', 'log2'],\n",
              "                                        'min_samples_leaf': [1, 2, 4],\n",
              "                                        'min_samples_split': [2, 5, 10],\n",
              "                                        'n_estimators': [200, 400, 600, 800,\n",
              "                                                         1000, 1200, 1400, 1600,\n",
              "                                                         1800, 2000]},\n",
              "                   random_state=9, verbose=2)"
            ]
          },
          "execution_count": 34,
          "metadata": {},
          "output_type": "execute_result"
        }
      ],
      "source": [
        "clf = RandomForestClassifier()\n",
        "rf_random= RandomizedSearchCV(estimator = clf, param_distributions = random_grid, n_iter = 10, cv = 3, random_state = 9, n_jobs = 5, verbose = 2)\n",
        "\n",
        "rf_random.fit(X_train, y_train)"
      ]
    },
    {
      "cell_type": "code",
      "execution_count": null,
      "metadata": {
        "id": "vb7fgNnc5RaH",
        "outputId": "717ac550-b474-4d80-f479-d929b6c58da9"
      },
      "outputs": [
        {
          "data": {
            "text/plain": [
              "{'n_estimators': 1200,\n",
              " 'min_samples_split': 2,\n",
              " 'min_samples_leaf': 1,\n",
              " 'max_features': 'sqrt',\n",
              " 'bootstrap': False}"
            ]
          },
          "execution_count": 37,
          "metadata": {},
          "output_type": "execute_result"
        }
      ],
      "source": [
        "rf_random.best_params_"
      ]
    },
    {
      "cell_type": "code",
      "execution_count": null,
      "metadata": {
        "id": "2s9E6QyP5RaH",
        "outputId": "96cd9bf5-9f1d-42ad-a792-c04f1d4d67f4"
      },
      "outputs": [
        {
          "name": "stdout",
          "output_type": "stream",
          "text": [
            "Accuracy: 0.9196313014931027\n",
            "Recall Score: 0.8695134534486864\n",
            "Precision Score: 0.9239267942987265\n"
          ]
        }
      ],
      "source": [
        "best_rs = RandomForestClassifier(n_estimators = 1200, min_samples_split= 2, min_samples_leaf = 1, max_features = 'sqrt', bootstrap = False)\n",
        "best_rs.fit(X_train, y_train)\n",
        "rs_preds = best_rs.predict(X_test)\n",
        "print(f'Accuracy: {accuracy_score(y_test, preds)}')\n",
        "rec = recall_score(y_test,preds)\n",
        "prec = precision_score(y_test, preds)\n",
        "print(f'Recall Score: {rec}')\n",
        "print(f'Precision Score: {prec}')\n"
      ]
    },
    {
      "cell_type": "markdown",
      "metadata": {},
      "source": [
        "Grid Search"
      ]
    },
    {
      "cell_type": "code",
      "execution_count": null,
      "metadata": {
        "id": "Ejg5pLYn5RaI",
        "outputId": "886c068d-3bca-4dc5-8934-c9015c12bba8"
      },
      "outputs": [
        {
          "name": "stderr",
          "output_type": "stream",
          "text": [
            "/home/joaquin/Documents/SMU/NLP/homework/.venv/lib/python3.11/site-packages/joblib/externals/loky/process_executor.py:700: UserWarning: A worker stopped while some jobs were given to the executor. This can be caused by a too short worker timeout or by a memory leak.\n",
            "  warnings.warn(\n"
          ]
        },
        {
          "data": {
            "text/html": [
              "<style>#sk-container-id-1 {color: black;background-color: white;}#sk-container-id-1 pre{padding: 0;}#sk-container-id-1 div.sk-toggleable {background-color: white;}#sk-container-id-1 label.sk-toggleable__label {cursor: pointer;display: block;width: 100%;margin-bottom: 0;padding: 0.3em;box-sizing: border-box;text-align: center;}#sk-container-id-1 label.sk-toggleable__label-arrow:before {content: \"▸\";float: left;margin-right: 0.25em;color: #696969;}#sk-container-id-1 label.sk-toggleable__label-arrow:hover:before {color: black;}#sk-container-id-1 div.sk-estimator:hover label.sk-toggleable__label-arrow:before {color: black;}#sk-container-id-1 div.sk-toggleable__content {max-height: 0;max-width: 0;overflow: hidden;text-align: left;background-color: #f0f8ff;}#sk-container-id-1 div.sk-toggleable__content pre {margin: 0.2em;color: black;border-radius: 0.25em;background-color: #f0f8ff;}#sk-container-id-1 input.sk-toggleable__control:checked~div.sk-toggleable__content {max-height: 200px;max-width: 100%;overflow: auto;}#sk-container-id-1 input.sk-toggleable__control:checked~label.sk-toggleable__label-arrow:before {content: \"▾\";}#sk-container-id-1 div.sk-estimator input.sk-toggleable__control:checked~label.sk-toggleable__label {background-color: #d4ebff;}#sk-container-id-1 div.sk-label input.sk-toggleable__control:checked~label.sk-toggleable__label {background-color: #d4ebff;}#sk-container-id-1 input.sk-hidden--visually {border: 0;clip: rect(1px 1px 1px 1px);clip: rect(1px, 1px, 1px, 1px);height: 1px;margin: -1px;overflow: hidden;padding: 0;position: absolute;width: 1px;}#sk-container-id-1 div.sk-estimator {font-family: monospace;background-color: #f0f8ff;border: 1px dotted black;border-radius: 0.25em;box-sizing: border-box;margin-bottom: 0.5em;}#sk-container-id-1 div.sk-estimator:hover {background-color: #d4ebff;}#sk-container-id-1 div.sk-parallel-item::after {content: \"\";width: 100%;border-bottom: 1px solid gray;flex-grow: 1;}#sk-container-id-1 div.sk-label:hover label.sk-toggleable__label {background-color: #d4ebff;}#sk-container-id-1 div.sk-serial::before {content: \"\";position: absolute;border-left: 1px solid gray;box-sizing: border-box;top: 0;bottom: 0;left: 50%;z-index: 0;}#sk-container-id-1 div.sk-serial {display: flex;flex-direction: column;align-items: center;background-color: white;padding-right: 0.2em;padding-left: 0.2em;position: relative;}#sk-container-id-1 div.sk-item {position: relative;z-index: 1;}#sk-container-id-1 div.sk-parallel {display: flex;align-items: stretch;justify-content: center;background-color: white;position: relative;}#sk-container-id-1 div.sk-item::before, #sk-container-id-1 div.sk-parallel-item::before {content: \"\";position: absolute;border-left: 1px solid gray;box-sizing: border-box;top: 0;bottom: 0;left: 50%;z-index: -1;}#sk-container-id-1 div.sk-parallel-item {display: flex;flex-direction: column;z-index: 1;position: relative;background-color: white;}#sk-container-id-1 div.sk-parallel-item:first-child::after {align-self: flex-end;width: 50%;}#sk-container-id-1 div.sk-parallel-item:last-child::after {align-self: flex-start;width: 50%;}#sk-container-id-1 div.sk-parallel-item:only-child::after {width: 0;}#sk-container-id-1 div.sk-dashed-wrapped {border: 1px dashed gray;margin: 0 0.4em 0.5em 0.4em;box-sizing: border-box;padding-bottom: 0.4em;background-color: white;}#sk-container-id-1 div.sk-label label {font-family: monospace;font-weight: bold;display: inline-block;line-height: 1.2em;}#sk-container-id-1 div.sk-label-container {text-align: center;}#sk-container-id-1 div.sk-container {/* jupyter's `normalize.less` sets `[hidden] { display: none; }` but bootstrap.min.css set `[hidden] { display: none !important; }` so we also need the `!important` here to be able to override the default hidden behavior on the sphinx rendered scikit-learn.org. See: https://github.com/scikit-learn/scikit-learn/issues/21755 */display: inline-block !important;position: relative;}#sk-container-id-1 div.sk-text-repr-fallback {display: none;}</style><div id=\"sk-container-id-1\" class=\"sk-top-container\"><div class=\"sk-text-repr-fallback\"><pre>GridSearchCV(cv=5, estimator=RandomForestClassifier(), n_jobs=4,\n",
              "             param_grid={&#x27;bootstrap&#x27;: [False], &#x27;max_features&#x27;: [&#x27;sqrt&#x27;],\n",
              "                         &#x27;min_samples_leaf&#x27;: [1],\n",
              "                         &#x27;min_samples_split&#x27;: [2, 3, 4],\n",
              "                         &#x27;n_estimators&#x27;: [1200, 1400, 1600]},\n",
              "             scoring=&#x27;precision&#x27;)</pre><b>In a Jupyter environment, please rerun this cell to show the HTML representation or trust the notebook. <br />On GitHub, the HTML representation is unable to render, please try loading this page with nbviewer.org.</b></div><div class=\"sk-container\" hidden><div class=\"sk-item sk-dashed-wrapped\"><div class=\"sk-label-container\"><div class=\"sk-label sk-toggleable\"><input class=\"sk-toggleable__control sk-hidden--visually\" id=\"sk-estimator-id-1\" type=\"checkbox\" ><label for=\"sk-estimator-id-1\" class=\"sk-toggleable__label sk-toggleable__label-arrow\">GridSearchCV</label><div class=\"sk-toggleable__content\"><pre>GridSearchCV(cv=5, estimator=RandomForestClassifier(), n_jobs=4,\n",
              "             param_grid={&#x27;bootstrap&#x27;: [False], &#x27;max_features&#x27;: [&#x27;sqrt&#x27;],\n",
              "                         &#x27;min_samples_leaf&#x27;: [1],\n",
              "                         &#x27;min_samples_split&#x27;: [2, 3, 4],\n",
              "                         &#x27;n_estimators&#x27;: [1200, 1400, 1600]},\n",
              "             scoring=&#x27;precision&#x27;)</pre></div></div></div><div class=\"sk-parallel\"><div class=\"sk-parallel-item\"><div class=\"sk-item\"><div class=\"sk-label-container\"><div class=\"sk-label sk-toggleable\"><input class=\"sk-toggleable__control sk-hidden--visually\" id=\"sk-estimator-id-2\" type=\"checkbox\" ><label for=\"sk-estimator-id-2\" class=\"sk-toggleable__label sk-toggleable__label-arrow\">estimator: RandomForestClassifier</label><div class=\"sk-toggleable__content\"><pre>RandomForestClassifier()</pre></div></div></div><div class=\"sk-serial\"><div class=\"sk-item\"><div class=\"sk-estimator sk-toggleable\"><input class=\"sk-toggleable__control sk-hidden--visually\" id=\"sk-estimator-id-3\" type=\"checkbox\" ><label for=\"sk-estimator-id-3\" class=\"sk-toggleable__label sk-toggleable__label-arrow\">RandomForestClassifier</label><div class=\"sk-toggleable__content\"><pre>RandomForestClassifier()</pre></div></div></div></div></div></div></div></div></div></div>"
            ],
            "text/plain": [
              "GridSearchCV(cv=5, estimator=RandomForestClassifier(), n_jobs=4,\n",
              "             param_grid={'bootstrap': [False], 'max_features': ['sqrt'],\n",
              "                         'min_samples_leaf': [1],\n",
              "                         'min_samples_split': [2, 3, 4],\n",
              "                         'n_estimators': [1200, 1400, 1600]},\n",
              "             scoring='precision')"
            ]
          },
          "execution_count": 24,
          "metadata": {},
          "output_type": "execute_result"
        }
      ],
      "source": [
        "params = {'n_estimators': [1200, 1400, 1600],\n",
        "            'min_samples_split' : [2,3,4],\n",
        "            'min_samples_leaf' : [1],\n",
        "            'max_features' : ['sqrt'],\n",
        "            'bootstrap' : [False]\n",
        "}\n",
        "\n",
        "rf_gs = RandomForestClassifier()\n",
        "clf_gs = GridSearchCV(rf_gs, params, cv = 5, scoring = 'precision', n_jobs = 4)\n",
        "clf_gs.fit(X_train, y_train)\n"
      ]
    },
    {
      "cell_type": "code",
      "execution_count": null,
      "metadata": {
        "id": "W7mvm7NJ5RaJ",
        "outputId": "0edb7e50-3697-4d87-8bb1-ec2bde09304c"
      },
      "outputs": [
        {
          "data": {
            "text/plain": [
              "{'bootstrap': False,\n",
              " 'max_features': 'sqrt',\n",
              " 'min_samples_leaf': 1,\n",
              " 'min_samples_split': 4,\n",
              " 'n_estimators': 1600}"
            ]
          },
          "execution_count": 26,
          "metadata": {},
          "output_type": "execute_result"
        }
      ],
      "source": [
        "clf_gs.best_params_"
      ]
    },
    {
      "cell_type": "code",
      "execution_count": null,
      "metadata": {
        "id": "WslEvQIr5RaJ",
        "outputId": "47c3f4c2-e782-4d3c-e5d7-525f94662b0d"
      },
      "outputs": [
        {
          "name": "stdout",
          "output_type": "stream",
          "text": [
            "Accuracy: 0.9292906973073645\n",
            "Recall Score: 0.8885625843320899\n",
            "Precision Score: 0.9305128418252847\n"
          ]
        }
      ],
      "source": [
        "gs_preds = clf_gs.predict(X_test)\n",
        "print(f'Accuracy: {accuracy_score(y_test, gs_preds)}')\n",
        "rec = recall_score(y_test,gs_preds)\n",
        "prec = precision_score(y_test, gs_preds)\n",
        "print(f'Recall Score: {rec}')\n",
        "print(f'Precision Score: {prec}')"
      ]
    },
    {
      "cell_type": "markdown",
      "metadata": {
        "id": "QSix8no45RaK"
      },
      "source": [
        "### Logistic Regression"
      ]
    },
    {
      "cell_type": "code",
      "execution_count": 21,
      "metadata": {
        "id": "miFrBahDATEG"
      },
      "outputs": [],
      "source": [
        "from sklearn.preprocessing import StandardScaler\n",
        "\n",
        "scaler = StandardScaler()\n",
        "X_train_scaled = scaler.fit_transform(X_train)\n",
        "X_test_scaled = scaler.transform(X_test)"
      ]
    },
    {
      "cell_type": "code",
      "execution_count": null,
      "metadata": {
        "id": "3ekOmTOl5RaK",
        "outputId": "671c9cfe-0212-4d19-f0ce-01f84427639c"
      },
      "outputs": [
        {
          "name": "stdout",
          "output_type": "stream",
          "text": [
            "Accuracy: 0.705483127623978\n",
            "Recall Score: 0.5228192713707437\n",
            "Precision Score: 0.665017667844523\n"
          ]
        }
      ],
      "source": [
        "lr = LogisticRegressionCV(random_state=9, cv =5).fit(X_train_scaled, y_train)\n",
        "lr_preds = lr.predict(X_test_scaled)\n",
        "print(f'Accuracy: {accuracy_score(y_test, lr_preds)}')\n",
        "rec = recall_score(y_test,lr_preds)\n",
        "prec = precision_score(y_test, lr_preds)\n",
        "print(f'Recall Score: {rec}')\n",
        "print(f'Precision Score: {prec}')"
      ]
    },
    {
      "cell_type": "code",
      "execution_count": null,
      "metadata": {
        "id": "XMN1m3TZ5RaL",
        "outputId": "1d9f25eb-f098-4cd2-a55a-973804ced353"
      },
      "outputs": [
        {
          "name": "stdout",
          "output_type": "stream",
          "text": [
            "Fitting 5 folds for each of 12 candidates, totalling 60 fits\n",
            "[CV] END ......multi_class=ovr, penalty=l2, solver=liblinear; total time=   1.6s\n",
            "[CV] END ......multi_class=ovr, penalty=l2, solver=liblinear; total time=   1.7s\n",
            "[CV] END ......multi_class=ovr, penalty=l2, solver=liblinear; total time=   1.7s\n",
            "[CV] END ......multi_class=ovr, penalty=l2, solver=liblinear; total time=   1.7s\n",
            "[CV] END ..........multi_class=ovr, penalty=l2, solver=lbfgs; total time=   0.4s\n",
            "[CV] END ..........multi_class=ovr, penalty=l2, solver=lbfgs; total time=   0.7s\n",
            "[CV] END ..........multi_class=ovr, penalty=l2, solver=lbfgs; total time=   0.7s\n",
            "[CV] END ..........multi_class=ovr, penalty=l2, solver=lbfgs; total time=   0.8s\n",
            "[CV] END ..........multi_class=ovr, penalty=l2, solver=lbfgs; total time=   0.6s\n",
            "[CV] END ......multi_class=ovr, penalty=l2, solver=liblinear; total time=   1.9s\n",
            "[CV] END ............multi_class=ovr, penalty=l2, solver=sag; total time=   2.5s\n",
            "[CV] END ............multi_class=ovr, penalty=l2, solver=sag; total time=   4.2s\n",
            "[CV] END ............multi_class=ovr, penalty=l2, solver=sag; total time=   5.4s\n",
            "[CV] END ............multi_class=ovr, penalty=l2, solver=sag; total time=   5.2s\n",
            "[CV] END ............multi_class=ovr, penalty=l2, solver=sag; total time=   6.6s\n",
            "[CV] END ......multi_class=ovr, penalty=l1, solver=liblinear; total time= 1.4min\n",
            "[CV] END ......multi_class=ovr, penalty=l1, solver=liblinear; total time= 1.4min\n",
            "[CV] END ..........multi_class=ovr, penalty=l1, solver=lbfgs; total time=   0.0s\n",
            "[CV] END ..........multi_class=ovr, penalty=l1, solver=lbfgs; total time=   0.0s\n",
            "[CV] END ..........multi_class=ovr, penalty=l1, solver=lbfgs; total time=   0.0s\n",
            "[CV] END ..........multi_class=ovr, penalty=l1, solver=lbfgs; total time=   0.0s\n",
            "[CV] END ..........multi_class=ovr, penalty=l1, solver=lbfgs; total time=   0.0s\n",
            "[CV] END ............multi_class=ovr, penalty=l1, solver=sag; total time=   0.0s\n",
            "[CV] END ............multi_class=ovr, penalty=l1, solver=sag; total time=   0.0s\n",
            "[CV] END ............multi_class=ovr, penalty=l1, solver=sag; total time=   0.0s\n",
            "[CV] END ............multi_class=ovr, penalty=l1, solver=sag; total time=   0.0s\n",
            "[CV] END ............multi_class=ovr, penalty=l1, solver=sag; total time=   0.0s\n",
            "[CV] END ....multi_class=ovr, penalty=none, solver=liblinear; total time=   0.0s\n",
            "[CV] END ....multi_class=ovr, penalty=none, solver=liblinear; total time=   0.0s\n",
            "[CV] END ....multi_class=ovr, penalty=none, solver=liblinear; total time=   0.0s\n",
            "[CV] END ....multi_class=ovr, penalty=none, solver=liblinear; total time=   0.0s\n",
            "[CV] END ....multi_class=ovr, penalty=none, solver=liblinear; total time=   0.0s\n",
            "[CV] END ........multi_class=ovr, penalty=none, solver=lbfgs; total time=   0.5s\n",
            "[CV] END ........multi_class=ovr, penalty=none, solver=lbfgs; total time=   0.7s\n",
            "[CV] END ........multi_class=ovr, penalty=none, solver=lbfgs; total time=   0.7s\n",
            "[CV] END ........multi_class=ovr, penalty=none, solver=lbfgs; total time=   0.6s\n",
            "[CV] END ........multi_class=ovr, penalty=none, solver=lbfgs; total time=   0.7s\n",
            "[CV] END ......multi_class=ovr, penalty=l1, solver=liblinear; total time= 1.5min\n",
            "[CV] END ..........multi_class=ovr, penalty=none, solver=sag; total time=   3.0s\n",
            "[CV] END ......multi_class=ovr, penalty=l1, solver=liblinear; total time=  13.8s\n",
            "[CV] END ......multi_class=ovr, penalty=l1, solver=liblinear; total time= 1.6min\n",
            "[CV] END ..........multi_class=ovr, penalty=none, solver=sag; total time=   5.8s\n",
            "[CV] END multi_class=ovr, penalty=elasticnet, solver=liblinear; total time=   0.0s\n",
            "[CV] END multi_class=ovr, penalty=elasticnet, solver=liblinear; total time=   0.0s\n",
            "[CV] END multi_class=ovr, penalty=elasticnet, solver=liblinear; total time=   0.0s\n",
            "[CV] END multi_class=ovr, penalty=elasticnet, solver=liblinear; total time=   0.0s\n",
            "[CV] END multi_class=ovr, penalty=elasticnet, solver=liblinear; total time=   0.0s\n",
            "[CV] END ..multi_class=ovr, penalty=elasticnet, solver=lbfgs; total time=   0.0s\n",
            "[CV] END ..multi_class=ovr, penalty=elasticnet, solver=lbfgs; total time=   0.0s\n",
            "[CV] END ..multi_class=ovr, penalty=elasticnet, solver=lbfgs; total time=   0.0s\n",
            "[CV] END ..multi_class=ovr, penalty=elasticnet, solver=lbfgs; total time=   0.0s\n",
            "[CV] END ..multi_class=ovr, penalty=elasticnet, solver=lbfgs; total time=   0.0s\n",
            "[CV] END ....multi_class=ovr, penalty=elasticnet, solver=sag; total time=   0.0s\n",
            "[CV] END ....multi_class=ovr, penalty=elasticnet, solver=sag; total time=   0.0s\n",
            "[CV] END ....multi_class=ovr, penalty=elasticnet, solver=sag; total time=   0.0s\n",
            "[CV] END ....multi_class=ovr, penalty=elasticnet, solver=sag; total time=   0.0s\n",
            "[CV] END ....multi_class=ovr, penalty=elasticnet, solver=sag; total time=   0.0s\n",
            "[CV] END ..........multi_class=ovr, penalty=none, solver=sag; total time=   5.1s\n",
            "[CV] END ..........multi_class=ovr, penalty=none, solver=sag; total time=   4.8s\n",
            "[CV] END ..........multi_class=ovr, penalty=none, solver=sag; total time=   6.5s\n"
          ]
        },
        {
          "name": "stderr",
          "output_type": "stream",
          "text": [
            "/home/joaquin/Documents/SMU/NLP/homework/.venv/lib64/python3.11/site-packages/sklearn/model_selection/_validation.py:378: FitFailedWarning: \n",
            "30 fits failed out of a total of 60.\n",
            "The score on these train-test partitions for these parameters will be set to nan.\n",
            "If these failures are not expected, you can try to debug them by setting error_score='raise'.\n",
            "\n",
            "Below are more details about the failures:\n",
            "--------------------------------------------------------------------------------\n",
            "5 fits failed with the following error:\n",
            "Traceback (most recent call last):\n",
            "  File \"/home/joaquin/Documents/SMU/NLP/homework/.venv/lib64/python3.11/site-packages/sklearn/model_selection/_validation.py\", line 686, in _fit_and_score\n",
            "    estimator.fit(X_train, y_train, **fit_params)\n",
            "  File \"/home/joaquin/Documents/SMU/NLP/homework/.venv/lib64/python3.11/site-packages/sklearn/linear_model/_logistic.py\", line 1091, in fit\n",
            "    solver = _check_solver(self.solver, self.penalty, self.dual)\n",
            "             ^^^^^^^^^^^^^^^^^^^^^^^^^^^^^^^^^^^^^^^^^^^^^^^^^^^\n",
            "  File \"/home/joaquin/Documents/SMU/NLP/homework/.venv/lib64/python3.11/site-packages/sklearn/linear_model/_logistic.py\", line 61, in _check_solver\n",
            "    raise ValueError(\n",
            "ValueError: Solver lbfgs supports only 'l2' or 'none' penalties, got l1 penalty.\n",
            "\n",
            "--------------------------------------------------------------------------------\n",
            "5 fits failed with the following error:\n",
            "Traceback (most recent call last):\n",
            "  File \"/home/joaquin/Documents/SMU/NLP/homework/.venv/lib64/python3.11/site-packages/sklearn/model_selection/_validation.py\", line 686, in _fit_and_score\n",
            "    estimator.fit(X_train, y_train, **fit_params)\n",
            "  File \"/home/joaquin/Documents/SMU/NLP/homework/.venv/lib64/python3.11/site-packages/sklearn/linear_model/_logistic.py\", line 1091, in fit\n",
            "    solver = _check_solver(self.solver, self.penalty, self.dual)\n",
            "             ^^^^^^^^^^^^^^^^^^^^^^^^^^^^^^^^^^^^^^^^^^^^^^^^^^^\n",
            "  File \"/home/joaquin/Documents/SMU/NLP/homework/.venv/lib64/python3.11/site-packages/sklearn/linear_model/_logistic.py\", line 61, in _check_solver\n",
            "    raise ValueError(\n",
            "ValueError: Solver sag supports only 'l2' or 'none' penalties, got l1 penalty.\n",
            "\n",
            "--------------------------------------------------------------------------------\n",
            "5 fits failed with the following error:\n",
            "Traceback (most recent call last):\n",
            "  File \"/home/joaquin/Documents/SMU/NLP/homework/.venv/lib64/python3.11/site-packages/sklearn/model_selection/_validation.py\", line 686, in _fit_and_score\n",
            "    estimator.fit(X_train, y_train, **fit_params)\n",
            "  File \"/home/joaquin/Documents/SMU/NLP/homework/.venv/lib64/python3.11/site-packages/sklearn/linear_model/_logistic.py\", line 1091, in fit\n",
            "    solver = _check_solver(self.solver, self.penalty, self.dual)\n",
            "             ^^^^^^^^^^^^^^^^^^^^^^^^^^^^^^^^^^^^^^^^^^^^^^^^^^^\n",
            "  File \"/home/joaquin/Documents/SMU/NLP/homework/.venv/lib64/python3.11/site-packages/sklearn/linear_model/_logistic.py\", line 78, in _check_solver\n",
            "    raise ValueError(\"penalty='none' is not supported for the liblinear solver\")\n",
            "ValueError: penalty='none' is not supported for the liblinear solver\n",
            "\n",
            "--------------------------------------------------------------------------------\n",
            "5 fits failed with the following error:\n",
            "Traceback (most recent call last):\n",
            "  File \"/home/joaquin/Documents/SMU/NLP/homework/.venv/lib64/python3.11/site-packages/sklearn/model_selection/_validation.py\", line 686, in _fit_and_score\n",
            "    estimator.fit(X_train, y_train, **fit_params)\n",
            "  File \"/home/joaquin/Documents/SMU/NLP/homework/.venv/lib64/python3.11/site-packages/sklearn/linear_model/_logistic.py\", line 1091, in fit\n",
            "    solver = _check_solver(self.solver, self.penalty, self.dual)\n",
            "             ^^^^^^^^^^^^^^^^^^^^^^^^^^^^^^^^^^^^^^^^^^^^^^^^^^^\n",
            "  File \"/home/joaquin/Documents/SMU/NLP/homework/.venv/lib64/python3.11/site-packages/sklearn/linear_model/_logistic.py\", line 71, in _check_solver\n",
            "    raise ValueError(\n",
            "ValueError: Only 'saga' solver supports elasticnet penalty, got solver=liblinear.\n",
            "\n",
            "--------------------------------------------------------------------------------\n",
            "5 fits failed with the following error:\n",
            "Traceback (most recent call last):\n",
            "  File \"/home/joaquin/Documents/SMU/NLP/homework/.venv/lib64/python3.11/site-packages/sklearn/model_selection/_validation.py\", line 686, in _fit_and_score\n",
            "    estimator.fit(X_train, y_train, **fit_params)\n",
            "  File \"/home/joaquin/Documents/SMU/NLP/homework/.venv/lib64/python3.11/site-packages/sklearn/linear_model/_logistic.py\", line 1091, in fit\n",
            "    solver = _check_solver(self.solver, self.penalty, self.dual)\n",
            "             ^^^^^^^^^^^^^^^^^^^^^^^^^^^^^^^^^^^^^^^^^^^^^^^^^^^\n",
            "  File \"/home/joaquin/Documents/SMU/NLP/homework/.venv/lib64/python3.11/site-packages/sklearn/linear_model/_logistic.py\", line 61, in _check_solver\n",
            "    raise ValueError(\n",
            "ValueError: Solver lbfgs supports only 'l2' or 'none' penalties, got elasticnet penalty.\n",
            "\n",
            "--------------------------------------------------------------------------------\n",
            "5 fits failed with the following error:\n",
            "Traceback (most recent call last):\n",
            "  File \"/home/joaquin/Documents/SMU/NLP/homework/.venv/lib64/python3.11/site-packages/sklearn/model_selection/_validation.py\", line 686, in _fit_and_score\n",
            "    estimator.fit(X_train, y_train, **fit_params)\n",
            "  File \"/home/joaquin/Documents/SMU/NLP/homework/.venv/lib64/python3.11/site-packages/sklearn/linear_model/_logistic.py\", line 1091, in fit\n",
            "    solver = _check_solver(self.solver, self.penalty, self.dual)\n",
            "             ^^^^^^^^^^^^^^^^^^^^^^^^^^^^^^^^^^^^^^^^^^^^^^^^^^^\n",
            "  File \"/home/joaquin/Documents/SMU/NLP/homework/.venv/lib64/python3.11/site-packages/sklearn/linear_model/_logistic.py\", line 61, in _check_solver\n",
            "    raise ValueError(\n",
            "ValueError: Solver sag supports only 'l2' or 'none' penalties, got elasticnet penalty.\n",
            "\n",
            "  warnings.warn(some_fits_failed_message, FitFailedWarning)\n",
            "/home/joaquin/Documents/SMU/NLP/homework/.venv/lib64/python3.11/site-packages/sklearn/model_selection/_search.py:953: UserWarning: One or more of the test scores are non-finite: [0.66724676 0.66726447 0.66721328 0.66723243        nan        nan\n",
            "        nan 0.66725553 0.66721328        nan        nan        nan]\n",
            "  warnings.warn(\n"
          ]
        },
        {
          "data": {
            "text/plain": [
              "{'multi_class': 'ovr', 'penalty': 'l2', 'solver': 'lbfgs'}"
            ]
          },
          "execution_count": 36,
          "metadata": {},
          "output_type": "execute_result"
        }
      ],
      "source": [
        "params = {\n",
        "    'penalty': ['l2', 'l1', 'none', 'elasticnet'],\n",
        "    'solver': ['liblinear', 'lbfgs', 'sag'],\n",
        "    'multi_class': ['ovr']\n",
        "}\n",
        "\n",
        "lr_rs = LogisticRegression()\n",
        "clf_rs = GridSearchCV(lr_rs, params, scoring = 'precision', cv = 5, n_jobs = 4, verbose = 2)\n",
        "clf_rs.fit(X_train_scaled, y_train)\n",
        "clf_rs.best_params_"
      ]
    },
    {
      "cell_type": "code",
      "execution_count": null,
      "metadata": {
        "id": "xTnpKVul5RaM",
        "outputId": "773fdb04-2bfe-4a0a-bc5f-d300c5add4ed"
      },
      "outputs": [
        {
          "name": "stdout",
          "output_type": "stream",
          "text": [
            "Accuracy: 0.7055462609299537\n",
            "Recall Score: 0.5228986427494245\n",
            "Precision Score: 0.6651186269560828\n"
          ]
        }
      ],
      "source": [
        "lr_preds = clf_rs.predict(X_test_scaled)\n",
        "print(f'Accuracy: {accuracy_score(y_test, lr_preds)}')\n",
        "rec = recall_score(y_test,lr_preds)\n",
        "prec = precision_score(y_test, lr_preds)\n",
        "print(f'Recall Score: {rec}')\n",
        "print(f'Precision Score: {prec}')"
      ]
    },
    {
      "cell_type": "markdown",
      "metadata": {
        "id": "kkoA3amy5RaM"
      },
      "source": [
        "### Neural Networks"
      ]
    },
    {
      "cell_type": "markdown",
      "metadata": {},
      "source": [
        "Tf Preprocessing"
      ]
    },
    {
      "cell_type": "code",
      "execution_count": null,
      "metadata": {},
      "outputs": [],
      "source": [
        "data_dum = pd.get_dummies(data, columns = ['x24', 'x29', 'x30'])\n",
        "\n",
        "y = data_dum['y']\n",
        "X = data_dum.drop(columns = ['y'])\n",
        "\n",
        "X_train, X_test, y_train, y_test = train_test_split(X, y, test_size=0.2, random_state=9)\n",
        "\n",
        "scaler = StandardScaler()\n",
        "\n",
        "X_train_scaled = scaler.fit_transform(X_train)\n",
        "X_test_scaled = scaler.transform(X_test)\n",
        "\n",
        "y_train = tf.one_hot(y_train, depth=2)\n",
        "y_test_oh = tf.one_hot(y_test, depth=2)"
      ]
    },
    {
      "cell_type": "code",
      "execution_count": 23,
      "metadata": {
        "colab": {
          "base_uri": "https://localhost:8080/"
        },
        "id": "UF3vD3IcA03x",
        "outputId": "02069cb5-14c5-4105-ec54-b1a78d6fdc14"
      },
      "outputs": [
        {
          "name": "stdout",
          "output_type": "stream",
          "text": [
            "(126713, 67)\n",
            "(126713, 2)\n"
          ]
        }
      ],
      "source": [
        "print(X_train_scaled.shape)\n",
        "print(y_train.shape)"
      ]
    },
    {
      "cell_type": "code",
      "execution_count": 33,
      "metadata": {
        "id": "Z-5DVh21A8oH"
      },
      "outputs": [],
      "source": [
        "my_model = tf.keras.Sequential()\n",
        "\n",
        "my_model.add(tf.keras.Input(shape=(67,)))\n",
        "my_model.add(tf.keras.layers.Dense(500, activation='sigmoid'))\n",
        "my_model.add(tf.keras.layers.Dense(400, activation = 'sigmoid'))\n",
        "my_model.add(tf.keras.layers.Dense(350, activation = 'sigmoid'))\n",
        "my_model.add(tf.keras.layers.Dense(400, activation = 'sigmoid'))\n",
        "my_model.add(tf.keras.layers.Dense(2, activation = 'sigmoid'))\n",
        "\n",
        "my_model.compile(loss='binary_crossentropy', optimizer='adam', metrics=[tf.keras.metrics.Precision()])"
      ]
    },
    {
      "cell_type": "code",
      "execution_count": 34,
      "metadata": {
        "id": "Z2pghfjqBjSZ"
      },
      "outputs": [],
      "source": [
        "from tensorflow.keras.callbacks import EarlyStopping\n",
        "safety = EarlyStopping(monitor = 'val_precision', patience = 3, mode = 'max')"
      ]
    },
    {
      "cell_type": "code",
      "execution_count": 35,
      "metadata": {
        "colab": {
          "base_uri": "https://localhost:8080/"
        },
        "id": "L-RvrjMaB3Nd",
        "outputId": "5b1fd6dc-817e-467b-de33-26547d39036d"
      },
      "outputs": [
        {
          "name": "stdout",
          "output_type": "stream",
          "text": [
            "Epoch 1/1000\n",
            "2535/2535 [==============================] - 11s 4ms/step - loss: 0.4685 - precision: 0.7719 - val_loss: 0.3162 - val_precision: 0.8642\n",
            "Epoch 2/1000\n",
            "2535/2535 [==============================] - 9s 4ms/step - loss: 0.2716 - precision: 0.8866 - val_loss: 0.2217 - val_precision: 0.9093\n",
            "Epoch 3/1000\n",
            "2535/2535 [==============================] - 9s 4ms/step - loss: 0.1964 - precision: 0.9229 - val_loss: 0.1919 - val_precision: 0.9245\n",
            "Epoch 4/1000\n",
            "2535/2535 [==============================] - 9s 4ms/step - loss: 0.1552 - precision: 0.9426 - val_loss: 0.1500 - val_precision: 0.9458\n",
            "Epoch 5/1000\n",
            "2535/2535 [==============================] - 9s 4ms/step - loss: 0.1308 - precision: 0.9533 - val_loss: 0.1250 - val_precision: 0.9546\n",
            "Epoch 6/1000\n",
            "2535/2535 [==============================] - 9s 4ms/step - loss: 0.1158 - precision: 0.9595 - val_loss: 0.1227 - val_precision: 0.9569\n",
            "Epoch 7/1000\n",
            "2535/2535 [==============================] - 9s 4ms/step - loss: 0.1058 - precision: 0.9636 - val_loss: 0.1151 - val_precision: 0.9599\n",
            "Epoch 8/1000\n",
            "2535/2535 [==============================] - 9s 4ms/step - loss: 0.0977 - precision: 0.9673 - val_loss: 0.1124 - val_precision: 0.9605\n",
            "Epoch 9/1000\n",
            "2535/2535 [==============================] - 9s 4ms/step - loss: 0.0905 - precision: 0.9701 - val_loss: 0.1124 - val_precision: 0.9614\n",
            "Epoch 10/1000\n",
            "2535/2535 [==============================] - 10s 4ms/step - loss: 0.0852 - precision: 0.9725 - val_loss: 0.1095 - val_precision: 0.9642\n",
            "Epoch 11/1000\n",
            "2535/2535 [==============================] - 9s 4ms/step - loss: 0.0795 - precision: 0.9743 - val_loss: 0.1011 - val_precision: 0.9667\n",
            "Epoch 12/1000\n",
            "2535/2535 [==============================] - 9s 4ms/step - loss: 0.0746 - precision: 0.9764 - val_loss: 0.1097 - val_precision: 0.9641\n",
            "Epoch 13/1000\n",
            "2535/2535 [==============================] - 9s 4ms/step - loss: 0.0709 - precision: 0.9779 - val_loss: 0.1012 - val_precision: 0.9664\n",
            "Epoch 14/1000\n",
            "2535/2535 [==============================] - 9s 4ms/step - loss: 0.0672 - precision: 0.9792 - val_loss: 0.1015 - val_precision: 0.9664\n"
          ]
        },
        {
          "data": {
            "text/plain": [
              "<keras.callbacks.History at 0x7f15787ca190>"
            ]
          },
          "execution_count": 35,
          "metadata": {},
          "output_type": "execute_result"
        }
      ],
      "source": [
        "my_model.fit(X_train_scaled, y_train, epochs = 1000, batch_size = 50, validation_data=(X_test_scaled, y_test_oh), callbacks = [safety])"
      ]
    },
    {
      "cell_type": "markdown",
      "metadata": {},
      "source": [
        "NN Mini-Ensemble"
      ]
    },
    {
      "cell_type": "code",
      "execution_count": null,
      "metadata": {},
      "outputs": [],
      "source": [
        "#my_model.save('m3_nn.tf')"
      ]
    },
    {
      "cell_type": "code",
      "execution_count": null,
      "metadata": {},
      "outputs": [],
      "source": [
        "keras_model = tf.keras.models.load_model('m1_nn.tf',compile = False)\n",
        "keras_model._name = 'model1'\n",
        "\n",
        "keras_model2 = tf.keras.models.load_model('m2_nn.tf',compile = False)\n",
        "keras_model._name = 'model2'\n",
        "\n",
        "keras_model3 = tf.keras.models.load_model('m3_nn.tf',compile = False)\n",
        "keras_model._name = 'model3'\n",
        "\n",
        "keras_model4 = tf.keras.models.load_model('m4_nn.tf',compile = False)\n",
        "keras_model._name = 'model4'"
      ]
    },
    {
      "cell_type": "code",
      "execution_count": null,
      "metadata": {},
      "outputs": [],
      "source": [
        "models = [keras_model, keras_model2, keras_model3]\n",
        "model_input = tf.keras.Input(shape = [67,])\n",
        "model_outputs = [model(model_input) for model in models]\n",
        "ensemble_output = tf.keras.layers.Average()(model_outputs)\n",
        "ensemble_model = tf.keras.Model(inputs = model_input, outputs = ensemble_output)"
      ]
    },
    {
      "cell_type": "code",
      "execution_count": null,
      "metadata": {},
      "outputs": [],
      "source": [
        "ensemble_model.summary()"
      ]
    },
    {
      "cell_type": "code",
      "execution_count": null,
      "metadata": {},
      "outputs": [],
      "source": [
        "preds = ensemble_model.predict(X_test_scaled)\n",
        "preds_cls_idx = preds.argmax(axis=-1)"
      ]
    },
    {
      "cell_type": "code",
      "execution_count": null,
      "metadata": {},
      "outputs": [],
      "source": [
        "precision_score(y_test, preds_cls_idx)"
      ]
    },
    {
      "cell_type": "code",
      "execution_count": null,
      "metadata": {},
      "outputs": [],
      "source": [
        "# tf method for metrics\n",
        "pr = tf.keras.metrics.Precision()\n",
        "pr.update_state(y_test, preds_cls_idx)\n",
        "print(f'Precision: {pr.result().numpy()}')\n",
        "\n",
        "#Specificity is the recall of the negative class\\n\"\n",
        "print(f'Specificity: {recall_score(y_test, preds_cls_idx, pos_label = 0)}')"
      ]
    },
    {
      "cell_type": "code",
      "execution_count": null,
      "metadata": {},
      "outputs": [],
      "source": [
        "# tf argmax function, same result, just in case the other gives errors later\\n\"\n",
        "preds = my_model.predict(X_test_scaled)\n",
        "preds2 = tf.math.argmax(preds, axis= -1)\n",
        "preds2"
      ]
    },
    {
      "cell_type": "markdown",
      "metadata": {},
      "source": [
        "### Ensemble"
      ]
    },
    {
      "cell_type": "markdown",
      "metadata": {},
      "source": [
        "Load Models"
      ]
    },
    {
      "cell_type": "code",
      "execution_count": null,
      "metadata": {},
      "outputs": [],
      "source": [
        "import pickle\n",
        "rf1 = pickle.load(open('models/m5_rf.pkl', 'rb'))"
      ]
    },
    {
      "cell_type": "code",
      "execution_count": 9,
      "metadata": {},
      "outputs": [],
      "source": [
        "ensemble_df = pd.read_csv('ensemble_df.csv', index_col = False)\n",
        "test_final = pd.read_csv('test_final.csv', index_col = False)"
      ]
    },
    {
      "cell_type": "code",
      "execution_count": 12,
      "metadata": {},
      "outputs": [],
      "source": [
        "ensemble_df = ensemble_df.drop(columns=['Unnamed: 0'])\n",
        "test_final = test_final.drop(columns=['Unnamed: 0'])\n"
      ]
    },
    {
      "cell_type": "code",
      "execution_count": 14,
      "metadata": {},
      "outputs": [
        {
          "data": {
            "text/html": [
              "<div>\n",
              "<style scoped>\n",
              "    .dataframe tbody tr th:only-of-type {\n",
              "        vertical-align: middle;\n",
              "    }\n",
              "\n",
              "    .dataframe tbody tr th {\n",
              "        vertical-align: top;\n",
              "    }\n",
              "\n",
              "    .dataframe thead th {\n",
              "        text-align: right;\n",
              "    }\n",
              "</style>\n",
              "<table border=\"1\" class=\"dataframe\">\n",
              "  <thead>\n",
              "    <tr style=\"text-align: right;\">\n",
              "      <th></th>\n",
              "      <th>0</th>\n",
              "      <th>xgb</th>\n",
              "    </tr>\n",
              "  </thead>\n",
              "  <tbody>\n",
              "    <tr>\n",
              "      <th>0</th>\n",
              "      <td>0.122500</td>\n",
              "      <td>0.048121</td>\n",
              "    </tr>\n",
              "    <tr>\n",
              "      <th>1</th>\n",
              "      <td>0.083854</td>\n",
              "      <td>0.027896</td>\n",
              "    </tr>\n",
              "    <tr>\n",
              "      <th>2</th>\n",
              "      <td>0.231354</td>\n",
              "      <td>0.126604</td>\n",
              "    </tr>\n",
              "    <tr>\n",
              "      <th>3</th>\n",
              "      <td>0.512396</td>\n",
              "      <td>0.817503</td>\n",
              "    </tr>\n",
              "    <tr>\n",
              "      <th>4</th>\n",
              "      <td>0.812812</td>\n",
              "      <td>0.906618</td>\n",
              "    </tr>\n",
              "    <tr>\n",
              "      <th>...</th>\n",
              "      <td>...</td>\n",
              "      <td>...</td>\n",
              "    </tr>\n",
              "    <tr>\n",
              "      <th>126708</th>\n",
              "      <td>0.956562</td>\n",
              "      <td>0.999486</td>\n",
              "    </tr>\n",
              "    <tr>\n",
              "      <th>126709</th>\n",
              "      <td>0.644583</td>\n",
              "      <td>0.855820</td>\n",
              "    </tr>\n",
              "    <tr>\n",
              "      <th>126710</th>\n",
              "      <td>0.013542</td>\n",
              "      <td>0.000755</td>\n",
              "    </tr>\n",
              "    <tr>\n",
              "      <th>126711</th>\n",
              "      <td>0.683854</td>\n",
              "      <td>0.964268</td>\n",
              "    </tr>\n",
              "    <tr>\n",
              "      <th>126712</th>\n",
              "      <td>0.772917</td>\n",
              "      <td>0.939343</td>\n",
              "    </tr>\n",
              "  </tbody>\n",
              "</table>\n",
              "<p>126713 rows × 2 columns</p>\n",
              "</div>"
            ],
            "text/plain": [
              "               0       xgb\n",
              "0       0.122500  0.048121\n",
              "1       0.083854  0.027896\n",
              "2       0.231354  0.126604\n",
              "3       0.512396  0.817503\n",
              "4       0.812812  0.906618\n",
              "...          ...       ...\n",
              "126708  0.956562  0.999486\n",
              "126709  0.644583  0.855820\n",
              "126710  0.013542  0.000755\n",
              "126711  0.683854  0.964268\n",
              "126712  0.772917  0.939343\n",
              "\n",
              "[126713 rows x 2 columns]"
            ]
          },
          "execution_count": 14,
          "metadata": {},
          "output_type": "execute_result"
        }
      ],
      "source": [
        "ensemble_df"
      ]
    },
    {
      "cell_type": "markdown",
      "metadata": {},
      "source": [
        "Random Forest"
      ]
    },
    {
      "cell_type": "code",
      "execution_count": 12,
      "metadata": {},
      "outputs": [],
      "source": [
        "rf = RandomForestClassifier(n_estimators=1600, min_samples_leaf=1, min_samples_split=4, max_features='sqrt', bootstrap=False, n_jobs = 4)\n",
        "\n",
        "rf_preds = cross_val_predict(rf, X_train, y_train, cv = 5, method = 'predict_proba', n_jobs = 4)"
      ]
    },
    {
      "cell_type": "code",
      "execution_count": 14,
      "metadata": {},
      "outputs": [],
      "source": [
        "level2_data = pd.DataFrame(rf_preds[:,1])"
      ]
    },
    {
      "cell_type": "code",
      "execution_count": 15,
      "metadata": {},
      "outputs": [
        {
          "data": {
            "text/html": [
              "<div>\n",
              "<style scoped>\n",
              "    .dataframe tbody tr th:only-of-type {\n",
              "        vertical-align: middle;\n",
              "    }\n",
              "\n",
              "    .dataframe tbody tr th {\n",
              "        vertical-align: top;\n",
              "    }\n",
              "\n",
              "    .dataframe thead th {\n",
              "        text-align: right;\n",
              "    }\n",
              "</style>\n",
              "<table border=\"1\" class=\"dataframe\">\n",
              "  <thead>\n",
              "    <tr style=\"text-align: right;\">\n",
              "      <th></th>\n",
              "      <th>0</th>\n",
              "    </tr>\n",
              "  </thead>\n",
              "  <tbody>\n",
              "    <tr>\n",
              "      <th>0</th>\n",
              "      <td>0.122500</td>\n",
              "    </tr>\n",
              "    <tr>\n",
              "      <th>1</th>\n",
              "      <td>0.083854</td>\n",
              "    </tr>\n",
              "    <tr>\n",
              "      <th>2</th>\n",
              "      <td>0.231354</td>\n",
              "    </tr>\n",
              "    <tr>\n",
              "      <th>3</th>\n",
              "      <td>0.512396</td>\n",
              "    </tr>\n",
              "    <tr>\n",
              "      <th>4</th>\n",
              "      <td>0.812812</td>\n",
              "    </tr>\n",
              "    <tr>\n",
              "      <th>...</th>\n",
              "      <td>...</td>\n",
              "    </tr>\n",
              "    <tr>\n",
              "      <th>126708</th>\n",
              "      <td>0.956562</td>\n",
              "    </tr>\n",
              "    <tr>\n",
              "      <th>126709</th>\n",
              "      <td>0.644583</td>\n",
              "    </tr>\n",
              "    <tr>\n",
              "      <th>126710</th>\n",
              "      <td>0.013542</td>\n",
              "    </tr>\n",
              "    <tr>\n",
              "      <th>126711</th>\n",
              "      <td>0.683854</td>\n",
              "    </tr>\n",
              "    <tr>\n",
              "      <th>126712</th>\n",
              "      <td>0.772917</td>\n",
              "    </tr>\n",
              "  </tbody>\n",
              "</table>\n",
              "<p>126713 rows × 1 columns</p>\n",
              "</div>"
            ],
            "text/plain": [
              "               0\n",
              "0       0.122500\n",
              "1       0.083854\n",
              "2       0.231354\n",
              "3       0.512396\n",
              "4       0.812812\n",
              "...          ...\n",
              "126708  0.956562\n",
              "126709  0.644583\n",
              "126710  0.013542\n",
              "126711  0.683854\n",
              "126712  0.772917\n",
              "\n",
              "[126713 rows x 1 columns]"
            ]
          },
          "execution_count": 15,
          "metadata": {},
          "output_type": "execute_result"
        }
      ],
      "source": [
        "level2_data"
      ]
    },
    {
      "cell_type": "code",
      "execution_count": 17,
      "metadata": {},
      "outputs": [
        {
          "data": {
            "text/html": [
              "<style>#sk-container-id-1 {color: black;background-color: white;}#sk-container-id-1 pre{padding: 0;}#sk-container-id-1 div.sk-toggleable {background-color: white;}#sk-container-id-1 label.sk-toggleable__label {cursor: pointer;display: block;width: 100%;margin-bottom: 0;padding: 0.3em;box-sizing: border-box;text-align: center;}#sk-container-id-1 label.sk-toggleable__label-arrow:before {content: \"▸\";float: left;margin-right: 0.25em;color: #696969;}#sk-container-id-1 label.sk-toggleable__label-arrow:hover:before {color: black;}#sk-container-id-1 div.sk-estimator:hover label.sk-toggleable__label-arrow:before {color: black;}#sk-container-id-1 div.sk-toggleable__content {max-height: 0;max-width: 0;overflow: hidden;text-align: left;background-color: #f0f8ff;}#sk-container-id-1 div.sk-toggleable__content pre {margin: 0.2em;color: black;border-radius: 0.25em;background-color: #f0f8ff;}#sk-container-id-1 input.sk-toggleable__control:checked~div.sk-toggleable__content {max-height: 200px;max-width: 100%;overflow: auto;}#sk-container-id-1 input.sk-toggleable__control:checked~label.sk-toggleable__label-arrow:before {content: \"▾\";}#sk-container-id-1 div.sk-estimator input.sk-toggleable__control:checked~label.sk-toggleable__label {background-color: #d4ebff;}#sk-container-id-1 div.sk-label input.sk-toggleable__control:checked~label.sk-toggleable__label {background-color: #d4ebff;}#sk-container-id-1 input.sk-hidden--visually {border: 0;clip: rect(1px 1px 1px 1px);clip: rect(1px, 1px, 1px, 1px);height: 1px;margin: -1px;overflow: hidden;padding: 0;position: absolute;width: 1px;}#sk-container-id-1 div.sk-estimator {font-family: monospace;background-color: #f0f8ff;border: 1px dotted black;border-radius: 0.25em;box-sizing: border-box;margin-bottom: 0.5em;}#sk-container-id-1 div.sk-estimator:hover {background-color: #d4ebff;}#sk-container-id-1 div.sk-parallel-item::after {content: \"\";width: 100%;border-bottom: 1px solid gray;flex-grow: 1;}#sk-container-id-1 div.sk-label:hover label.sk-toggleable__label {background-color: #d4ebff;}#sk-container-id-1 div.sk-serial::before {content: \"\";position: absolute;border-left: 1px solid gray;box-sizing: border-box;top: 0;bottom: 0;left: 50%;z-index: 0;}#sk-container-id-1 div.sk-serial {display: flex;flex-direction: column;align-items: center;background-color: white;padding-right: 0.2em;padding-left: 0.2em;position: relative;}#sk-container-id-1 div.sk-item {position: relative;z-index: 1;}#sk-container-id-1 div.sk-parallel {display: flex;align-items: stretch;justify-content: center;background-color: white;position: relative;}#sk-container-id-1 div.sk-item::before, #sk-container-id-1 div.sk-parallel-item::before {content: \"\";position: absolute;border-left: 1px solid gray;box-sizing: border-box;top: 0;bottom: 0;left: 50%;z-index: -1;}#sk-container-id-1 div.sk-parallel-item {display: flex;flex-direction: column;z-index: 1;position: relative;background-color: white;}#sk-container-id-1 div.sk-parallel-item:first-child::after {align-self: flex-end;width: 50%;}#sk-container-id-1 div.sk-parallel-item:last-child::after {align-self: flex-start;width: 50%;}#sk-container-id-1 div.sk-parallel-item:only-child::after {width: 0;}#sk-container-id-1 div.sk-dashed-wrapped {border: 1px dashed gray;margin: 0 0.4em 0.5em 0.4em;box-sizing: border-box;padding-bottom: 0.4em;background-color: white;}#sk-container-id-1 div.sk-label label {font-family: monospace;font-weight: bold;display: inline-block;line-height: 1.2em;}#sk-container-id-1 div.sk-label-container {text-align: center;}#sk-container-id-1 div.sk-container {/* jupyter's `normalize.less` sets `[hidden] { display: none; }` but bootstrap.min.css set `[hidden] { display: none !important; }` so we also need the `!important` here to be able to override the default hidden behavior on the sphinx rendered scikit-learn.org. See: https://github.com/scikit-learn/scikit-learn/issues/21755 */display: inline-block !important;position: relative;}#sk-container-id-1 div.sk-text-repr-fallback {display: none;}</style><div id=\"sk-container-id-1\" class=\"sk-top-container\"><div class=\"sk-text-repr-fallback\"><pre>RandomForestClassifier(bootstrap=False, min_samples_split=4, n_estimators=1600,\n",
              "                       n_jobs=4)</pre><b>In a Jupyter environment, please rerun this cell to show the HTML representation or trust the notebook. <br />On GitHub, the HTML representation is unable to render, please try loading this page with nbviewer.org.</b></div><div class=\"sk-container\" hidden><div class=\"sk-item\"><div class=\"sk-estimator sk-toggleable\"><input class=\"sk-toggleable__control sk-hidden--visually\" id=\"sk-estimator-id-1\" type=\"checkbox\" checked><label for=\"sk-estimator-id-1\" class=\"sk-toggleable__label sk-toggleable__label-arrow\">RandomForestClassifier</label><div class=\"sk-toggleable__content\"><pre>RandomForestClassifier(bootstrap=False, min_samples_split=4, n_estimators=1600,\n",
              "                       n_jobs=4)</pre></div></div></div></div></div>"
            ],
            "text/plain": [
              "RandomForestClassifier(bootstrap=False, min_samples_split=4, n_estimators=1600,\n",
              "                       n_jobs=4)"
            ]
          },
          "execution_count": 17,
          "metadata": {},
          "output_type": "execute_result"
        }
      ],
      "source": [
        "rf.fit(X_train, y_train)"
      ]
    },
    {
      "cell_type": "code",
      "execution_count": 18,
      "metadata": {},
      "outputs": [],
      "source": [
        "# create level2 df\n",
        "level2_data = pd.DataFrame(rf_preds[:,1])\n",
        "\n",
        "# create test values\n",
        "test_rf = rf.predict_proba(X_test)"
      ]
    },
    {
      "cell_type": "markdown",
      "metadata": {},
      "source": [
        "XGBoost"
      ]
    },
    {
      "cell_type": "code",
      "execution_count": 21,
      "metadata": {},
      "outputs": [],
      "source": [
        "import xgboost as xgb\n",
        "\n",
        "# evallist = [(dtest,'eval'), (dtrain,'train')]\\n\"\n",
        "# params = {\n",
        "#     'objective':'binary:logistic',\n",
        "#     'eval_metric':'logloss',\n",
        "#     'eta':.1,\n",
        "#     'subsample':.8,\n",
        "#     'min_child_weight':1}\n",
        "\n",
        "#xgb_model = xgb.train(params=params, dtrain=dtrain, num_boost_round=300, evals=evallist, early_stopping_rounds=1)\\n\",\n",
        "xgb_model = xgb.XGBClassifier(objective = 'binary:logistic',min_child_weight=1, subsample=.8, random_state= 9)\n"
      ]
    },
    {
      "cell_type": "code",
      "execution_count": 23,
      "metadata": {},
      "outputs": [],
      "source": [
        "xgb_pred = cross_val_predict(xgb_model, X_train, y_train, cv= 5, method = 'predict_proba', n_jobs = 3)"
      ]
    },
    {
      "cell_type": "code",
      "execution_count": 25,
      "metadata": {},
      "outputs": [],
      "source": [
        "#add xgb column\n",
        "level2_data['xgb'] = xgb_pred[:,1]\n",
        "\n",
        "#save level2 df\n",
        "level2_data.to_csv('ensemble_df.csv')"
      ]
    },
    {
      "cell_type": "code",
      "execution_count": 26,
      "metadata": {},
      "outputs": [
        {
          "data": {
            "text/html": [
              "<div>\n",
              "<style scoped>\n",
              "    .dataframe tbody tr th:only-of-type {\n",
              "        vertical-align: middle;\n",
              "    }\n",
              "\n",
              "    .dataframe tbody tr th {\n",
              "        vertical-align: top;\n",
              "    }\n",
              "\n",
              "    .dataframe thead th {\n",
              "        text-align: right;\n",
              "    }\n",
              "</style>\n",
              "<table border=\"1\" class=\"dataframe\">\n",
              "  <thead>\n",
              "    <tr style=\"text-align: right;\">\n",
              "      <th></th>\n",
              "      <th>0</th>\n",
              "      <th>xgb</th>\n",
              "    </tr>\n",
              "  </thead>\n",
              "  <tbody>\n",
              "    <tr>\n",
              "      <th>0</th>\n",
              "      <td>0.122500</td>\n",
              "      <td>0.048121</td>\n",
              "    </tr>\n",
              "    <tr>\n",
              "      <th>1</th>\n",
              "      <td>0.083854</td>\n",
              "      <td>0.027896</td>\n",
              "    </tr>\n",
              "    <tr>\n",
              "      <th>2</th>\n",
              "      <td>0.231354</td>\n",
              "      <td>0.126604</td>\n",
              "    </tr>\n",
              "    <tr>\n",
              "      <th>3</th>\n",
              "      <td>0.512396</td>\n",
              "      <td>0.817503</td>\n",
              "    </tr>\n",
              "    <tr>\n",
              "      <th>4</th>\n",
              "      <td>0.812812</td>\n",
              "      <td>0.906618</td>\n",
              "    </tr>\n",
              "  </tbody>\n",
              "</table>\n",
              "</div>"
            ],
            "text/plain": [
              "          0       xgb\n",
              "0  0.122500  0.048121\n",
              "1  0.083854  0.027896\n",
              "2  0.231354  0.126604\n",
              "3  0.512396  0.817503\n",
              "4  0.812812  0.906618"
            ]
          },
          "execution_count": 26,
          "metadata": {},
          "output_type": "execute_result"
        }
      ],
      "source": [
        "level2_data.head()"
      ]
    },
    {
      "cell_type": "code",
      "execution_count": 27,
      "metadata": {},
      "outputs": [
        {
          "data": {
            "text/html": [
              "<style>#sk-container-id-2 {color: black;background-color: white;}#sk-container-id-2 pre{padding: 0;}#sk-container-id-2 div.sk-toggleable {background-color: white;}#sk-container-id-2 label.sk-toggleable__label {cursor: pointer;display: block;width: 100%;margin-bottom: 0;padding: 0.3em;box-sizing: border-box;text-align: center;}#sk-container-id-2 label.sk-toggleable__label-arrow:before {content: \"▸\";float: left;margin-right: 0.25em;color: #696969;}#sk-container-id-2 label.sk-toggleable__label-arrow:hover:before {color: black;}#sk-container-id-2 div.sk-estimator:hover label.sk-toggleable__label-arrow:before {color: black;}#sk-container-id-2 div.sk-toggleable__content {max-height: 0;max-width: 0;overflow: hidden;text-align: left;background-color: #f0f8ff;}#sk-container-id-2 div.sk-toggleable__content pre {margin: 0.2em;color: black;border-radius: 0.25em;background-color: #f0f8ff;}#sk-container-id-2 input.sk-toggleable__control:checked~div.sk-toggleable__content {max-height: 200px;max-width: 100%;overflow: auto;}#sk-container-id-2 input.sk-toggleable__control:checked~label.sk-toggleable__label-arrow:before {content: \"▾\";}#sk-container-id-2 div.sk-estimator input.sk-toggleable__control:checked~label.sk-toggleable__label {background-color: #d4ebff;}#sk-container-id-2 div.sk-label input.sk-toggleable__control:checked~label.sk-toggleable__label {background-color: #d4ebff;}#sk-container-id-2 input.sk-hidden--visually {border: 0;clip: rect(1px 1px 1px 1px);clip: rect(1px, 1px, 1px, 1px);height: 1px;margin: -1px;overflow: hidden;padding: 0;position: absolute;width: 1px;}#sk-container-id-2 div.sk-estimator {font-family: monospace;background-color: #f0f8ff;border: 1px dotted black;border-radius: 0.25em;box-sizing: border-box;margin-bottom: 0.5em;}#sk-container-id-2 div.sk-estimator:hover {background-color: #d4ebff;}#sk-container-id-2 div.sk-parallel-item::after {content: \"\";width: 100%;border-bottom: 1px solid gray;flex-grow: 1;}#sk-container-id-2 div.sk-label:hover label.sk-toggleable__label {background-color: #d4ebff;}#sk-container-id-2 div.sk-serial::before {content: \"\";position: absolute;border-left: 1px solid gray;box-sizing: border-box;top: 0;bottom: 0;left: 50%;z-index: 0;}#sk-container-id-2 div.sk-serial {display: flex;flex-direction: column;align-items: center;background-color: white;padding-right: 0.2em;padding-left: 0.2em;position: relative;}#sk-container-id-2 div.sk-item {position: relative;z-index: 1;}#sk-container-id-2 div.sk-parallel {display: flex;align-items: stretch;justify-content: center;background-color: white;position: relative;}#sk-container-id-2 div.sk-item::before, #sk-container-id-2 div.sk-parallel-item::before {content: \"\";position: absolute;border-left: 1px solid gray;box-sizing: border-box;top: 0;bottom: 0;left: 50%;z-index: -1;}#sk-container-id-2 div.sk-parallel-item {display: flex;flex-direction: column;z-index: 1;position: relative;background-color: white;}#sk-container-id-2 div.sk-parallel-item:first-child::after {align-self: flex-end;width: 50%;}#sk-container-id-2 div.sk-parallel-item:last-child::after {align-self: flex-start;width: 50%;}#sk-container-id-2 div.sk-parallel-item:only-child::after {width: 0;}#sk-container-id-2 div.sk-dashed-wrapped {border: 1px dashed gray;margin: 0 0.4em 0.5em 0.4em;box-sizing: border-box;padding-bottom: 0.4em;background-color: white;}#sk-container-id-2 div.sk-label label {font-family: monospace;font-weight: bold;display: inline-block;line-height: 1.2em;}#sk-container-id-2 div.sk-label-container {text-align: center;}#sk-container-id-2 div.sk-container {/* jupyter's `normalize.less` sets `[hidden] { display: none; }` but bootstrap.min.css set `[hidden] { display: none !important; }` so we also need the `!important` here to be able to override the default hidden behavior on the sphinx rendered scikit-learn.org. See: https://github.com/scikit-learn/scikit-learn/issues/21755 */display: inline-block !important;position: relative;}#sk-container-id-2 div.sk-text-repr-fallback {display: none;}</style><div id=\"sk-container-id-2\" class=\"sk-top-container\"><div class=\"sk-text-repr-fallback\"><pre>XGBClassifier(base_score=0.5, booster=&#x27;gbtree&#x27;, callbacks=None,\n",
              "              colsample_bylevel=1, colsample_bynode=1, colsample_bytree=1,\n",
              "              early_stopping_rounds=None, enable_categorical=False,\n",
              "              eval_metric=None, feature_types=None, gamma=0, gpu_id=-1,\n",
              "              grow_policy=&#x27;depthwise&#x27;, importance_type=None,\n",
              "              interaction_constraints=&#x27;&#x27;, learning_rate=0.300000012,\n",
              "              max_bin=256, max_cat_threshold=64, max_cat_to_onehot=4,\n",
              "              max_delta_step=0, max_depth=6, max_leaves=0, min_child_weight=1,\n",
              "              missing=nan, monotone_constraints=&#x27;()&#x27;, n_estimators=100,\n",
              "              n_jobs=0, num_parallel_tree=1, predictor=&#x27;auto&#x27;, random_state=9, ...)</pre><b>In a Jupyter environment, please rerun this cell to show the HTML representation or trust the notebook. <br />On GitHub, the HTML representation is unable to render, please try loading this page with nbviewer.org.</b></div><div class=\"sk-container\" hidden><div class=\"sk-item\"><div class=\"sk-estimator sk-toggleable\"><input class=\"sk-toggleable__control sk-hidden--visually\" id=\"sk-estimator-id-2\" type=\"checkbox\" checked><label for=\"sk-estimator-id-2\" class=\"sk-toggleable__label sk-toggleable__label-arrow\">XGBClassifier</label><div class=\"sk-toggleable__content\"><pre>XGBClassifier(base_score=0.5, booster=&#x27;gbtree&#x27;, callbacks=None,\n",
              "              colsample_bylevel=1, colsample_bynode=1, colsample_bytree=1,\n",
              "              early_stopping_rounds=None, enable_categorical=False,\n",
              "              eval_metric=None, feature_types=None, gamma=0, gpu_id=-1,\n",
              "              grow_policy=&#x27;depthwise&#x27;, importance_type=None,\n",
              "              interaction_constraints=&#x27;&#x27;, learning_rate=0.300000012,\n",
              "              max_bin=256, max_cat_threshold=64, max_cat_to_onehot=4,\n",
              "              max_delta_step=0, max_depth=6, max_leaves=0, min_child_weight=1,\n",
              "              missing=nan, monotone_constraints=&#x27;()&#x27;, n_estimators=100,\n",
              "              n_jobs=0, num_parallel_tree=1, predictor=&#x27;auto&#x27;, random_state=9, ...)</pre></div></div></div></div></div>"
            ],
            "text/plain": [
              "XGBClassifier(base_score=0.5, booster='gbtree', callbacks=None,\n",
              "              colsample_bylevel=1, colsample_bynode=1, colsample_bytree=1,\n",
              "              early_stopping_rounds=None, enable_categorical=False,\n",
              "              eval_metric=None, feature_types=None, gamma=0, gpu_id=-1,\n",
              "              grow_policy='depthwise', importance_type=None,\n",
              "              interaction_constraints='', learning_rate=0.300000012,\n",
              "              max_bin=256, max_cat_threshold=64, max_cat_to_onehot=4,\n",
              "              max_delta_step=0, max_depth=6, max_leaves=0, min_child_weight=1,\n",
              "              missing=nan, monotone_constraints='()', n_estimators=100,\n",
              "              n_jobs=0, num_parallel_tree=1, predictor='auto', random_state=9, ...)"
            ]
          },
          "execution_count": 27,
          "metadata": {},
          "output_type": "execute_result"
        }
      ],
      "source": [
        "# create test values for xgb\n",
        "xgb_model.fit(X_train, y_train)"
      ]
    },
    {
      "cell_type": "code",
      "execution_count": 28,
      "metadata": {},
      "outputs": [],
      "source": [
        "test_xgb = xgb_model.predict_proba(X_test)\n",
        "\n",
        "#create test df\n",
        "test_final = pd.DataFrame(test_rf[:,1])\n",
        "test_final['xgb'] = test_xgb[:,1]"
      ]
    },
    {
      "cell_type": "code",
      "execution_count": 30,
      "metadata": {},
      "outputs": [],
      "source": [
        "test_final.to_csv('test_final.csv')"
      ]
    },
    {
      "cell_type": "code",
      "execution_count": null,
      "metadata": {},
      "outputs": [],
      "source": [
        "ensemble_df = pd.read_csv('ensemble_df.csv')\n",
        "ensemble_df = ensemble_df.drop(columns=[\"Unnamed: 0\"])"
      ]
    },
    {
      "cell_type": "code",
      "execution_count": 15,
      "metadata": {},
      "outputs": [],
      "source": [
        "X_train_ens = ensemble_df.values"
      ]
    },
    {
      "cell_type": "markdown",
      "metadata": {},
      "source": [
        "Randomized Search for Level 2 Random Forest"
      ]
    },
    {
      "cell_type": "code",
      "execution_count": 19,
      "metadata": {},
      "outputs": [
        {
          "name": "stdout",
          "output_type": "stream",
          "text": [
            "Fitting 3 folds for each of 10 candidates, totalling 30 fits\n",
            "[CV] END bootstrap=True, max_features=sqrt, min_samples_leaf=2, min_samples_split=10, n_estimators=800; total time= 2.9min\n",
            "[CV] END bootstrap=True, max_features=sqrt, min_samples_leaf=2, min_samples_split=10, n_estimators=800; total time= 3.2min\n",
            "[CV] END bootstrap=True, max_features=sqrt, min_samples_leaf=2, min_samples_split=10, n_estimators=800; total time= 3.3min\n",
            "[CV] END bootstrap=True, max_features=sqrt, min_samples_leaf=2, min_samples_split=5, n_estimators=1000; total time= 4.0min\n",
            "[CV] END bootstrap=True, max_features=sqrt, min_samples_leaf=2, min_samples_split=5, n_estimators=1000; total time= 4.6min\n",
            "[CV] END bootstrap=True, max_features=sqrt, min_samples_leaf=2, min_samples_split=5, n_estimators=1000; total time= 4.1min\n",
            "[CV] END bootstrap=False, max_features=sqrt, min_samples_leaf=1, min_samples_split=10, n_estimators=400; total time= 2.5min\n",
            "[CV] END bootstrap=False, max_features=sqrt, min_samples_leaf=1, min_samples_split=10, n_estimators=400; total time= 2.3min\n",
            "[CV] END bootstrap=False, max_features=sqrt, min_samples_leaf=1, min_samples_split=10, n_estimators=400; total time= 2.5min\n",
            "[CV] END bootstrap=True, max_features=sqrt, min_samples_leaf=1, min_samples_split=5, n_estimators=1600; total time= 6.3min\n"
          ]
        },
        {
          "name": "stderr",
          "output_type": "stream",
          "text": [
            "/home/joaquin/Documents/SMU/QTW/case_studies/QTW_CaseStudy/.venv/lib/python3.11/site-packages/joblib/externals/loky/process_executor.py:700: UserWarning: A worker stopped while some jobs were given to the executor. This can be caused by a too short worker timeout or by a memory leak.\n",
            "  warnings.warn(\n"
          ]
        },
        {
          "name": "stdout",
          "output_type": "stream",
          "text": [
            "[CV] END bootstrap=True, max_features=sqrt, min_samples_leaf=1, min_samples_split=5, n_estimators=1600; total time= 7.2min\n",
            "[CV] END bootstrap=True, max_features=sqrt, min_samples_leaf=1, min_samples_split=5, n_estimators=1600; total time= 7.7min\n",
            "[CV] END bootstrap=True, max_features=sqrt, min_samples_leaf=2, min_samples_split=5, n_estimators=1600; total time= 7.0min\n",
            "[CV] END bootstrap=True, max_features=sqrt, min_samples_leaf=2, min_samples_split=2, n_estimators=2000; total time= 8.4min\n",
            "[CV] END bootstrap=True, max_features=sqrt, min_samples_leaf=2, min_samples_split=2, n_estimators=2000; total time= 8.6min\n",
            "[CV] END bootstrap=True, max_features=sqrt, min_samples_leaf=2, min_samples_split=5, n_estimators=1600; total time= 7.1min\n",
            "[CV] END bootstrap=True, max_features=sqrt, min_samples_leaf=2, min_samples_split=2, n_estimators=2000; total time= 7.8min\n",
            "[CV] END bootstrap=False, max_features=sqrt, min_samples_leaf=2, min_samples_split=5, n_estimators=400; total time= 2.5min\n",
            "[CV] END bootstrap=False, max_features=sqrt, min_samples_leaf=2, min_samples_split=5, n_estimators=400; total time= 2.4min\n",
            "[CV] END bootstrap=False, max_features=sqrt, min_samples_leaf=2, min_samples_split=5, n_estimators=400; total time= 3.1min\n",
            "[CV] END bootstrap=False, max_features=sqrt, min_samples_leaf=2, min_samples_split=10, n_estimators=800; total time= 4.9min\n",
            "[CV] END bootstrap=True, max_features=sqrt, min_samples_leaf=2, min_samples_split=5, n_estimators=1600; total time= 6.7min\n",
            "[CV] END bootstrap=False, max_features=sqrt, min_samples_leaf=4, min_samples_split=5, n_estimators=600; total time= 4.2min\n",
            "[CV] END bootstrap=False, max_features=sqrt, min_samples_leaf=2, min_samples_split=10, n_estimators=800; total time= 4.9min\n",
            "[CV] END bootstrap=False, max_features=sqrt, min_samples_leaf=2, min_samples_split=10, n_estimators=800; total time= 5.3min\n",
            "[CV] END bootstrap=False, max_features=sqrt, min_samples_leaf=4, min_samples_split=5, n_estimators=600; total time= 4.4min\n",
            "[CV] END bootstrap=False, max_features=sqrt, min_samples_leaf=4, min_samples_split=5, n_estimators=600; total time= 3.4min\n",
            "[CV] END bootstrap=False, max_features=sqrt, min_samples_leaf=1, min_samples_split=5, n_estimators=1600; total time= 8.1min\n",
            "[CV] END bootstrap=False, max_features=sqrt, min_samples_leaf=1, min_samples_split=5, n_estimators=1600; total time= 7.9min\n",
            "[CV] END bootstrap=False, max_features=sqrt, min_samples_leaf=1, min_samples_split=5, n_estimators=1600; total time= 8.3min\n"
          ]
        },
        {
          "data": {
            "text/html": [
              "<style>#sk-container-id-2 {color: black;background-color: white;}#sk-container-id-2 pre{padding: 0;}#sk-container-id-2 div.sk-toggleable {background-color: white;}#sk-container-id-2 label.sk-toggleable__label {cursor: pointer;display: block;width: 100%;margin-bottom: 0;padding: 0.3em;box-sizing: border-box;text-align: center;}#sk-container-id-2 label.sk-toggleable__label-arrow:before {content: \"▸\";float: left;margin-right: 0.25em;color: #696969;}#sk-container-id-2 label.sk-toggleable__label-arrow:hover:before {color: black;}#sk-container-id-2 div.sk-estimator:hover label.sk-toggleable__label-arrow:before {color: black;}#sk-container-id-2 div.sk-toggleable__content {max-height: 0;max-width: 0;overflow: hidden;text-align: left;background-color: #f0f8ff;}#sk-container-id-2 div.sk-toggleable__content pre {margin: 0.2em;color: black;border-radius: 0.25em;background-color: #f0f8ff;}#sk-container-id-2 input.sk-toggleable__control:checked~div.sk-toggleable__content {max-height: 200px;max-width: 100%;overflow: auto;}#sk-container-id-2 input.sk-toggleable__control:checked~label.sk-toggleable__label-arrow:before {content: \"▾\";}#sk-container-id-2 div.sk-estimator input.sk-toggleable__control:checked~label.sk-toggleable__label {background-color: #d4ebff;}#sk-container-id-2 div.sk-label input.sk-toggleable__control:checked~label.sk-toggleable__label {background-color: #d4ebff;}#sk-container-id-2 input.sk-hidden--visually {border: 0;clip: rect(1px 1px 1px 1px);clip: rect(1px, 1px, 1px, 1px);height: 1px;margin: -1px;overflow: hidden;padding: 0;position: absolute;width: 1px;}#sk-container-id-2 div.sk-estimator {font-family: monospace;background-color: #f0f8ff;border: 1px dotted black;border-radius: 0.25em;box-sizing: border-box;margin-bottom: 0.5em;}#sk-container-id-2 div.sk-estimator:hover {background-color: #d4ebff;}#sk-container-id-2 div.sk-parallel-item::after {content: \"\";width: 100%;border-bottom: 1px solid gray;flex-grow: 1;}#sk-container-id-2 div.sk-label:hover label.sk-toggleable__label {background-color: #d4ebff;}#sk-container-id-2 div.sk-serial::before {content: \"\";position: absolute;border-left: 1px solid gray;box-sizing: border-box;top: 0;bottom: 0;left: 50%;z-index: 0;}#sk-container-id-2 div.sk-serial {display: flex;flex-direction: column;align-items: center;background-color: white;padding-right: 0.2em;padding-left: 0.2em;position: relative;}#sk-container-id-2 div.sk-item {position: relative;z-index: 1;}#sk-container-id-2 div.sk-parallel {display: flex;align-items: stretch;justify-content: center;background-color: white;position: relative;}#sk-container-id-2 div.sk-item::before, #sk-container-id-2 div.sk-parallel-item::before {content: \"\";position: absolute;border-left: 1px solid gray;box-sizing: border-box;top: 0;bottom: 0;left: 50%;z-index: -1;}#sk-container-id-2 div.sk-parallel-item {display: flex;flex-direction: column;z-index: 1;position: relative;background-color: white;}#sk-container-id-2 div.sk-parallel-item:first-child::after {align-self: flex-end;width: 50%;}#sk-container-id-2 div.sk-parallel-item:last-child::after {align-self: flex-start;width: 50%;}#sk-container-id-2 div.sk-parallel-item:only-child::after {width: 0;}#sk-container-id-2 div.sk-dashed-wrapped {border: 1px dashed gray;margin: 0 0.4em 0.5em 0.4em;box-sizing: border-box;padding-bottom: 0.4em;background-color: white;}#sk-container-id-2 div.sk-label label {font-family: monospace;font-weight: bold;display: inline-block;line-height: 1.2em;}#sk-container-id-2 div.sk-label-container {text-align: center;}#sk-container-id-2 div.sk-container {/* jupyter's `normalize.less` sets `[hidden] { display: none; }` but bootstrap.min.css set `[hidden] { display: none !important; }` so we also need the `!important` here to be able to override the default hidden behavior on the sphinx rendered scikit-learn.org. See: https://github.com/scikit-learn/scikit-learn/issues/21755 */display: inline-block !important;position: relative;}#sk-container-id-2 div.sk-text-repr-fallback {display: none;}</style><div id=\"sk-container-id-2\" class=\"sk-top-container\"><div class=\"sk-text-repr-fallback\"><pre>RandomizedSearchCV(cv=3, estimator=RandomForestClassifier(), n_jobs=5,\n",
              "                   param_distributions={&#x27;bootstrap&#x27;: [True, False],\n",
              "                                        &#x27;max_features&#x27;: [&#x27;sqrt&#x27;],\n",
              "                                        &#x27;min_samples_leaf&#x27;: [1, 2, 4],\n",
              "                                        &#x27;min_samples_split&#x27;: [2, 5, 10],\n",
              "                                        &#x27;n_estimators&#x27;: [200, 400, 600, 800,\n",
              "                                                         1000, 1200, 1400, 1600,\n",
              "                                                         1800, 2000]},\n",
              "                   random_state=9, verbose=2)</pre><b>In a Jupyter environment, please rerun this cell to show the HTML representation or trust the notebook. <br />On GitHub, the HTML representation is unable to render, please try loading this page with nbviewer.org.</b></div><div class=\"sk-container\" hidden><div class=\"sk-item sk-dashed-wrapped\"><div class=\"sk-label-container\"><div class=\"sk-label sk-toggleable\"><input class=\"sk-toggleable__control sk-hidden--visually\" id=\"sk-estimator-id-2\" type=\"checkbox\" ><label for=\"sk-estimator-id-2\" class=\"sk-toggleable__label sk-toggleable__label-arrow\">RandomizedSearchCV</label><div class=\"sk-toggleable__content\"><pre>RandomizedSearchCV(cv=3, estimator=RandomForestClassifier(), n_jobs=5,\n",
              "                   param_distributions={&#x27;bootstrap&#x27;: [True, False],\n",
              "                                        &#x27;max_features&#x27;: [&#x27;sqrt&#x27;],\n",
              "                                        &#x27;min_samples_leaf&#x27;: [1, 2, 4],\n",
              "                                        &#x27;min_samples_split&#x27;: [2, 5, 10],\n",
              "                                        &#x27;n_estimators&#x27;: [200, 400, 600, 800,\n",
              "                                                         1000, 1200, 1400, 1600,\n",
              "                                                         1800, 2000]},\n",
              "                   random_state=9, verbose=2)</pre></div></div></div><div class=\"sk-parallel\"><div class=\"sk-parallel-item\"><div class=\"sk-item\"><div class=\"sk-label-container\"><div class=\"sk-label sk-toggleable\"><input class=\"sk-toggleable__control sk-hidden--visually\" id=\"sk-estimator-id-3\" type=\"checkbox\" ><label for=\"sk-estimator-id-3\" class=\"sk-toggleable__label sk-toggleable__label-arrow\">estimator: RandomForestClassifier</label><div class=\"sk-toggleable__content\"><pre>RandomForestClassifier()</pre></div></div></div><div class=\"sk-serial\"><div class=\"sk-item\"><div class=\"sk-estimator sk-toggleable\"><input class=\"sk-toggleable__control sk-hidden--visually\" id=\"sk-estimator-id-4\" type=\"checkbox\" ><label for=\"sk-estimator-id-4\" class=\"sk-toggleable__label sk-toggleable__label-arrow\">RandomForestClassifier</label><div class=\"sk-toggleable__content\"><pre>RandomForestClassifier()</pre></div></div></div></div></div></div></div></div></div></div>"
            ],
            "text/plain": [
              "RandomizedSearchCV(cv=3, estimator=RandomForestClassifier(), n_jobs=5,\n",
              "                   param_distributions={'bootstrap': [True, False],\n",
              "                                        'max_features': ['sqrt'],\n",
              "                                        'min_samples_leaf': [1, 2, 4],\n",
              "                                        'min_samples_split': [2, 5, 10],\n",
              "                                        'n_estimators': [200, 400, 600, 800,\n",
              "                                                         1000, 1200, 1400, 1600,\n",
              "                                                         1800, 2000]},\n",
              "                   random_state=9, verbose=2)"
            ]
          },
          "execution_count": 19,
          "metadata": {},
          "output_type": "execute_result"
        }
      ],
      "source": [
        "clf = RandomForestClassifier()\n",
        "\n",
        "n_estimators = [int(x) for x in np.linspace(start = 200, stop =2000, num=10)]\n",
        "max_features = ['sqrt']\n",
        "min_samples_split = [2,5,10]\n",
        "min_samples_leaf = [1,2,4]\n",
        "bootsrap = [True, False]\n",
        "\n",
        "random_grid = {'n_estimators': n_estimators,\n",
        "                'max_features': max_features,\n",
        "                'min_samples_split': min_samples_split,\n",
        "                'min_samples_leaf': min_samples_leaf,\n",
        "                'bootstrap': bootsrap}\n",
        "\n",
        "rf_xgb_random= RandomizedSearchCV(estimator = clf, param_distributions = random_grid, n_iter = 10, cv = 3, random_state = 9, n_jobs = 5, verbose = 2)\n",
        "\n",
        "rf_xgb_random.fit(X_train_ens, y_train)"
      ]
    },
    {
      "cell_type": "code",
      "execution_count": 20,
      "metadata": {},
      "outputs": [
        {
          "data": {
            "text/plain": [
              "{'n_estimators': 800,\n",
              " 'min_samples_split': 10,\n",
              " 'min_samples_leaf': 2,\n",
              " 'max_features': 'sqrt',\n",
              " 'bootstrap': True}"
            ]
          },
          "execution_count": 20,
          "metadata": {},
          "output_type": "execute_result"
        }
      ],
      "source": [
        "rf_xgb_random.best_params_"
      ]
    },
    {
      "cell_type": "code",
      "execution_count": 24,
      "metadata": {},
      "outputs": [],
      "source": [
        "preds2 = np.where(preds>0.5,1,0)"
      ]
    },
    {
      "cell_type": "code",
      "execution_count": 25,
      "metadata": {},
      "outputs": [
        {
          "data": {
            "text/plain": [
              "0.9110439210693826"
            ]
          },
          "execution_count": 25,
          "metadata": {},
          "output_type": "execute_result"
        }
      ],
      "source": [
        "precision_score(y_test, preds2)"
      ]
    },
    {
      "cell_type": "code",
      "execution_count": 21,
      "metadata": {},
      "outputs": [
        {
          "data": {
            "text/plain": [
              "0.9110439210693826"
            ]
          },
          "execution_count": 21,
          "metadata": {},
          "output_type": "execute_result"
        }
      ],
      "source": [
        "preds = rf_xgb_random.predict(test_final.values)\n",
        "precision_score(y_test, preds)"
      ]
    },
    {
      "cell_type": "markdown",
      "metadata": {},
      "source": [
        "Linear Regression"
      ]
    },
    {
      "cell_type": "code",
      "execution_count": 16,
      "metadata": {},
      "outputs": [
        {
          "data": {
            "text/html": [
              "<style>#sk-container-id-1 {color: black;background-color: white;}#sk-container-id-1 pre{padding: 0;}#sk-container-id-1 div.sk-toggleable {background-color: white;}#sk-container-id-1 label.sk-toggleable__label {cursor: pointer;display: block;width: 100%;margin-bottom: 0;padding: 0.3em;box-sizing: border-box;text-align: center;}#sk-container-id-1 label.sk-toggleable__label-arrow:before {content: \"▸\";float: left;margin-right: 0.25em;color: #696969;}#sk-container-id-1 label.sk-toggleable__label-arrow:hover:before {color: black;}#sk-container-id-1 div.sk-estimator:hover label.sk-toggleable__label-arrow:before {color: black;}#sk-container-id-1 div.sk-toggleable__content {max-height: 0;max-width: 0;overflow: hidden;text-align: left;background-color: #f0f8ff;}#sk-container-id-1 div.sk-toggleable__content pre {margin: 0.2em;color: black;border-radius: 0.25em;background-color: #f0f8ff;}#sk-container-id-1 input.sk-toggleable__control:checked~div.sk-toggleable__content {max-height: 200px;max-width: 100%;overflow: auto;}#sk-container-id-1 input.sk-toggleable__control:checked~label.sk-toggleable__label-arrow:before {content: \"▾\";}#sk-container-id-1 div.sk-estimator input.sk-toggleable__control:checked~label.sk-toggleable__label {background-color: #d4ebff;}#sk-container-id-1 div.sk-label input.sk-toggleable__control:checked~label.sk-toggleable__label {background-color: #d4ebff;}#sk-container-id-1 input.sk-hidden--visually {border: 0;clip: rect(1px 1px 1px 1px);clip: rect(1px, 1px, 1px, 1px);height: 1px;margin: -1px;overflow: hidden;padding: 0;position: absolute;width: 1px;}#sk-container-id-1 div.sk-estimator {font-family: monospace;background-color: #f0f8ff;border: 1px dotted black;border-radius: 0.25em;box-sizing: border-box;margin-bottom: 0.5em;}#sk-container-id-1 div.sk-estimator:hover {background-color: #d4ebff;}#sk-container-id-1 div.sk-parallel-item::after {content: \"\";width: 100%;border-bottom: 1px solid gray;flex-grow: 1;}#sk-container-id-1 div.sk-label:hover label.sk-toggleable__label {background-color: #d4ebff;}#sk-container-id-1 div.sk-serial::before {content: \"\";position: absolute;border-left: 1px solid gray;box-sizing: border-box;top: 0;bottom: 0;left: 50%;z-index: 0;}#sk-container-id-1 div.sk-serial {display: flex;flex-direction: column;align-items: center;background-color: white;padding-right: 0.2em;padding-left: 0.2em;position: relative;}#sk-container-id-1 div.sk-item {position: relative;z-index: 1;}#sk-container-id-1 div.sk-parallel {display: flex;align-items: stretch;justify-content: center;background-color: white;position: relative;}#sk-container-id-1 div.sk-item::before, #sk-container-id-1 div.sk-parallel-item::before {content: \"\";position: absolute;border-left: 1px solid gray;box-sizing: border-box;top: 0;bottom: 0;left: 50%;z-index: -1;}#sk-container-id-1 div.sk-parallel-item {display: flex;flex-direction: column;z-index: 1;position: relative;background-color: white;}#sk-container-id-1 div.sk-parallel-item:first-child::after {align-self: flex-end;width: 50%;}#sk-container-id-1 div.sk-parallel-item:last-child::after {align-self: flex-start;width: 50%;}#sk-container-id-1 div.sk-parallel-item:only-child::after {width: 0;}#sk-container-id-1 div.sk-dashed-wrapped {border: 1px dashed gray;margin: 0 0.4em 0.5em 0.4em;box-sizing: border-box;padding-bottom: 0.4em;background-color: white;}#sk-container-id-1 div.sk-label label {font-family: monospace;font-weight: bold;display: inline-block;line-height: 1.2em;}#sk-container-id-1 div.sk-label-container {text-align: center;}#sk-container-id-1 div.sk-container {/* jupyter's `normalize.less` sets `[hidden] { display: none; }` but bootstrap.min.css set `[hidden] { display: none !important; }` so we also need the `!important` here to be able to override the default hidden behavior on the sphinx rendered scikit-learn.org. See: https://github.com/scikit-learn/scikit-learn/issues/21755 */display: inline-block !important;position: relative;}#sk-container-id-1 div.sk-text-repr-fallback {display: none;}</style><div id=\"sk-container-id-1\" class=\"sk-top-container\"><div class=\"sk-text-repr-fallback\"><pre>LinearRegression()</pre><b>In a Jupyter environment, please rerun this cell to show the HTML representation or trust the notebook. <br />On GitHub, the HTML representation is unable to render, please try loading this page with nbviewer.org.</b></div><div class=\"sk-container\" hidden><div class=\"sk-item\"><div class=\"sk-estimator sk-toggleable\"><input class=\"sk-toggleable__control sk-hidden--visually\" id=\"sk-estimator-id-1\" type=\"checkbox\" checked><label for=\"sk-estimator-id-1\" class=\"sk-toggleable__label sk-toggleable__label-arrow\">LinearRegression</label><div class=\"sk-toggleable__content\"><pre>LinearRegression()</pre></div></div></div></div></div>"
            ],
            "text/plain": [
              "LinearRegression()"
            ]
          },
          "execution_count": 16,
          "metadata": {},
          "output_type": "execute_result"
        }
      ],
      "source": [
        "from sklearn.linear_model import LinearRegression\n",
        "linear_final_oof = LinearRegression()\n",
        "linear_final_oof.fit(X_train_ens, y_train)"
      ]
    },
    {
      "cell_type": "code",
      "execution_count": 17,
      "metadata": {},
      "outputs": [
        {
          "name": "stderr",
          "output_type": "stream",
          "text": [
            "/home/joaquin/Documents/SMU/QTW/case_studies/QTW_CaseStudy/.venv/lib64/python3.11/site-packages/sklearn/base.py:443: UserWarning: X has feature names, but LinearRegression was fitted without feature names\n",
            "  warnings.warn(\n"
          ]
        }
      ],
      "source": [
        "oof_preds = linear_final_oof.predict(test_final)\n",
        "\n",
        "oof_preds2 = np.where(oof_preds > 0.5,1,0)"
      ]
    },
    {
      "cell_type": "code",
      "execution_count": 18,
      "metadata": {},
      "outputs": [
        {
          "data": {
            "text/plain": [
              "0.9175"
            ]
          },
          "execution_count": 18,
          "metadata": {},
          "output_type": "execute_result"
        }
      ],
      "source": [
        "precision_score(y_test, oof_preds2)"
      ]
    }
  ],
  "metadata": {
    "accelerator": "GPU",
    "colab": {
      "provenance": []
    },
    "gpuClass": "premium",
    "kernelspec": {
      "display_name": "Python 3.11.0 ('.venv': poetry)",
      "language": "python",
      "name": "python3"
    },
    "language_info": {
      "codemirror_mode": {
        "name": "ipython",
        "version": 3
      },
      "file_extension": ".py",
      "mimetype": "text/x-python",
      "name": "python",
      "nbconvert_exporter": "python",
      "pygments_lexer": "ipython3",
      "version": "3.11.0"
    },
    "orig_nbformat": 4,
    "vscode": {
      "interpreter": {
        "hash": "bd7ac1133b5b2961f6abb4ae04c224698bbe83fcd0b9af07c55b69a36c9f6c89"
      }
    }
  },
  "nbformat": 4,
  "nbformat_minor": 0
}
